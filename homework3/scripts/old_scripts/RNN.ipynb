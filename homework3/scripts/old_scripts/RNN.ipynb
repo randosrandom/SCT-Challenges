{
 "cells": [
  {
   "cell_type": "markdown",
   "id": "b6fe4325-4a15-456d-bfb6-7d7283036f2a",
   "metadata": {
    "id": "b6fe4325-4a15-456d-bfb6-7d7283036f2a",
    "tags": []
   },
   "source": [
    "# Preprocessing"
   ]
  },
  {
   "cell_type": "code",
   "execution_count": 1,
   "id": "vztKh77j6m2P",
   "metadata": {
    "colab": {
     "base_uri": "https://localhost:8080/"
    },
    "executionInfo": {
     "elapsed": 19817,
     "status": "ok",
     "timestamp": 1651051759290,
     "user": {
      "displayName": "Daniela Zanotti",
      "userId": "08454037263366696573"
     },
     "user_tz": -120
    },
    "id": "vztKh77j6m2P",
    "outputId": "5150c3d3-04dc-41ed-f6e4-68eecdd890d1"
   },
   "outputs": [
    {
     "name": "stdout",
     "output_type": "stream",
     "text": [
      "Mounted at /content/drive/\n"
     ]
    }
   ],
   "source": [
    "# from google.colab import drive\n",
    "# drive.mount('/content/drive/')"
   ]
  },
  {
   "cell_type": "code",
   "execution_count": 45,
   "id": "028c1a50-f474-4160-9314-cc082eb3bdec",
   "metadata": {
    "executionInfo": {
     "elapsed": 6589,
     "status": "ok",
     "timestamp": 1651051765874,
     "user": {
      "displayName": "Daniela Zanotti",
      "userId": "08454037263366696573"
     },
     "user_tz": -120
    },
    "id": "028c1a50-f474-4160-9314-cc082eb3bdec"
   },
   "outputs": [],
   "source": [
    "import os\n",
    "import datetime as dt\n",
    "\n",
    "import copy\n",
    "import IPython\n",
    "import numpy as np\n",
    "import pandas as pd\n",
    "import seaborn as sns\n",
    "import IPython.display\n",
    "import tensorflow as tf\n",
    "import matplotlib as mpl\n",
    "import matplotlib.pyplot as plt\n",
    "\n",
    "from scipy.signal import savgol_filter\n",
    "\n",
    "tf.keras.utils.set_random_seed(\n",
    "    987654321\n",
    ")\n",
    "\n",
    "mpl.rcParams['figure.figsize'] = (8, 6)\n",
    "mpl.rcParams['axes.grid'] = False"
   ]
  },
  {
   "cell_type": "code",
   "execution_count": 46,
   "id": "cb604438-4dbe-498c-adcf-a10b5e1806ed",
   "metadata": {
    "executionInfo": {
     "elapsed": 5,
     "status": "ok",
     "timestamp": 1651051765874,
     "user": {
      "displayName": "Daniela Zanotti",
      "userId": "08454037263366696573"
     },
     "user_tz": -120
    },
    "id": "cb604438-4dbe-498c-adcf-a10b5e1806ed"
   },
   "outputs": [],
   "source": [
    "# Macros\n",
    "BY_ZONE = False # True if you want grouping by zones (Nord, Centro, Sud, Sardegna)\n",
    "BY_REGION = True # True if you want to keep single regions"
   ]
  },
  {
   "cell_type": "code",
   "execution_count": 47,
   "id": "5d4f79d7-d64e-4733-9db1-e4575679c493",
   "metadata": {
    "executionInfo": {
     "elapsed": 259,
     "status": "ok",
     "timestamp": 1651052355015,
     "user": {
      "displayName": "Daniela Zanotti",
      "userId": "08454037263366696573"
     },
     "user_tz": -120
    },
    "id": "5d4f79d7-d64e-4733-9db1-e4575679c493",
    "tags": []
   },
   "outputs": [],
   "source": [
    "# File name\n",
    "#file_path = \"../Data/dpc-covid19-ita-regioni.csv\"\n",
    "file_path = '../Data/dpc-covid19-ita-regioni.csv'\n",
    "features_list = [\"totale_ospedalizzati\", \"nuovi_positivi\", \"dimessi_guariti\", \"deceduti\"]\n",
    "\n",
    "# Load data\n",
    "df_all = pd.read_csv(\n",
    "    file_path,\n",
    "    usecols = [\"data\", \"denominazione_regione\", \"nuovi_positivi\", \"totale_ospedalizzati\", \"dimessi_guariti\", \"deceduti\"],\n",
    "    parse_dates = True,\n",
    ")\n",
    "\n",
    "# Convert data coulumn\n",
    "df_all[\"data\"] = pd.to_datetime(df_all[\"data\"]).dt.date\n",
    "\n",
    "# Keep only latest data wrt cut_date\n",
    "cut_date_3 = dt.date(2021, 3, 1)    #(2022, 1, 10)\n",
    "cut_date_2 = dt.date(2024, 12, 1)   #(2021, 12, 1)\n",
    "cut_date_1 = dt.date(2024, 2, 1)    #(2021, 2, 1)  \n",
    "\n",
    "df_all = df_all.loc[ ((df_all[\"data\"] >= cut_date_1) & (df_all[\"data\"] <= cut_date_2)) | (df_all[\"data\"] >= cut_date_3)]"
   ]
  },
  {
   "cell_type": "code",
   "execution_count": 48,
   "id": "d0f02e5e-56d7-4ad7-b2b9-8576f0f9357b",
   "metadata": {
    "id": "d0f02e5e-56d7-4ad7-b2b9-8576f0f9357b"
   },
   "outputs": [],
   "source": [
    "# Create 4 groups of regions\n",
    "# NON SONO SICURO PERO': LUI CHIEDE ESPRESSAMENTE REGIONI!\n",
    "if BY_ZONE:\n",
    "    \n",
    "    Nord = [\"Emilia-Romagna\", \n",
    "            \"Friuli Venezia Giulia\", \n",
    "            \"Lombardia\", \n",
    "            \"P.A. Bolzano\", \n",
    "            \"P.A. Trento\", \n",
    "            \"Piemonte\", \n",
    "            \"Toscana\", \n",
    "            \"Valle d'Aosta\",\n",
    "            \"Veneto\"\n",
    "           ]\n",
    "    Centro = [\"Abruzzo\",\n",
    "              \"Lazio\",\n",
    "              \"Marche\",\n",
    "              \"Molise\",\n",
    "              \"Umbria\",\n",
    "             ]\n",
    "\n",
    "    Sud = [\"Basilicata\",\n",
    "           \"Calabria\",\n",
    "           \"Campania\",\n",
    "           \"Puglia\",\n",
    "           \"Sicilia\"\n",
    "          ]\n",
    "\n",
    "    Sardegna = [\"Sardegna\"]\n",
    "\n",
    "    df_Nord = df_all.loc[df_all['denominazione_regione'].isin(Nord)]\n",
    "    df_Nord.pop(\"denominazione_regione\")\n",
    "    df_Nord = df_Nord.groupby([\"data\"]).sum()\n",
    "    df_Nord.reset_index(drop=False, inplace=True)\n",
    "\n",
    "    df_Centro = df_all.loc[df_all['denominazione_regione'].isin(Centro)]\n",
    "    df_Centro.pop(\"denominazione_regione\")\n",
    "    df_Centro = df_Centro.groupby([\"data\"]).sum()\n",
    "    df_Centro.reset_index(drop=False, inplace=True)\n",
    "\n",
    "    \n",
    "    df_Sud = df_all.loc[df_all['denominazione_regione'].isin(Sud)]\n",
    "    df_Sud.pop(\"denominazione_regione\")\n",
    "    df_Sud = df_Sud.groupby([\"data\"]).sum()\n",
    "    df_Sud.reset_index(drop=False, inplace=True)\n",
    "\n",
    "    \n",
    "    df_Sardegna = df_all.loc[df_all['denominazione_regione'].isin(Sardegna)]\n",
    "    df_Sardegna.pop(\"denominazione_regione\")\n",
    "    df_Sardegna = df_Sardegna.groupby([\"data\"]).sum()\n",
    "    df_Sardegna.reset_index(drop=False, inplace=True)"
   ]
  },
  {
   "cell_type": "code",
   "execution_count": 49,
   "id": "9f3314c1-4bda-4ccc-ade7-87759576765b",
   "metadata": {
    "executionInfo": {
     "elapsed": 279,
     "status": "ok",
     "timestamp": 1651052361594,
     "user": {
      "displayName": "Daniela Zanotti",
      "userId": "08454037263366696573"
     },
     "user_tz": -120
    },
    "id": "9f3314c1-4bda-4ccc-ade7-87759576765b"
   },
   "outputs": [],
   "source": [
    "df_tot = pd.DataFrame()\n",
    "\n",
    "if BY_REGION:\n",
    "    \n",
    "    df_by_region = dict() # dictionary containing data for each regione\n",
    "\n",
    "    regions = list(df_all.loc[:,\"denominazione_regione\"].unique())\n",
    "    \n",
    "    for reg in regions:\n",
    "        \n",
    "        df_by_region[reg] = df_all.loc[df_all[\"denominazione_regione\"] == reg]\n",
    "        columns_={\"totale_ospedalizzati\": \"totale_ospedalizzati_\" + reg, \n",
    "                 \"nuovi_positivi\": \"nuovi_positivi_\" + reg, \n",
    "                 \"dimessi_guariti\" : \"dimessi_guariti_\" + reg, \n",
    "                 \"deceduti\": \"deceduti_\" + reg}\n",
    "        df_by_region[reg].pop(\"denominazione_regione\")\n",
    "        df_by_region[reg] = df_by_region[reg].rename(columns = columns_)\n",
    "        df_by_region[reg].set_index(\"data\", inplace = True)\n",
    "       \n",
    "        if df_tot.shape[0] == 0:\n",
    "            df_tot = df_by_region[reg].iloc[:,1:]\n",
    "        else:\n",
    "            df_tot = pd.concat([df_tot, df_by_region[reg].iloc[:,1:]], axis=1)\n"
   ]
  },
  {
   "cell_type": "markdown",
   "id": "40256ce4-1bc7-4344-b27e-d87930b8668b",
   "metadata": {
    "id": "40256ce4-1bc7-4344-b27e-d87930b8668b",
    "tags": []
   },
   "source": [
    " # RNN"
   ]
  },
  {
   "cell_type": "markdown",
   "id": "ba5bdcd0-a7c4-4238-8f82-09c7a749a657",
   "metadata": {
    "id": "ba5bdcd0-a7c4-4238-8f82-09c7a749a657"
   },
   "source": [
    "## Tensorflow modified classes "
   ]
  },
  {
   "cell_type": "code",
   "execution_count": 50,
   "id": "iGq-s9GluLWd",
   "metadata": {
    "executionInfo": {
     "elapsed": 354,
     "status": "ok",
     "timestamp": 1651052364546,
     "user": {
      "displayName": "Daniela Zanotti",
      "userId": "08454037263366696573"
     },
     "user_tz": -120
    },
    "id": "iGq-s9GluLWd"
   },
   "outputs": [],
   "source": [
    "# FUNCTIONALITIES\n",
    "\n",
    "# Window generator\n",
    "class WindowGenerator():\n",
    "  def __init__(self, input_width, label_width, shift,\n",
    "               train_df, val_df=None, test_df=None,\n",
    "               label_columns=None, batch_size = 32):\n",
    "    # Store the raw data.\n",
    "    self.train_df = train_df\n",
    "    self.val_df = val_df\n",
    "    self.test_df = test_df\n",
    "    self.batch_size = batch_size\n",
    "    \n",
    "    # Work out the label column indices.\n",
    "    self.label_columns = label_columns\n",
    "    if label_columns is not None:\n",
    "      self.label_columns_indices = {name: i for i, name in\n",
    "                                    enumerate(label_columns)}\n",
    "    self.column_indices = {name: i for i, name in\n",
    "                           enumerate(train_df.columns)}\n",
    "\n",
    "    # Work out the window parameters.\n",
    "    self.input_width = input_width\n",
    "    self.label_width = label_width\n",
    "    self.shift = shift\n",
    "\n",
    "    self.total_window_size = input_width + shift\n",
    "\n",
    "    self.input_slice = slice(0, input_width)\n",
    "    self.input_indices = np.arange(self.total_window_size)[self.input_slice]\n",
    "\n",
    "    self.label_start = self.total_window_size - self.label_width\n",
    "    self.labels_slice = slice(self.label_start, None)\n",
    "    self.label_indices = np.arange(self.total_window_size)[self.labels_slice]\n",
    "\n",
    "  def __repr__(self):\n",
    "    return '\\n'.join([\n",
    "        f'Total window size: {self.total_window_size}',\n",
    "        f'Input indices: {self.input_indices}',\n",
    "        f'Label indices: {self.label_indices}',\n",
    "        f'Label column name(s): {self.label_columns}'])\n",
    "\n",
    "# Split window\n",
    "def split_window(self, features):\n",
    "  inputs = features[:, self.input_slice, :]\n",
    "  labels = features[:, self.labels_slice, :]\n",
    "  if self.label_columns is not None:\n",
    "    labels = tf.stack(\n",
    "        [labels[:, :, self.column_indices[name]] for name in self.label_columns],\n",
    "        axis=-1)\n",
    "\n",
    "  # Slicing doesn't preserve static shape information, so set the shapes\n",
    "  # manually. This way the `tf.data.Datasets` are easier to inspect.\n",
    "  inputs.set_shape([None, self.input_width, None])\n",
    "  labels.set_shape([None, self.label_width, None])\n",
    "\n",
    "  return inputs, labels\n",
    "\n",
    "WindowGenerator.split_window = split_window\n",
    "\n",
    "# plot function\n",
    "def plot(self, model=None, plot_col='nuovi_positivi_Lombardia', max_subplots=32):\n",
    "  inputs, labels = self.example\n",
    "  plt.figure(figsize=(12, 8))\n",
    "  plot_col_index = self.column_indices[plot_col]\n",
    "  max_n = min(max_subplots, len(inputs))\n",
    "  for n in range(max_n):\n",
    "    plt.figure()\n",
    "    #plt.subplot(max_n, 1, n+1)\n",
    "    plt.ylabel(f'{plot_col} [normed]')\n",
    "    plt.plot(self.input_indices, inputs[n, :, plot_col_index],\n",
    "             label='Inputs', marker='.', zorder=-10)\n",
    "\n",
    "    if self.label_columns:\n",
    "      label_col_index = self.label_columns_indices.get(plot_col, None)\n",
    "    else:\n",
    "      label_col_index = plot_col_index\n",
    "\n",
    "    if label_col_index is None:\n",
    "      continue\n",
    "\n",
    "    plt.scatter(self.label_indices, labels[n, :, label_col_index],\n",
    "                edgecolors='k', label='Labels', c='#2ca02c', s=64)\n",
    "    if model is not None:\n",
    "      predictions = model(inputs)\n",
    "      plt.scatter(self.label_indices, predictions[n, :, label_col_index],\n",
    "                  marker='X', edgecolors='k', label='Predictions',\n",
    "                  c='#ff7f0e', s=64)\n",
    "\n",
    "    if n == 0:\n",
    "      plt.legend()\n",
    "\n",
    "  plt.xlabel('Time [h]')\n",
    "\n",
    "WindowGenerator.plot = plot\n",
    "\n",
    "# make tf.dataset\n",
    "def make_dataset(self, data, batch_size):\n",
    "  data = np.array(data, dtype=np.float32)\n",
    "  ds = tf.keras.utils.timeseries_dataset_from_array(\n",
    "      data=data,\n",
    "      targets=None,\n",
    "      sequence_length=self.total_window_size,\n",
    "      sequence_stride=1,\n",
    "      shuffle=False,\n",
    "      batch_size=batch_size,)\n",
    "\n",
    "  ds = ds.map(self.split_window)\n",
    "\n",
    "  return ds\n",
    "\n",
    "WindowGenerator.make_dataset = make_dataset\n",
    "\n",
    "# Properties\n",
    "@property\n",
    "def train(self):\n",
    "  return self.make_dataset(self.train_df, self.batch_size)\n",
    "\n",
    "@property\n",
    "def val(self):\n",
    "  return self.make_dataset(self.val_df, self.batch_size)\n",
    "\n",
    "@property\n",
    "def test(self):\n",
    "  return self.make_dataset(self.test_df, self.batch_size)\n",
    "\n",
    "@property\n",
    "def example(self):\n",
    "  \"\"\"Get and cache an example batch of `inputs, labels` for plotting.\"\"\"\n",
    "  result = getattr(self, '_example', None)\n",
    "  if result is None:\n",
    "    # No example batch was found, so get one from the `.train` dataset\n",
    "    result = next(iter(self.train))\n",
    "    # And cache it for next time\n",
    "    self._example = result\n",
    "  return result\n",
    "\n",
    "WindowGenerator.train = train\n",
    "WindowGenerator.val = val\n",
    "WindowGenerator.test = test\n",
    "WindowGenerator.example = example"
   ]
  },
  {
   "cell_type": "markdown",
   "id": "149078a5-9d82-493f-8d6a-ff3c8aa77592",
   "metadata": {
    "id": "149078a5-9d82-493f-8d6a-ff3c8aa77592"
   },
   "source": [
    "## Training-Validation-Test sets creation"
   ]
  },
  {
   "cell_type": "code",
   "execution_count": 51,
   "id": "RnsAoAuL3aUG",
   "metadata": {
    "colab": {
     "base_uri": "https://localhost:8080/",
     "height": 475
    },
    "executionInfo": {
     "elapsed": 1315,
     "status": "ok",
     "timestamp": 1651052370780,
     "user": {
      "displayName": "Daniela Zanotti",
      "userId": "08454037263366696573"
     },
     "user_tz": -120
    },
    "id": "RnsAoAuL3aUG",
    "outputId": "10c20cb8-a926-403e-bc12-c563c22d2a9f"
   },
   "outputs": [
    {
     "data": {
      "text/plain": [
       "array([<AxesSubplot:xlabel='data'>, <AxesSubplot:xlabel='data'>,\n",
       "       <AxesSubplot:xlabel='data'>, <AxesSubplot:xlabel='data'>],\n",
       "      dtype=object)"
      ]
     },
     "execution_count": 51,
     "metadata": {},
     "output_type": "execute_result"
    },
    {
     "data": {
      "image/png": "[encoded data removed]",
      "text/plain": [
       "<Figure size 576x432 with 4 Axes>"
      ]
     },
     "metadata": {
      "needs_background": "light"
     },
     "output_type": "display_data"
    }
   ],
   "source": [
    "df_by_region['Sicilia'].plot(subplots=True)"
   ]
  },
  {
   "cell_type": "code",
   "execution_count": 52,
   "id": "dNRvvsdduX95",
   "metadata": {
    "executionInfo": {
     "elapsed": 264,
     "status": "ok",
     "timestamp": 1651053390114,
     "user": {
      "displayName": "Daniela Zanotti",
      "userId": "08454037263366696573"
     },
     "user_tz": -120
    },
    "id": "dNRvvsdduX95"
   },
   "outputs": [],
   "source": [
    "regions_train = [\"Sicilia\"]   # name of regions to train simultaneously\n",
    "\n",
    "NORMALIZATION = False\n",
    "PCT_CHANGE = True\n",
    "DIFF = False\n",
    "APPLY_SMOOTHING = False\n",
    "VALIDATION = True\n",
    "\n",
    "all_df = dict()\n",
    "all_df_1 = dict()\n",
    "all_df_2 = dict()\n",
    "train_df = dict() # dictionary of training dataFrames \n",
    "if VALIDATION:\n",
    "    val_df = dict() # dictionary of validation dataframes\n",
    "test_df = dict() # dictionary of test dataframes\n",
    "\n",
    "OUT_STEPS = 7 # length of prediction horizon (OUTPUT OF NN)\n",
    "IN_STEPS = 28 # length of input horizon (INPUT OF NN)\n",
    "SHIFT = OUT_STEPS # Can be different from OUT_STEPS (to be used with care)\n",
    "\n",
    "time_steps_for_test = OUT_STEPS # Numbers of days to keep out for the validation (in principle it should be of length: OUT_STEP+IN_STEPS), but we can use just OUT_STEPS\n",
    "if VALIDATION:\n",
    "    time_steps_for_validation = IN_STEPS+OUT_STEPS\n",
    "\n",
    "# FOR THE NORMALIZATION I USE THE MEANS OF TRAIN FOR BOTH TRAINING AND TESTING\n",
    "for reg in regions_train:\n",
    "\n",
    "    mean = 0\n",
    "    std = 1\n",
    "\n",
    "    if PCT_CHANGE:\n",
    "\n",
    "      all_df_1[reg] = copy.deepcopy(df_by_region[reg].loc[ ((df_by_region[reg].index >= cut_date_1) & (df_by_region[reg].index <= cut_date_2)) ])\n",
    "      all_df_2[reg] = copy.deepcopy(df_by_region[reg].loc[ (df_by_region[reg].index >= cut_date_3)])\n",
    "      all_df_1[reg] = all_df_1[reg].pct_change().dropna()\n",
    "      all_df_2[reg] = all_df_2[reg].pct_change().dropna()\n",
    "      all_df[reg] = pd.concat([all_df_1[reg], all_df_2[reg]], axis = 0, ignore_index = True)\n",
    "    \n",
    "    if DIFF:\n",
    "\n",
    "      all_df_1[reg] = copy.deepcopy(df_by_region[reg].loc[ ((df_by_region[reg].index >= cut_date_1) & (df_by_region[reg].index <= cut_date_2)) ])\n",
    "      all_df_2[reg] = copy.deepcopy(df_by_region[reg].loc[ (df_by_region[reg].index >= cut_date_3)])\n",
    "      all_df_1[reg] = all_df_1[reg].diff().dropna()\n",
    "      all_df_2[reg] = all_df_2[reg].diff().dropna()\n",
    "      all_df[reg] = pd.concat([all_df_1[reg], all_df_2[reg]], axis = 0, ignore_index = True)\n",
    "    \n",
    "    if NORMALIZATION:\n",
    "      mean = all_df[reg].iloc[:-time_steps_for_test,:].mean()\n",
    "      std = all_df[reg].iloc[:-time_steps_for_test,:].std()\n",
    "      \n",
    "    all_df[reg] = ( all_df[reg] - mean ) / std\n",
    "\n",
    "    if APPLY_SMOOTHING:\n",
    "        \n",
    "        window_length = 3 # MUST BE ODD; if you put 7 you obtain just the trend\n",
    "        polyorder = 1 # Try also 2, 3, ...\n",
    "        \n",
    "        all_df[reg].loc[:, \"{}_{}\".format(\"nuovi_positivi\", reg)] = savgol_filter(\n",
    "                all_df[reg].loc[:, \"{}_{}\".format(\"nuovi_positivi\", reg)],\n",
    "                window_length,\n",
    "                polyorder\n",
    "            )\n",
    "    \n",
    "    if VALIDATION:\n",
    "        train_df[reg] = all_df[reg].iloc[:-(time_steps_for_test + time_steps_for_validation),:]\n",
    "        val_df[reg] = all_df[reg].iloc[ -(time_steps_for_test + time_steps_for_validation) : -time_steps_for_test, :]\n",
    "        test_df[reg] = all_df[reg].iloc[-time_steps_for_test:,:]\n",
    "    else:\n",
    "        train_df[reg] = all_df[reg].iloc[:-time_steps_for_test,:]\n",
    "        test_df[reg] = all_df[reg].iloc[-time_steps_for_test:,:]\n",
    "\n",
    "\n",
    "    train_df[regions_train[0]] = train_df[regions_train[0]].replace([np.inf, -np.inf], np.nan).dropna()\n",
    "\n",
    "windows = dict() # dictionary of windows for each region\n",
    "    \n",
    "for reg in regions_train:\n",
    "    if VALIDATION:\n",
    "        windows[reg] =  WindowGenerator(input_width=IN_STEPS,\n",
    "                                        label_width=OUT_STEPS,\n",
    "                                        shift=SHIFT,\n",
    "                                        train_df = train_df[reg],\n",
    "                                        val_df = val_df[reg],\n",
    "                                        batch_size = 8, ### DEAFULT = 32; can be modified by hand being careful\n",
    "                                        #label_columns=['{}_{}'.format(\"nuovi_positivi\", reg)] ### labels to train; we might split the training for the features since it may help the models...\n",
    "                                        )\n",
    "    else:\n",
    "        windows[reg] =  WindowGenerator(input_width=IN_STEPS,\n",
    "                                label_width=OUT_STEPS,\n",
    "                                shift=SHIFT,\n",
    "                                train_df = train_df[reg],\n",
    "                                batch_size = 1, ### DEAFULT = 32; can be modified by hand being careful\n",
    "                                #label_columns=['{}_{}'.format(\"nuovi_positivi\", reg)] ### labels to train; we might split the training for the features since it may help the models...\n",
    "                                )\n",
    "        \n",
    "def plot_feature(reg, feature, model = None, max_figures = 3):\n",
    "    windows[reg].plot(model = model, plot_col = \"{}_{}\".format(feature, region), max_subplots=max_figures)\n",
    "    plt.xticks(rotation=90)\n",
    "    print(\"To view all the figures, increase max_figures\")"
   ]
  },
  {
   "cell_type": "code",
   "execution_count": 53,
   "id": "GGd4WPr0bE57",
   "metadata": {
    "executionInfo": {
     "elapsed": 242,
     "status": "ok",
     "timestamp": 1651053295832,
     "user": {
      "displayName": "Daniela Zanotti",
      "userId": "08454037263366696573"
     },
     "user_tz": -120
    },
    "id": "GGd4WPr0bE57"
   },
   "outputs": [],
   "source": [
    "#Per Sicilia \n",
    "\n",
    "train_df[regions_train[0]] = train_df[regions_train[0]].replace([np.inf, -np.inf], np.nan).dropna()\n",
    "train_df[regions_train[0]][train_df[regions_train[0]].isna().any(axis=1)]\n",
    "train_df[regions_train[0]] = train_df[regions_train[0]].dropna()"
   ]
  },
  {
   "cell_type": "code",
   "execution_count": 54,
   "id": "2abf3f62-8c2b-443d-addc-56d2ccafa084",
   "metadata": {
    "colab": {
     "base_uri": "https://localhost:8080/",
     "height": 417
    },
    "executionInfo": {
     "elapsed": 1652,
     "status": "ok",
     "timestamp": 1651053396084,
     "user": {
      "displayName": "Daniela Zanotti",
      "userId": "08454037263366696573"
     },
     "user_tz": -120
    },
    "id": "2abf3f62-8c2b-443d-addc-56d2ccafa084",
    "outputId": "73c434c1-ec2a-4942-fe1c-2cc3fbf7d4e6"
   },
   "outputs": [
    {
     "data": {
      "text/plain": [
       "(array([-50.,   0.,  50., 100., 150., 200., 250., 300., 350., 400.]),\n",
       " [Text(0, 0, ''),\n",
       "  Text(0, 0, ''),\n",
       "  Text(0, 0, ''),\n",
       "  Text(0, 0, ''),\n",
       "  Text(0, 0, ''),\n",
       "  Text(0, 0, ''),\n",
       "  Text(0, 0, ''),\n",
       "  Text(0, 0, ''),\n",
       "  Text(0, 0, ''),\n",
       "  Text(0, 0, '')])"
      ]
     },
     "execution_count": 54,
     "metadata": {},
     "output_type": "execute_result"
    },
    {
     "data": {
      "image/png": "[encoded data removed]",
      "text/plain": [
       "<Figure size 576x432 with 4 Axes>"
      ]
     },
     "metadata": {
      "needs_background": "light"
     },
     "output_type": "display_data"
    }
   ],
   "source": [
    "# check the training\n",
    "train_df[regions_train[0]].plot(subplots=True)\n",
    "plt.xticks(rotation=90)"
   ]
  },
  {
   "cell_type": "code",
   "execution_count": 15,
   "id": "CKzQhf9tmJAs",
   "metadata": {
    "colab": {
     "base_uri": "https://localhost:8080/",
     "height": 470
    },
    "executionInfo": {
     "elapsed": 1148,
     "status": "ok",
     "timestamp": 1650810172385,
     "user": {
      "displayName": "Daniela Zanotti",
      "userId": "08454037263366696573"
     },
     "user_tz": -120
    },
    "id": "CKzQhf9tmJAs",
    "outputId": "f3039099-9de5-4743-fc61-a6a0a8b78c56"
   },
   "outputs": [
    {
     "ename": "KeyError",
     "evalue": "'nuovi_positivi_Lombardia'",
     "output_type": "error",
     "traceback": [
      "\u001b[0;31m---------------------------------------------------------------------------\u001b[0m",
      "\u001b[0;31mKeyError\u001b[0m                                  Traceback (most recent call last)",
      "File \u001b[0;32m~/miniconda3/envs/SCT/lib/python3.8/site-packages/pandas/core/indexes/base.py:3621\u001b[0m, in \u001b[0;36mIndex.get_loc\u001b[0;34m(self, key, method, tolerance)\u001b[0m\n\u001b[1;32m   3620\u001b[0m \u001b[38;5;28;01mtry\u001b[39;00m:\n\u001b[0;32m-> 3621\u001b[0m     \u001b[38;5;28;01mreturn\u001b[39;00m \u001b[38;5;28;43mself\u001b[39;49m\u001b[38;5;241;43m.\u001b[39;49m\u001b[43m_engine\u001b[49m\u001b[38;5;241;43m.\u001b[39;49m\u001b[43mget_loc\u001b[49m\u001b[43m(\u001b[49m\u001b[43mcasted_key\u001b[49m\u001b[43m)\u001b[49m\n\u001b[1;32m   3622\u001b[0m \u001b[38;5;28;01mexcept\u001b[39;00m \u001b[38;5;167;01mKeyError\u001b[39;00m \u001b[38;5;28;01mas\u001b[39;00m err:\n",
      "File \u001b[0;32m~/miniconda3/envs/SCT/lib/python3.8/site-packages/pandas/_libs/index.pyx:136\u001b[0m, in \u001b[0;36mpandas._libs.index.IndexEngine.get_loc\u001b[0;34m()\u001b[0m\n",
      "File \u001b[0;32m~/miniconda3/envs/SCT/lib/python3.8/site-packages/pandas/_libs/index.pyx:163\u001b[0m, in \u001b[0;36mpandas._libs.index.IndexEngine.get_loc\u001b[0;34m()\u001b[0m\n",
      "File \u001b[0;32mpandas/_libs/hashtable_class_helper.pxi:5198\u001b[0m, in \u001b[0;36mpandas._libs.hashtable.PyObjectHashTable.get_item\u001b[0;34m()\u001b[0m\n",
      "File \u001b[0;32mpandas/_libs/hashtable_class_helper.pxi:5206\u001b[0m, in \u001b[0;36mpandas._libs.hashtable.PyObjectHashTable.get_item\u001b[0;34m()\u001b[0m\n",
      "\u001b[0;31mKeyError\u001b[0m: 'nuovi_positivi_Lombardia'",
      "\nThe above exception was the direct cause of the following exception:\n",
      "\u001b[0;31mKeyError\u001b[0m                                  Traceback (most recent call last)",
      "Input \u001b[0;32mIn [15]\u001b[0m, in \u001b[0;36m<cell line: 16>\u001b[0;34m()\u001b[0m\n\u001b[1;32m      8\u001b[0m savgol_smooth \u001b[38;5;241m=\u001b[39m copy\u001b[38;5;241m.\u001b[39mdeepcopy(train_df)\n\u001b[1;32m     10\u001b[0m savgol_smooth[reg]\u001b[38;5;241m.\u001b[39mloc[:, \u001b[38;5;124m\"\u001b[39m\u001b[38;5;132;01m{}\u001b[39;00m\u001b[38;5;124m_\u001b[39m\u001b[38;5;132;01m{}\u001b[39;00m\u001b[38;5;124m\"\u001b[39m\u001b[38;5;241m.\u001b[39mformat(\u001b[38;5;124m\"\u001b[39m\u001b[38;5;124mnuovi_positivi\u001b[39m\u001b[38;5;124m\"\u001b[39m, reg)] \u001b[38;5;241m=\u001b[39m savgol_filter(\n\u001b[1;32m     11\u001b[0m                 savgol_smooth[reg]\u001b[38;5;241m.\u001b[39mloc[:, \u001b[38;5;124m\"\u001b[39m\u001b[38;5;132;01m{}\u001b[39;00m\u001b[38;5;124m_\u001b[39m\u001b[38;5;132;01m{}\u001b[39;00m\u001b[38;5;124m\"\u001b[39m\u001b[38;5;241m.\u001b[39mformat(\u001b[38;5;124m\"\u001b[39m\u001b[38;5;124mnuovi_positivi\u001b[39m\u001b[38;5;124m\"\u001b[39m, reg)],\n\u001b[1;32m     12\u001b[0m                 window_length,\n\u001b[1;32m     13\u001b[0m                 polyorder\n\u001b[1;32m     14\u001b[0m             )\n\u001b[0;32m---> 16\u001b[0m window_smooth \u001b[38;5;241m=\u001b[39m \u001b[43mtrain_df\u001b[49m\u001b[43m[\u001b[49m\u001b[43mreg\u001b[49m\u001b[43m]\u001b[49m\u001b[43m[\u001b[49m\u001b[38;5;124;43m'\u001b[39;49m\u001b[38;5;124;43mnuovi_positivi_Lombardia\u001b[39;49m\u001b[38;5;124;43m'\u001b[39;49m\u001b[43m]\u001b[49m\u001b[38;5;241m.\u001b[39mrolling(window\u001b[38;5;241m=\u001b[39m\u001b[38;5;241m2\u001b[39m)\u001b[38;5;241m.\u001b[39mmean()\n\u001b[1;32m     18\u001b[0m train_df[regions_train[\u001b[38;5;241m0\u001b[39m]][\u001b[38;5;124m'\u001b[39m\u001b[38;5;124mnuovi_positivi_Lombardia\u001b[39m\u001b[38;5;124m'\u001b[39m]\u001b[38;5;241m.\u001b[39mplot(label \u001b[38;5;241m=\u001b[39m \u001b[38;5;124m'\u001b[39m\u001b[38;5;124mOriginal\u001b[39m\u001b[38;5;124m'\u001b[39m)\n\u001b[1;32m     19\u001b[0m savgol_smooth[reg][\u001b[38;5;124m'\u001b[39m\u001b[38;5;124mnuovi_positivi_Lombardia\u001b[39m\u001b[38;5;124m'\u001b[39m]\u001b[38;5;241m.\u001b[39mplot(label \u001b[38;5;241m=\u001b[39m \u001b[38;5;124m'\u001b[39m\u001b[38;5;124msavgol\u001b[39m\u001b[38;5;124m'\u001b[39m)\n",
      "File \u001b[0;32m~/miniconda3/envs/SCT/lib/python3.8/site-packages/pandas/core/frame.py:3505\u001b[0m, in \u001b[0;36mDataFrame.__getitem__\u001b[0;34m(self, key)\u001b[0m\n\u001b[1;32m   3503\u001b[0m \u001b[38;5;28;01mif\u001b[39;00m \u001b[38;5;28mself\u001b[39m\u001b[38;5;241m.\u001b[39mcolumns\u001b[38;5;241m.\u001b[39mnlevels \u001b[38;5;241m>\u001b[39m \u001b[38;5;241m1\u001b[39m:\n\u001b[1;32m   3504\u001b[0m     \u001b[38;5;28;01mreturn\u001b[39;00m \u001b[38;5;28mself\u001b[39m\u001b[38;5;241m.\u001b[39m_getitem_multilevel(key)\n\u001b[0;32m-> 3505\u001b[0m indexer \u001b[38;5;241m=\u001b[39m \u001b[38;5;28;43mself\u001b[39;49m\u001b[38;5;241;43m.\u001b[39;49m\u001b[43mcolumns\u001b[49m\u001b[38;5;241;43m.\u001b[39;49m\u001b[43mget_loc\u001b[49m\u001b[43m(\u001b[49m\u001b[43mkey\u001b[49m\u001b[43m)\u001b[49m\n\u001b[1;32m   3506\u001b[0m \u001b[38;5;28;01mif\u001b[39;00m is_integer(indexer):\n\u001b[1;32m   3507\u001b[0m     indexer \u001b[38;5;241m=\u001b[39m [indexer]\n",
      "File \u001b[0;32m~/miniconda3/envs/SCT/lib/python3.8/site-packages/pandas/core/indexes/base.py:3623\u001b[0m, in \u001b[0;36mIndex.get_loc\u001b[0;34m(self, key, method, tolerance)\u001b[0m\n\u001b[1;32m   3621\u001b[0m     \u001b[38;5;28;01mreturn\u001b[39;00m \u001b[38;5;28mself\u001b[39m\u001b[38;5;241m.\u001b[39m_engine\u001b[38;5;241m.\u001b[39mget_loc(casted_key)\n\u001b[1;32m   3622\u001b[0m \u001b[38;5;28;01mexcept\u001b[39;00m \u001b[38;5;167;01mKeyError\u001b[39;00m \u001b[38;5;28;01mas\u001b[39;00m err:\n\u001b[0;32m-> 3623\u001b[0m     \u001b[38;5;28;01mraise\u001b[39;00m \u001b[38;5;167;01mKeyError\u001b[39;00m(key) \u001b[38;5;28;01mfrom\u001b[39;00m \u001b[38;5;21;01merr\u001b[39;00m\n\u001b[1;32m   3624\u001b[0m \u001b[38;5;28;01mexcept\u001b[39;00m \u001b[38;5;167;01mTypeError\u001b[39;00m:\n\u001b[1;32m   3625\u001b[0m     \u001b[38;5;66;03m# If we have a listlike key, _check_indexing_error will raise\u001b[39;00m\n\u001b[1;32m   3626\u001b[0m     \u001b[38;5;66;03m#  InvalidIndexError. Otherwise we fall through and re-raise\u001b[39;00m\n\u001b[1;32m   3627\u001b[0m     \u001b[38;5;66;03m#  the TypeError.\u001b[39;00m\n\u001b[1;32m   3628\u001b[0m     \u001b[38;5;28mself\u001b[39m\u001b[38;5;241m.\u001b[39m_check_indexing_error(key)\n",
      "\u001b[0;31mKeyError\u001b[0m: 'nuovi_positivi_Lombardia'"
     ]
    }
   ],
   "source": [
    "# check the smoothing\n",
    "\n",
    "import copy\n",
    "\n",
    "window_length = 3 # MUST BE ODD; if you put 7 you obtain just the trend\n",
    "polyorder = 1 # Try also 2, 3, ...\n",
    "\n",
    "savgol_smooth = copy.deepcopy(train_df)\n",
    "\n",
    "savgol_smooth[reg].loc[:, \"{}_{}\".format(\"nuovi_positivi\", reg)] = savgol_filter(\n",
    "                savgol_smooth[reg].loc[:, \"{}_{}\".format(\"nuovi_positivi\", reg)],\n",
    "                window_length,\n",
    "                polyorder\n",
    "            )\n",
    "\n",
    "window_smooth = train_df[reg]['nuovi_positivi_Lombardia'].rolling(window=2).mean()\n",
    "\n",
    "train_df[regions_train[0]]['nuovi_positivi_Lombardia'].plot(label = 'Original')\n",
    "savgol_smooth[reg]['nuovi_positivi_Lombardia'].plot(label = 'savgol')\n",
    "window_smooth.dropna().plot(label=\"Rolling Window (2 days)\")\n",
    "plt.legend()\n",
    "plt.xticks(rotation=90)"
   ]
  },
  {
   "cell_type": "code",
   "execution_count": 17,
   "id": "73037adf-2384-4367-bf30-a4af81f5eebb",
   "metadata": {
    "colab": {
     "base_uri": "https://localhost:8080/",
     "height": 425
    },
    "executionInfo": {
     "elapsed": 944,
     "status": "ok",
     "timestamp": 1650969059761,
     "user": {
      "displayName": "Daniela Zanotti",
      "userId": "08454037263366696573"
     },
     "user_tz": -120
    },
    "id": "73037adf-2384-4367-bf30-a4af81f5eebb",
    "outputId": "030c3597-ab78-439e-d45f-21db78c5531b"
   },
   "outputs": [
    {
     "name": "stdout",
     "output_type": "stream",
     "text": [
      "To view all the figures, increase max_figures\n"
     ]
    },
    {
     "data": {
      "text/plain": [
       "<Figure size 864x576 with 0 Axes>"
      ]
     },
     "metadata": {},
     "output_type": "display_data"
    },
    {
     "data": {
      "image/png": "[encoded data removed]",
      "text/plain": [
       "<Figure size 576x432 with 1 Axes>"
      ]
     },
     "metadata": {
      "needs_background": "light"
     },
     "output_type": "display_data"
    },
    {
     "data": {
      "image/png": "[encoded data removed]",
      "text/plain": [
       "<Figure size 576x432 with 1 Axes>"
      ]
     },
     "metadata": {
      "needs_background": "light"
     },
     "output_type": "display_data"
    },
    {
     "data": {
      "image/png": "[encoded data removed]",
      "text/plain": [
       "<Figure size 576x432 with 1 Axes>"
      ]
     },
     "metadata": {
      "needs_background": "light"
     },
     "output_type": "display_data"
    },
    {
     "data": {
      "image/png": "[encoded data removed]",
      "text/plain": [
       "<Figure size 576x432 with 1 Axes>"
      ]
     },
     "metadata": {
      "needs_background": "light"
     },
     "output_type": "display_data"
    },
    {
     "data": {
      "image/png": "[encoded data removed]",
      "text/plain": [
       "<Figure size 576x432 with 1 Axes>"
      ]
     },
     "metadata": {
      "needs_background": "light"
     },
     "output_type": "display_data"
    },
    {
     "data": {
      "image/png": "[encoded data removed]",
      "text/plain": [
       "<Figure size 576x432 with 1 Axes>"
      ]
     },
     "metadata": {
      "needs_background": "light"
     },
     "output_type": "display_data"
    },
    {
     "data": {
      "image/png": "[encoded data removed]",
      "text/plain": [
       "<Figure size 576x432 with 1 Axes>"
      ]
     },
     "metadata": {
      "needs_background": "light"
     },
     "output_type": "display_data"
    },
    {
     "data": {
      "image/png": "[encoded data removed]",
      "text/plain": [
       "<Figure size 576x432 with 1 Axes>"
      ]
     },
     "metadata": {
      "needs_background": "light"
     },
     "output_type": "display_data"
    }
   ],
   "source": [
    "# Plot for viewing the batches\n",
    "region = \"Sicilia\"\n",
    "feature = \"deceduti\" #nuovi_positivi, dimessi_guariti, #totale_ospedalizzati\n",
    "plot_feature(region, feature, max_figures=10)"
   ]
  },
  {
   "cell_type": "code",
   "execution_count": 55,
   "id": "a227c122-7bd1-4109-b762-1cd49d09fc50",
   "metadata": {
    "executionInfo": {
     "elapsed": 337,
     "status": "ok",
     "timestamp": 1651053401267,
     "user": {
      "displayName": "Daniela Zanotti",
      "userId": "08454037263366696573"
     },
     "user_tz": -120
    },
    "id": "a227c122-7bd1-4109-b762-1cd49d09fc50"
   },
   "outputs": [],
   "source": [
    "# Creation Training set for RNN\n",
    "\n",
    "# Single region\n",
    "if len(regions_train) == 1:\n",
    "\n",
    "    X_train = windows[regions_train[0]].train\n",
    "    \n",
    "    try:\n",
    "        X_val =  windows[regions_train[0]].val\n",
    "    except:\n",
    "        print(\"Cannot create X_val for trainf with the given window size or val_df not present\")\n",
    "        X_val = None\n",
    "\n",
    "# Multiple regions\n",
    "elif len(regions_train) > 1:\n",
    "    \n",
    "    print(\"More than one region...\")\n",
    "    \n",
    "    for i in range(len(regions_train)-1):\n",
    "        \n",
    "        X_train = windows[regions_train[i]].train.concatenate(windows[regions_train[i+1]].train)\n",
    "        \n",
    "        try:\n",
    "            X_val = windows[regions_train[i]].val.concatenate(windows[regions_train[i+1]].val)\n",
    "        except:\n",
    "            print(\"Cannot create X_val for trainf with the given window size or val_df not present\")\n",
    "            X_val = None"
   ]
  },
  {
   "cell_type": "code",
   "execution_count": null,
   "id": "95fd9fbd-b5e8-41b5-b36c-875c4acfefd2",
   "metadata": {
    "id": "95fd9fbd-b5e8-41b5-b36c-875c4acfefd2"
   },
   "outputs": [],
   "source": [
    "# IN THIS WAY YOU CAN EXTRACT THE TRAINING DATASET (Solution to the problem highlighted by Nove)\n",
    "# list(X_train.as_numpy_iterator())"
   ]
  },
  {
   "cell_type": "markdown",
   "id": "9b5e0acb-df63-4225-93c3-edc2b07981a6",
   "metadata": {
    "id": "9b5e0acb-df63-4225-93c3-edc2b07981a6"
   },
   "source": [
    "## Multi-Steps"
   ]
  },
  {
   "cell_type": "code",
   "execution_count": 56,
   "id": "bc1e4f30-cf91-4621-bb29-51f87098fb1c",
   "metadata": {
    "executionInfo": {
     "elapsed": 278,
     "status": "ok",
     "timestamp": 1651053403816,
     "user": {
      "displayName": "Daniela Zanotti",
      "userId": "08454037263366696573"
     },
     "user_tz": -120
    },
    "id": "bc1e4f30-cf91-4621-bb29-51f87098fb1c"
   },
   "outputs": [],
   "source": [
    "def compile_and_fit(model, X_train, MAX_EPOCHS = 200, X_val = None, patience=30):\n",
    "  \n",
    "  if X_val == None:\n",
    "        monitor_loss = 'loss'\n",
    "  else:\n",
    "        monitor_loss = 'val_loss'\n",
    "    \n",
    "  early_stopping = tf.keras.callbacks.EarlyStopping(monitor=monitor_loss, \n",
    "                                                    patience=patience,\n",
    "                                                    mode='min')\n",
    "  \n",
    "  reduce_lr = tf.keras.callbacks.ReduceLROnPlateau(monitor='val_loss', \n",
    "                                                   factor=0.2,\n",
    "                                                   patience=15, \n",
    "                                                   min_lr=0.0001)\n",
    "  \n",
    "  #easy_checkpoint = tf.keras.callbacks.ModelCheckpoint(filepath = '/content/drive/Othercomputers/Laptop/homework3/Data/checkpoint_' + reg + '.h5',\n",
    "  #                                                     save_weights_only = False, save_freq = 'epoch', monitor = monitor_loss, mode='min', \n",
    "  #                                                     save_best_only = True, verbose = 1)\n",
    "\n",
    "  model.compile(loss=tf.losses.MeanSquaredError(),\n",
    "                optimizer=tf.optimizers.Adam(),\n",
    "                metrics=[tf.metrics.MeanAbsoluteError()])\n",
    "\n",
    "  history = model.fit(X_train, epochs=MAX_EPOCHS,\n",
    "                      validation_data=X_val,\n",
    "                      callbacks=[early_stopping, reduce_lr])    #callbacks= [early_stopping, easy_checkpoint])\n",
    "\n",
    "  return history"
   ]
  },
  {
   "cell_type": "code",
   "execution_count": null,
   "id": "p3GVyaGIzqIq",
   "metadata": {
    "id": "p3GVyaGIzqIq"
   },
   "outputs": [],
   "source": [
    "# Run if we want to start from an old model\n",
    "multi_lstm_model = tf.keras.models.load_model('/content/drive/Othercomputers/Laptop/homework3/Data/checkpoint_' + reg + '.h5')"
   ]
  },
  {
   "cell_type": "code",
   "execution_count": 57,
   "id": "8fscSRFwMAum",
   "metadata": {
    "executionInfo": {
     "elapsed": 17933,
     "status": "ok",
     "timestamp": 1651052743719,
     "user": {
      "displayName": "Daniela Zanotti",
      "userId": "08454037263366696573"
     },
     "user_tz": -120
    },
    "id": "8fscSRFwMAum"
   },
   "outputs": [],
   "source": [
    "# Current best model for LOMBARDIA\n",
    "\n",
    "num_features = 4\n",
    "\n",
    "multi_lstm_model = tf.keras.Sequential([\n",
    "    # Shape [batch, time, features] => [batch, lstm_units].\n",
    "    # Adding more `lstm_units` just overfits more quickly.\n",
    "    tf.keras.layers.LSTM(32, return_sequences=False, kernel_regularizer = 'l2'), #activation='selu'),\n",
    "    # Shape => [batch, out_steps*features].\n",
    "    tf.keras.layers.Dropout(0.1),\n",
    "    tf.keras.layers.Dense(OUT_STEPS*num_features,\n",
    "                          kernel_initializer=tf.initializers.zeros()),\n",
    "    # Shape => [batch, out_steps, features].\n",
    "    tf.keras.layers.Reshape([OUT_STEPS, num_features])\n",
    "])"
   ]
  },
  {
   "cell_type": "code",
   "execution_count": 58,
   "id": "86d179c5-1008-4f73-a35b-16dc29ea12ea",
   "metadata": {
    "id": "86d179c5-1008-4f73-a35b-16dc29ea12ea",
    "tags": []
   },
   "outputs": [],
   "source": [
    "# model for LAZIO\n",
    "\n",
    "num_features = 4\n",
    "\n",
    "multi_lstm_model = tf.keras.Sequential([\n",
    "    # Shape [batch, time, features] => [batch, lstm_units].\n",
    "    # Adding more `lstm_units` just overfits more quickly.\n",
    "    tf.keras.layers.LSTM(64, return_sequences=False, kernel_regularizer = 'l2'), #activation='selu'),\n",
    "    # Shape => [batch, out_steps*features].\n",
    "    tf.keras.layers.Dropout(0.1),\n",
    "    tf.keras.layers.Dense(OUT_STEPS*num_features,\n",
    "                          kernel_initializer=tf.initializers.zeros()),\n",
    "    # Shape => [batch, out_steps, features].\n",
    "    tf.keras.layers.Reshape([OUT_STEPS, num_features])\n",
    "])"
   ]
  },
  {
   "cell_type": "code",
   "execution_count": 62,
   "id": "exLBVws7Z3DR",
   "metadata": {
    "executionInfo": {
     "elapsed": 237,
     "status": "ok",
     "timestamp": 1651053406889,
     "user": {
      "displayName": "Daniela Zanotti",
      "userId": "08454037263366696573"
     },
     "user_tz": -120
    },
    "id": "exLBVws7Z3DR"
   },
   "outputs": [],
   "source": [
    "# model for SICILIA\n",
    "\n",
    "num_features = 4\n",
    "\n",
    "multi_lstm_model = tf.keras.Sequential([\n",
    "    # Shape [batch, time, features] => [batch, lstm_units].\n",
    "    # Adding more `lstm_units` just overfits more quickly.\n",
    "    tf.keras.layers.LSTM(32, return_sequences=False, kernel_regularizer = 'l2'), #activation='selu'),\n",
    "    # Shape => [batch, out_steps*features].\n",
    "    tf.keras.layers.Dropout(0.1),\n",
    "    tf.keras.layers.Dense(OUT_STEPS*num_features,\n",
    "                          kernel_initializer=tf.initializers.zeros()),\n",
    "    # Shape => [batch, out_steps, features].\n",
    "    tf.keras.layers.Reshape([OUT_STEPS, num_features])\n",
    "])"
   ]
  },
  {
   "cell_type": "code",
   "execution_count": 75,
   "id": "I5ODHyQSNI57",
   "metadata": {
    "colab": {
     "base_uri": "https://localhost:8080/",
     "height": 287
    },
    "executionInfo": {
     "elapsed": 305,
     "status": "error",
     "timestamp": 1651053139093,
     "user": {
      "displayName": "Daniela Zanotti",
      "userId": "08454037263366696573"
     },
     "user_tz": -120
    },
    "id": "I5ODHyQSNI57",
    "outputId": "58c85e47-8ddc-41ff-8be9-079fbe7f8360"
   },
   "outputs": [
    {
     "ename": "ValueError",
     "evalue": "ignored",
     "output_type": "error",
     "traceback": [
      "\u001b[0;31m---------------------------------------------------------------------------\u001b[0m",
      "\u001b[0;31mValueError\u001b[0m                                Traceback (most recent call last)",
      "\u001b[0;32m<ipython-input-75-9012cd0aa294>\u001b[0m in \u001b[0;36m<module>\u001b[0;34m()\u001b[0m\n\u001b[0;32m----> 1\u001b[0;31m \u001b[0mmulti_lstm_model\u001b[0m\u001b[0;34m.\u001b[0m\u001b[0msummary\u001b[0m\u001b[0;34m(\u001b[0m\u001b[0;34m)\u001b[0m    \u001b[0;31m#right if gives error\u001b[0m\u001b[0;34m\u001b[0m\u001b[0;34m\u001b[0m\u001b[0m\n\u001b[0m",
      "\u001b[0;32m/usr/local/lib/python3.7/dist-packages/keras/engine/training.py\u001b[0m in \u001b[0;36msummary\u001b[0;34m(self, line_length, positions, print_fn, expand_nested, show_trainable)\u001b[0m\n\u001b[1;32m   2774\u001b[0m     \u001b[0;32mif\u001b[0m \u001b[0;32mnot\u001b[0m \u001b[0mself\u001b[0m\u001b[0;34m.\u001b[0m\u001b[0mbuilt\u001b[0m\u001b[0;34m:\u001b[0m\u001b[0;34m\u001b[0m\u001b[0;34m\u001b[0m\u001b[0m\n\u001b[1;32m   2775\u001b[0m       raise ValueError(\n\u001b[0;32m-> 2776\u001b[0;31m           \u001b[0;34m'This model has not yet been built. '\u001b[0m\u001b[0;34m\u001b[0m\u001b[0;34m\u001b[0m\u001b[0m\n\u001b[0m\u001b[1;32m   2777\u001b[0m           \u001b[0;34m'Build the model first by calling `build()` or by calling '\u001b[0m\u001b[0;34m\u001b[0m\u001b[0;34m\u001b[0m\u001b[0m\n\u001b[1;32m   2778\u001b[0m           'the model on a batch of data.')\n",
      "\u001b[0;31mValueError\u001b[0m: This model has not yet been built. Build the model first by calling `build()` or by calling the model on a batch of data."
     ]
    }
   ],
   "source": [
    "multi_lstm_model.summary()    #right if gives error"
   ]
  },
  {
   "cell_type": "code",
   "execution_count": 63,
   "id": "256a11db-5083-4b9f-a21f-ff901509cd84",
   "metadata": {
    "colab": {
     "base_uri": "https://localhost:8080/"
    },
    "executionInfo": {
     "elapsed": 50187,
     "status": "ok",
     "timestamp": 1651053460367,
     "user": {
      "displayName": "Daniela Zanotti",
      "userId": "08454037263366696573"
     },
     "user_tz": -120
    },
    "id": "256a11db-5083-4b9f-a21f-ff901509cd84",
    "outputId": "2fc265fd-f9ea-41b7-92e7-4e4f8a7caa41"
   },
   "outputs": [
    {
     "name": "stdout",
     "output_type": "stream",
     "text": [
      "Epoch 1/500\n",
      "43/43 [==============================] - 2s 14ms/step - loss: 0.0993 - mean_absolute_error: 0.0744 - val_loss: 0.0703 - val_mean_absolute_error: 0.0738 - lr: 0.0010\n",
      "Epoch 2/500\n",
      "43/43 [==============================] - 0s 8ms/step - loss: 0.0704 - mean_absolute_error: 0.0763 - val_loss: 0.0522 - val_mean_absolute_error: 0.0793 - lr: 0.0010\n",
      "Epoch 3/500\n",
      "43/43 [==============================] - 0s 8ms/step - loss: 0.0551 - mean_absolute_error: 0.0765 - val_loss: 0.0403 - val_mean_absolute_error: 0.0764 - lr: 0.0010\n",
      "Epoch 4/500\n",
      "43/43 [==============================] - 0s 8ms/step - loss: 0.0470 - mean_absolute_error: 0.0766 - val_loss: 0.0353 - val_mean_absolute_error: 0.0775 - lr: 0.0010\n",
      "Epoch 5/500\n",
      "43/43 [==============================] - 0s 8ms/step - loss: 0.0431 - mean_absolute_error: 0.0769 - val_loss: 0.0328 - val_mean_absolute_error: 0.0770 - lr: 0.0010\n",
      "Epoch 6/500\n",
      "43/43 [==============================] - 0s 8ms/step - loss: 0.0413 - mean_absolute_error: 0.0769 - val_loss: 0.0316 - val_mean_absolute_error: 0.0771 - lr: 0.0010\n",
      "Epoch 7/500\n",
      "43/43 [==============================] - 0s 8ms/step - loss: 0.0405 - mean_absolute_error: 0.0769 - val_loss: 0.0313 - val_mean_absolute_error: 0.0772 - lr: 0.0010\n",
      "Epoch 8/500\n",
      "43/43 [==============================] - 0s 8ms/step - loss: 0.0401 - mean_absolute_error: 0.0770 - val_loss: 0.0311 - val_mean_absolute_error: 0.0772 - lr: 0.0010\n",
      "Epoch 9/500\n",
      "43/43 [==============================] - 0s 8ms/step - loss: 0.0400 - mean_absolute_error: 0.0769 - val_loss: 0.0309 - val_mean_absolute_error: 0.0771 - lr: 0.0010\n",
      "Epoch 10/500\n",
      "43/43 [==============================] - 0s 8ms/step - loss: 0.0400 - mean_absolute_error: 0.0769 - val_loss: 0.0309 - val_mean_absolute_error: 0.0770 - lr: 0.0010\n",
      "Epoch 11/500\n",
      "43/43 [==============================] - 0s 8ms/step - loss: 0.0400 - mean_absolute_error: 0.0769 - val_loss: 0.0309 - val_mean_absolute_error: 0.0771 - lr: 0.0010\n",
      "Epoch 12/500\n",
      "43/43 [==============================] - 0s 8ms/step - loss: 0.0400 - mean_absolute_error: 0.0769 - val_loss: 0.0310 - val_mean_absolute_error: 0.0771 - lr: 0.0010\n",
      "Epoch 13/500\n",
      "43/43 [==============================] - 0s 8ms/step - loss: 0.0399 - mean_absolute_error: 0.0769 - val_loss: 0.0309 - val_mean_absolute_error: 0.0770 - lr: 0.0010\n",
      "Epoch 14/500\n",
      "43/43 [==============================] - 0s 8ms/step - loss: 0.0399 - mean_absolute_error: 0.0769 - val_loss: 0.0308 - val_mean_absolute_error: 0.0770 - lr: 0.0010\n",
      "Epoch 15/500\n",
      "43/43 [==============================] - 0s 8ms/step - loss: 0.0399 - mean_absolute_error: 0.0769 - val_loss: 0.0308 - val_mean_absolute_error: 0.0769 - lr: 0.0010\n",
      "Epoch 16/500\n",
      "43/43 [==============================] - 0s 8ms/step - loss: 0.0399 - mean_absolute_error: 0.0769 - val_loss: 0.0307 - val_mean_absolute_error: 0.0768 - lr: 0.0010\n",
      "Epoch 17/500\n",
      "43/43 [==============================] - 0s 8ms/step - loss: 0.0399 - mean_absolute_error: 0.0768 - val_loss: 0.0306 - val_mean_absolute_error: 0.0766 - lr: 0.0010\n",
      "Epoch 18/500\n",
      "43/43 [==============================] - 0s 8ms/step - loss: 0.0399 - mean_absolute_error: 0.0768 - val_loss: 0.0305 - val_mean_absolute_error: 0.0765 - lr: 0.0010\n",
      "Epoch 19/500\n",
      "43/43 [==============================] - 0s 8ms/step - loss: 0.0399 - mean_absolute_error: 0.0768 - val_loss: 0.0301 - val_mean_absolute_error: 0.0761 - lr: 0.0010\n",
      "Epoch 20/500\n",
      "43/43 [==============================] - 0s 8ms/step - loss: 0.0399 - mean_absolute_error: 0.0767 - val_loss: 0.0300 - val_mean_absolute_error: 0.0758 - lr: 0.0010\n",
      "Epoch 21/500\n",
      "43/43 [==============================] - 0s 8ms/step - loss: 0.0398 - mean_absolute_error: 0.0768 - val_loss: 0.0296 - val_mean_absolute_error: 0.0753 - lr: 0.0010\n",
      "Epoch 22/500\n",
      "43/43 [==============================] - 0s 8ms/step - loss: 0.0398 - mean_absolute_error: 0.0767 - val_loss: 0.0291 - val_mean_absolute_error: 0.0747 - lr: 0.0010\n",
      "Epoch 23/500\n",
      "43/43 [==============================] - 0s 8ms/step - loss: 0.0397 - mean_absolute_error: 0.0767 - val_loss: 0.0284 - val_mean_absolute_error: 0.0736 - lr: 0.0010\n",
      "Epoch 24/500\n",
      "43/43 [==============================] - 0s 8ms/step - loss: 0.0397 - mean_absolute_error: 0.0766 - val_loss: 0.0278 - val_mean_absolute_error: 0.0723 - lr: 0.0010\n",
      "Epoch 25/500\n",
      "43/43 [==============================] - 0s 8ms/step - loss: 0.0395 - mean_absolute_error: 0.0765 - val_loss: 0.0271 - val_mean_absolute_error: 0.0707 - lr: 0.0010\n",
      "Epoch 26/500\n",
      "43/43 [==============================] - 0s 8ms/step - loss: 0.0392 - mean_absolute_error: 0.0764 - val_loss: 0.0241 - val_mean_absolute_error: 0.0653 - lr: 0.0010\n",
      "Epoch 27/500\n",
      "43/43 [==============================] - 0s 8ms/step - loss: 0.0389 - mean_absolute_error: 0.0762 - val_loss: 0.0259 - val_mean_absolute_error: 0.0661 - lr: 0.0010\n",
      "Epoch 28/500\n",
      "43/43 [==============================] - 0s 8ms/step - loss: 0.0385 - mean_absolute_error: 0.0759 - val_loss: 0.0313 - val_mean_absolute_error: 0.0774 - lr: 0.0010\n",
      "Epoch 29/500\n",
      "43/43 [==============================] - 0s 8ms/step - loss: 0.0382 - mean_absolute_error: 0.0758 - val_loss: 0.0333 - val_mean_absolute_error: 0.0787 - lr: 0.0010\n",
      "Epoch 30/500\n",
      "43/43 [==============================] - 0s 8ms/step - loss: 0.0384 - mean_absolute_error: 0.0760 - val_loss: 0.0301 - val_mean_absolute_error: 0.0701 - lr: 0.0010\n",
      "Epoch 31/500\n",
      "43/43 [==============================] - 0s 8ms/step - loss: 0.0378 - mean_absolute_error: 0.0763 - val_loss: 0.0426 - val_mean_absolute_error: 0.0960 - lr: 0.0010\n",
      "Epoch 32/500\n",
      "43/43 [==============================] - 0s 8ms/step - loss: 0.0381 - mean_absolute_error: 0.0760 - val_loss: 0.0331 - val_mean_absolute_error: 0.0768 - lr: 0.0010\n",
      "Epoch 33/500\n",
      "43/43 [==============================] - 0s 8ms/step - loss: 0.0375 - mean_absolute_error: 0.0762 - val_loss: 0.0406 - val_mean_absolute_error: 0.0928 - lr: 0.0010\n",
      "Epoch 34/500\n",
      "43/43 [==============================] - 0s 8ms/step - loss: 0.0378 - mean_absolute_error: 0.0762 - val_loss: 0.0344 - val_mean_absolute_error: 0.0802 - lr: 0.0010\n",
      "Epoch 35/500\n",
      "43/43 [==============================] - 0s 8ms/step - loss: 0.0373 - mean_absolute_error: 0.0763 - val_loss: 0.0434 - val_mean_absolute_error: 0.0984 - lr: 0.0010\n",
      "Epoch 36/500\n",
      "43/43 [==============================] - 0s 8ms/step - loss: 0.0377 - mean_absolute_error: 0.0764 - val_loss: 0.0352 - val_mean_absolute_error: 0.0817 - lr: 0.0010\n"
     ]
    }
   ],
   "source": [
    "if VALIDATION:\n",
    "    history = compile_and_fit(multi_lstm_model, X_train, X_val = X_val, MAX_EPOCHS = 500, patience = 10)\n",
    "else:\n",
    "    history = compile_and_fit(multi_lstm_model, X_train, MAX_EPOCHS = 500, patience = 10)"
   ]
  },
  {
   "cell_type": "code",
   "execution_count": 64,
   "id": "de4d65c8-891c-4dcb-b3a5-1916edbf74c4",
   "metadata": {
    "colab": {
     "base_uri": "https://localhost:8080/",
     "height": 1000
    },
    "executionInfo": {
     "elapsed": 8336,
     "status": "ok",
     "timestamp": 1650958603207,
     "user": {
      "displayName": "Daniela Zanotti",
      "userId": "08454037263366696573"
     },
     "user_tz": -120
    },
    "id": "de4d65c8-891c-4dcb-b3a5-1916edbf74c4",
    "outputId": "012f5bf2-75b5-4dcc-bcbe-8c97d252b3fe"
   },
   "outputs": [
    {
     "name": "stdout",
     "output_type": "stream",
     "text": [
      "To view all the figures, increase max_figures\n"
     ]
    },
    {
     "data": {
      "text/plain": [
       "<Figure size 864x576 with 0 Axes>"
      ]
     },
     "metadata": {},
     "output_type": "display_data"
    },
    {
     "data": {
      "image/png": "[encoded data removed]",
      "text/plain": [
       "<Figure size 576x432 with 1 Axes>"
      ]
     },
     "metadata": {
      "needs_background": "light"
     },
     "output_type": "display_data"
    },
    {
     "data": {
      "image/png": "[encoded data removed]",
      "text/plain": [
       "<Figure size 576x432 with 1 Axes>"
      ]
     },
     "metadata": {
      "needs_background": "light"
     },
     "output_type": "display_data"
    },
    {
     "data": {
      "image/png": "[encoded data removed]",
      "text/plain": [
       "<Figure size 576x432 with 1 Axes>"
      ]
     },
     "metadata": {
      "needs_background": "light"
     },
     "output_type": "display_data"
    },
    {
     "data": {
      "image/png": "[encoded data removed]",
      "text/plain": [
       "<Figure size 576x432 with 1 Axes>"
      ]
     },
     "metadata": {
      "needs_background": "light"
     },
     "output_type": "display_data"
    },
    {
     "data": {
      "image/png": "[encoded data removed]",
      "text/plain": [
       "<Figure size 576x432 with 1 Axes>"
      ]
     },
     "metadata": {
      "needs_background": "light"
     },
     "output_type": "display_data"
    },
    {
     "data": {
      "image/png": "[encoded data removed]",
      "text/plain": [
       "<Figure size 576x432 with 1 Axes>"
      ]
     },
     "metadata": {
      "needs_background": "light"
     },
     "output_type": "display_data"
    },
    {
     "data": {
      "image/png": "[encoded data removed]",
      "text/plain": [
       "<Figure size 576x432 with 1 Axes>"
      ]
     },
     "metadata": {
      "needs_background": "light"
     },
     "output_type": "display_data"
    },
    {
     "data": {
      "image/png": "[encoded data removed]",
      "text/plain": [
       "<Figure size 576x432 with 1 Axes>"
      ]
     },
     "metadata": {
      "needs_background": "light"
     },
     "output_type": "display_data"
    }
   ],
   "source": [
    "region = \"Sicilia\"\n",
    "feature = \"nuovi_positivi\"  #nuovi_positivi, dimessi_guariti, #totale_ospedalizzati #deceduti\n",
    "plot_feature(region, feature, multi_lstm_model, 10)\n",
    "\n",
    "# THE MODEL DOES NOT LEARN NUOVI_POSITVI: I THINK IT'S BEACUSE THE OTHER FEATURES HAVE AN INCREASING AND A DECREASING TREND,\n",
    "# AND THE NN IS CONFUSED. FIRST LET'S SEE IF PCT_CHANGE OR DIFF CHANGE SOMETHING ..."
   ]
  },
  {
   "cell_type": "code",
   "execution_count": 65,
   "id": "65b0b279-ef82-4a8a-b999-23a22255b074",
   "metadata": {
    "executionInfo": {
     "elapsed": 1680,
     "status": "ok",
     "timestamp": 1651052845777,
     "user": {
      "displayName": "Daniela Zanotti",
      "userId": "08454037263366696573"
     },
     "user_tz": -120
    },
    "id": "65b0b279-ef82-4a8a-b999-23a22255b074"
   },
   "outputs": [],
   "source": [
    "region = \"Sicilia\"\n",
    "\n",
    "if VALIDATION:\n",
    "    pred_x_predict = multi_lstm_model(np.array(val_df[reg].iloc[-IN_STEPS:,:]).reshape(1, IN_STEPS, 4)) \n",
    "    pred_x_predict\n",
    "else:\n",
    "    pred_x_predict = multi_lstm_model(np.array(train_df[reg].iloc[-IN_STEPS:,:]).reshape(1, IN_STEPS, 4))\n",
    "    pred_x_predict"
   ]
  },
  {
   "cell_type": "code",
   "execution_count": 66,
   "id": "1iq2xHyTthbh",
   "metadata": {
    "executionInfo": {
     "elapsed": 6,
     "status": "ok",
     "timestamp": 1651052845777,
     "user": {
      "displayName": "Daniela Zanotti",
      "userId": "08454037263366696573"
     },
     "user_tz": -120
    },
    "id": "1iq2xHyTthbh"
   },
   "outputs": [],
   "source": [
    "pr = tf.squeeze(pred_x_predict)\n",
    "prd = pd.DataFrame(pr.numpy())\n",
    "\n",
    "idx = test_df[reg].index\n",
    "\n",
    "predictions = prd.rename(columns={0: 'pred_totale_ospedalizzati_' + reg, \n",
    "                                  1: 'pred_nuovi_positivi_' + reg,\n",
    "                                  2: 'pred_dimessi_guariti_' + reg,\n",
    "                                  3: 'pred_deceduti_' + reg},\n",
    "                          index={ 0: idx[0],\n",
    "                                  1: idx[1],\n",
    "                                  2: idx[2],\n",
    "                                  3: idx[3],\n",
    "                                  4: idx[4],\n",
    "                                  5: idx[5],\n",
    "                                  6: idx[6]})"
   ]
  },
  {
   "cell_type": "code",
   "execution_count": 38,
   "id": "I7AoUNhavoSH",
   "metadata": {
    "colab": {
     "base_uri": "https://localhost:8080/",
     "height": 269
    },
    "executionInfo": {
     "elapsed": 277,
     "status": "ok",
     "timestamp": 1650967887670,
     "user": {
      "displayName": "Daniela Zanotti",
      "userId": "08454037263366696573"
     },
     "user_tz": -120
    },
    "id": "I7AoUNhavoSH",
    "outputId": "4411ee4b-3c94-4c72-cd54-115aad70ad66"
   },
   "outputs": [
    {
     "data": {
      "text/html": [
       "<div>\n",
       "<style scoped>\n",
       "    .dataframe tbody tr th:only-of-type {\n",
       "        vertical-align: middle;\n",
       "    }\n",
       "\n",
       "    .dataframe tbody tr th {\n",
       "        vertical-align: top;\n",
       "    }\n",
       "\n",
       "    .dataframe thead th {\n",
       "        text-align: right;\n",
       "    }\n",
       "</style>\n",
       "<table border=\"1\" class=\"dataframe\">\n",
       "  <thead>\n",
       "    <tr style=\"text-align: right;\">\n",
       "      <th></th>\n",
       "      <th>pred_totale_ospedalizzati_Sicilia</th>\n",
       "      <th>pred_nuovi_positivi_Sicilia</th>\n",
       "      <th>pred_dimessi_guariti_Sicilia</th>\n",
       "      <th>pred_deceduti_Sicilia</th>\n",
       "    </tr>\n",
       "  </thead>\n",
       "  <tbody>\n",
       "    <tr>\n",
       "      <th>414</th>\n",
       "      <td>-0.009781</td>\n",
       "      <td>0.487678</td>\n",
       "      <td>0.002238</td>\n",
       "      <td>0.001890</td>\n",
       "    </tr>\n",
       "    <tr>\n",
       "      <th>415</th>\n",
       "      <td>-0.026434</td>\n",
       "      <td>0.271952</td>\n",
       "      <td>0.005307</td>\n",
       "      <td>0.001715</td>\n",
       "    </tr>\n",
       "    <tr>\n",
       "      <th>416</th>\n",
       "      <td>-0.024235</td>\n",
       "      <td>-0.054403</td>\n",
       "      <td>0.003545</td>\n",
       "      <td>0.001230</td>\n",
       "    </tr>\n",
       "    <tr>\n",
       "      <th>417</th>\n",
       "      <td>-0.005629</td>\n",
       "      <td>-0.326109</td>\n",
       "      <td>0.001017</td>\n",
       "      <td>0.001150</td>\n",
       "    </tr>\n",
       "    <tr>\n",
       "      <th>418</th>\n",
       "      <td>0.017648</td>\n",
       "      <td>-0.347805</td>\n",
       "      <td>-0.000877</td>\n",
       "      <td>0.000281</td>\n",
       "    </tr>\n",
       "    <tr>\n",
       "      <th>419</th>\n",
       "      <td>0.027746</td>\n",
       "      <td>-0.078477</td>\n",
       "      <td>-0.001538</td>\n",
       "      <td>0.001113</td>\n",
       "    </tr>\n",
       "    <tr>\n",
       "      <th>420</th>\n",
       "      <td>0.019735</td>\n",
       "      <td>0.389786</td>\n",
       "      <td>-0.000848</td>\n",
       "      <td>0.002792</td>\n",
       "    </tr>\n",
       "  </tbody>\n",
       "</table>\n",
       "</div>"
      ],
      "text/plain": [
       "     pred_totale_ospedalizzati_Sicilia  pred_nuovi_positivi_Sicilia  \\\n",
       "414                          -0.009781                     0.487678   \n",
       "415                          -0.026434                     0.271952   \n",
       "416                          -0.024235                    -0.054403   \n",
       "417                          -0.005629                    -0.326109   \n",
       "418                           0.017648                    -0.347805   \n",
       "419                           0.027746                    -0.078477   \n",
       "420                           0.019735                     0.389786   \n",
       "\n",
       "     pred_dimessi_guariti_Sicilia  pred_deceduti_Sicilia  \n",
       "414                      0.002238               0.001890  \n",
       "415                      0.005307               0.001715  \n",
       "416                      0.003545               0.001230  \n",
       "417                      0.001017               0.001150  \n",
       "418                     -0.000877               0.000281  \n",
       "419                     -0.001538               0.001113  \n",
       "420                     -0.000848               0.002792  "
      ]
     },
     "execution_count": 38,
     "metadata": {},
     "output_type": "execute_result"
    }
   ],
   "source": [
    "predictions"
   ]
  },
  {
   "cell_type": "code",
   "execution_count": 39,
   "id": "KdFRwbYhHXgb",
   "metadata": {
    "colab": {
     "base_uri": "https://localhost:8080/",
     "height": 269
    },
    "executionInfo": {
     "elapsed": 252,
     "status": "ok",
     "timestamp": 1650967890439,
     "user": {
      "displayName": "Daniela Zanotti",
      "userId": "08454037263366696573"
     },
     "user_tz": -120
    },
    "id": "KdFRwbYhHXgb",
    "outputId": "e3860eae-4abf-4f63-f534-5a97f56acbda"
   },
   "outputs": [
    {
     "data": {
      "text/html": [
       "<div>\n",
       "<style scoped>\n",
       "    .dataframe tbody tr th:only-of-type {\n",
       "        vertical-align: middle;\n",
       "    }\n",
       "\n",
       "    .dataframe tbody tr th {\n",
       "        vertical-align: top;\n",
       "    }\n",
       "\n",
       "    .dataframe thead th {\n",
       "        text-align: right;\n",
       "    }\n",
       "</style>\n",
       "<table border=\"1\" class=\"dataframe\">\n",
       "  <thead>\n",
       "    <tr style=\"text-align: right;\">\n",
       "      <th></th>\n",
       "      <th>totale_ospedalizzati_Sicilia</th>\n",
       "      <th>nuovi_positivi_Sicilia</th>\n",
       "      <th>dimessi_guariti_Sicilia</th>\n",
       "      <th>deceduti_Sicilia</th>\n",
       "    </tr>\n",
       "  </thead>\n",
       "  <tbody>\n",
       "    <tr>\n",
       "      <th>414</th>\n",
       "      <td>-0.043611</td>\n",
       "      <td>2.586945</td>\n",
       "      <td>0.015134</td>\n",
       "      <td>0.002795</td>\n",
       "    </tr>\n",
       "    <tr>\n",
       "      <th>415</th>\n",
       "      <td>-0.012725</td>\n",
       "      <td>-0.277936</td>\n",
       "      <td>0.010721</td>\n",
       "      <td>0.003075</td>\n",
       "    </tr>\n",
       "    <tr>\n",
       "      <th>416</th>\n",
       "      <td>-0.046187</td>\n",
       "      <td>-0.000591</td>\n",
       "      <td>0.009783</td>\n",
       "      <td>0.002587</td>\n",
       "    </tr>\n",
       "    <tr>\n",
       "      <th>417</th>\n",
       "      <td>-0.013514</td>\n",
       "      <td>-0.026005</td>\n",
       "      <td>0.008661</td>\n",
       "      <td>0.001338</td>\n",
       "    </tr>\n",
       "    <tr>\n",
       "      <th>418</th>\n",
       "      <td>-0.011416</td>\n",
       "      <td>-0.188107</td>\n",
       "      <td>0.001381</td>\n",
       "      <td>0.000668</td>\n",
       "    </tr>\n",
       "    <tr>\n",
       "      <th>419</th>\n",
       "      <td>-0.005774</td>\n",
       "      <td>-0.557299</td>\n",
       "      <td>0.001603</td>\n",
       "      <td>0.000668</td>\n",
       "    </tr>\n",
       "    <tr>\n",
       "      <th>420</th>\n",
       "      <td>0.037166</td>\n",
       "      <td>0.014631</td>\n",
       "      <td>0.001495</td>\n",
       "      <td>0.001048</td>\n",
       "    </tr>\n",
       "  </tbody>\n",
       "</table>\n",
       "</div>"
      ],
      "text/plain": [
       "     totale_ospedalizzati_Sicilia  nuovi_positivi_Sicilia  \\\n",
       "414                     -0.043611                2.586945   \n",
       "415                     -0.012725               -0.277936   \n",
       "416                     -0.046187               -0.000591   \n",
       "417                     -0.013514               -0.026005   \n",
       "418                     -0.011416               -0.188107   \n",
       "419                     -0.005774               -0.557299   \n",
       "420                      0.037166                0.014631   \n",
       "\n",
       "     dimessi_guariti_Sicilia  deceduti_Sicilia  \n",
       "414                 0.015134          0.002795  \n",
       "415                 0.010721          0.003075  \n",
       "416                 0.009783          0.002587  \n",
       "417                 0.008661          0.001338  \n",
       "418                 0.001381          0.000668  \n",
       "419                 0.001603          0.000668  \n",
       "420                 0.001495          0.001048  "
      ]
     },
     "execution_count": 39,
     "metadata": {},
     "output_type": "execute_result"
    }
   ],
   "source": [
    "test_df[reg]"
   ]
  },
  {
   "cell_type": "code",
   "execution_count": 40,
   "id": "SzaggkjW1fQM",
   "metadata": {
    "executionInfo": {
     "elapsed": 226,
     "status": "ok",
     "timestamp": 1651052850062,
     "user": {
      "displayName": "Daniela Zanotti",
      "userId": "08454037263366696573"
     },
     "user_tz": -120
    },
    "id": "SzaggkjW1fQM"
   },
   "outputs": [],
   "source": [
    "concatenated_df = pd.concat([predictions, test_df[reg]], axis=1)\n",
    "\n",
    "errors = pd.DataFrame()\n",
    "for i in range(4):\n",
    "  errors = pd.concat([errors, concatenated_df.iloc[:, i] - concatenated_df.iloc[:, i+4]], axis = 1, ignore_index=True)"
   ]
  },
  {
   "cell_type": "code",
   "execution_count": 41,
   "id": "-czpJ4qm3JL5",
   "metadata": {
    "colab": {
     "base_uri": "https://localhost:8080/",
     "height": 269
    },
    "executionInfo": {
     "elapsed": 6,
     "status": "ok",
     "timestamp": 1651052851564,
     "user": {
      "displayName": "Daniela Zanotti",
      "userId": "08454037263366696573"
     },
     "user_tz": -120
    },
    "id": "-czpJ4qm3JL5",
    "outputId": "0d4b514b-1afe-4f19-f304-1d0f39a5301b"
   },
   "outputs": [
    {
     "data": {
      "text/html": [
       "<div>\n",
       "<style scoped>\n",
       "    .dataframe tbody tr th:only-of-type {\n",
       "        vertical-align: middle;\n",
       "    }\n",
       "\n",
       "    .dataframe tbody tr th {\n",
       "        vertical-align: top;\n",
       "    }\n",
       "\n",
       "    .dataframe thead th {\n",
       "        text-align: right;\n",
       "    }\n",
       "</style>\n",
       "<table border=\"1\" class=\"dataframe\">\n",
       "  <thead>\n",
       "    <tr style=\"text-align: right;\">\n",
       "      <th></th>\n",
       "      <th>0</th>\n",
       "      <th>1</th>\n",
       "      <th>2</th>\n",
       "      <th>3</th>\n",
       "    </tr>\n",
       "  </thead>\n",
       "  <tbody>\n",
       "    <tr>\n",
       "      <th>414</th>\n",
       "      <td>0.033830</td>\n",
       "      <td>-2.099267</td>\n",
       "      <td>-0.012896</td>\n",
       "      <td>-0.000905</td>\n",
       "    </tr>\n",
       "    <tr>\n",
       "      <th>415</th>\n",
       "      <td>-0.013709</td>\n",
       "      <td>0.549888</td>\n",
       "      <td>-0.005413</td>\n",
       "      <td>-0.001360</td>\n",
       "    </tr>\n",
       "    <tr>\n",
       "      <th>416</th>\n",
       "      <td>0.021952</td>\n",
       "      <td>-0.053812</td>\n",
       "      <td>-0.006238</td>\n",
       "      <td>-0.001357</td>\n",
       "    </tr>\n",
       "    <tr>\n",
       "      <th>417</th>\n",
       "      <td>0.007885</td>\n",
       "      <td>-0.300104</td>\n",
       "      <td>-0.007644</td>\n",
       "      <td>-0.000188</td>\n",
       "    </tr>\n",
       "    <tr>\n",
       "      <th>418</th>\n",
       "      <td>0.029063</td>\n",
       "      <td>-0.159698</td>\n",
       "      <td>-0.002258</td>\n",
       "      <td>-0.000387</td>\n",
       "    </tr>\n",
       "    <tr>\n",
       "      <th>419</th>\n",
       "      <td>0.033520</td>\n",
       "      <td>0.478823</td>\n",
       "      <td>-0.003140</td>\n",
       "      <td>0.000446</td>\n",
       "    </tr>\n",
       "    <tr>\n",
       "      <th>420</th>\n",
       "      <td>-0.017431</td>\n",
       "      <td>0.375154</td>\n",
       "      <td>-0.002343</td>\n",
       "      <td>0.001743</td>\n",
       "    </tr>\n",
       "  </tbody>\n",
       "</table>\n",
       "</div>"
      ],
      "text/plain": [
       "            0         1         2         3\n",
       "414  0.033830 -2.099267 -0.012896 -0.000905\n",
       "415 -0.013709  0.549888 -0.005413 -0.001360\n",
       "416  0.021952 -0.053812 -0.006238 -0.001357\n",
       "417  0.007885 -0.300104 -0.007644 -0.000188\n",
       "418  0.029063 -0.159698 -0.002258 -0.000387\n",
       "419  0.033520  0.478823 -0.003140  0.000446\n",
       "420 -0.017431  0.375154 -0.002343  0.001743"
      ]
     },
     "execution_count": 41,
     "metadata": {},
     "output_type": "execute_result"
    }
   ],
   "source": [
    "errors    #ordine: totale_ospedalizzati\tnuovi_positivi\tdimessi_guariti\tdeceduti"
   ]
  },
  {
   "cell_type": "code",
   "execution_count": null,
   "id": "3N7eQUi-6ASv",
   "metadata": {
    "id": "3N7eQUi-6ASv"
   },
   "outputs": [],
   "source": [
    "# Nuovi positivi \n",
    "\n",
    "plt.scatter(predictions.index, predictions['pred_nuovi_positivi_Lombardia'], label = 'Predictions')\n",
    "plt.scatter(predictions.index, test_df[reg]['nuovi_positivi_Lombardia'], label = 'Data')\n",
    "plt.legend()"
   ]
  },
  {
   "cell_type": "code",
   "execution_count": null,
   "id": "i2sh_XY06VxY",
   "metadata": {
    "id": "i2sh_XY06VxY"
   },
   "outputs": [],
   "source": [
    "# Totale ospedalizzati\n",
    "\n",
    "plt.scatter(predictions.index, predictions['pred_totale_ospedalizzati_Lombardia'], label = 'Predictions')\n",
    "plt.scatter(predictions.index, test_df[reg]['totale_ospedalizzati_Lombardia'], label = 'Data')\n",
    "plt.legend()"
   ]
  },
  {
   "cell_type": "code",
   "execution_count": null,
   "id": "5e48L4Vc6e00",
   "metadata": {
    "id": "5e48L4Vc6e00"
   },
   "outputs": [],
   "source": [
    "# Dimessi guariti\n",
    "\n",
    "plt.scatter(predictions.index, predictions['pred_dimessi_guariti_Lombardia'], label = 'Predictions')\n",
    "plt.scatter(predictions.index, test_df[reg]['dimessi_guariti_Lombardia'], label = 'Data')\n",
    "plt.legend()"
   ]
  },
  {
   "cell_type": "code",
   "execution_count": null,
   "id": "m2m54pKU5JCT",
   "metadata": {
    "id": "m2m54pKU5JCT"
   },
   "outputs": [],
   "source": [
    "# Deceduti \n",
    "\n",
    "plt.scatter(predictions.index, predictions['pred_deceduti_Lombardia'], label = 'Predictions')\n",
    "plt.scatter(predictions.index, test_df[reg]['deceduti_Lombardia'], label = 'Data')\n",
    "plt.legend()"
   ]
  },
  {
   "cell_type": "code",
   "execution_count": null,
   "id": "e2554afc-d05f-4c5e-9f6d-11467828b1d4",
   "metadata": {
    "colab": {
     "base_uri": "https://localhost:8080/"
    },
    "executionInfo": {
     "elapsed": 623,
     "status": "ok",
     "timestamp": 1650897348510,
     "user": {
      "displayName": "Daniela Zanotti",
      "userId": "08454037263366696573"
     },
     "user_tz": -120
    },
    "id": "e2554afc-d05f-4c5e-9f6d-11467828b1d4",
    "outputId": "4c882167-0d81-4c5e-fbd8-a7364cd7411a"
   },
   "outputs": [
    {
     "data": {
      "text/plain": [
       "array([[[ 0.51139224, -0.42017663,  0.70290905,  2.0061364 ],\n",
       "        [ 0.75077367,  0.03318462,  0.4497213 ,  2.1760144 ],\n",
       "        [ 0.45952612, -0.10680426,  0.49523437,  2.1267207 ],\n",
       "        [ 0.3714788 , -0.42209125,  0.806759  ,  2.0400093 ],\n",
       "        [ 0.51434827, -0.12252828,  0.7620032 ,  2.0593617 ],\n",
       "        [ 0.44157684,  0.1133434 ,  0.56861025,  2.0092545 ],\n",
       "        [ 0.1380272 , -0.11490007,  0.8233938 ,  2.1082501 ]]],\n",
       "      dtype=float32)"
      ]
     },
     "execution_count": 105,
     "metadata": {},
     "output_type": "execute_result"
    }
   ],
   "source": [
    "prova = np.ones((IN_STEPS,4)).reshape(1,IN_STEPS,4)\n",
    "multi_lstm_model.predict(prova)"
   ]
  },
  {
   "cell_type": "markdown",
   "id": "WU5mLJpQBMqa",
   "metadata": {
    "id": "WU5mLJpQBMqa"
   },
   "source": [
    "### Back to original scale"
   ]
  },
  {
   "cell_type": "code",
   "execution_count": 42,
   "id": "AcxPyRGNBQFT",
   "metadata": {
    "executionInfo": {
     "elapsed": 269,
     "status": "ok",
     "timestamp": 1651052855873,
     "user": {
      "displayName": "Daniela Zanotti",
      "userId": "08454037263366696573"
     },
     "user_tz": -120
    },
    "id": "AcxPyRGNBQFT"
   },
   "outputs": [],
   "source": [
    "init = df_by_region[reg].iloc[-time_steps_for_test-1,:]\n",
    "init = pd.DataFrame(init).T\n",
    "\n",
    "initial = init.rename(columns={'totale_ospedalizzati_' + reg: 'pred_totale_ospedalizzati_' + reg, \n",
    "                               'nuovi_positivi_' + reg: 'pred_nuovi_positivi_' + reg,\n",
    "                               'dimessi_guariti_' + reg: 'pred_dimessi_guariti_' + reg,\n",
    "                               'deceduti_' + reg: 'pred_deceduti_' + reg} )\n",
    "\n",
    "pred_original_scale = (1 + predictions).cumprod() * initial.iloc[0,:]"
   ]
  },
  {
   "cell_type": "code",
   "execution_count": 43,
   "id": "8mzkO9bX4HUM",
   "metadata": {
    "executionInfo": {
     "elapsed": 243,
     "status": "ok",
     "timestamp": 1651052857057,
     "user": {
      "displayName": "Daniela Zanotti",
      "userId": "08454037263366696573"
     },
     "user_tz": -120
    },
    "id": "8mzkO9bX4HUM"
   },
   "outputs": [],
   "source": [
    "# Error with original data\n",
    "\n",
    "idx_true = df_by_region[reg].iloc[-time_steps_for_test:,:].index\n",
    "idx_pred = pred_original_scale.index\n",
    "true_test = df_by_region[reg].iloc[-time_steps_for_test:,:].rename(index={idx_true[0]: idx_pred[0], \n",
    "                                                                          idx_true[1]: idx_pred[1], \n",
    "                                                                          idx_true[2]: idx_pred[2], \n",
    "                                                                          idx_true[3]: idx_pred[3], \n",
    "                                                                          idx_true[4]: idx_pred[4], \n",
    "                                                                          idx_true[5]: idx_pred[5], \n",
    "                                                                          idx_true[6]: idx_pred[6]} )\n",
    "\n",
    "original_concatenated_df = pd.concat([pred_original_scale, true_test], axis=1 )\n",
    "\n",
    "original_errors = pd.DataFrame()\n",
    "for i in range(4):\n",
    "  original_errors = pd.concat([original_errors, original_concatenated_df.iloc[:, i] - original_concatenated_df.iloc[:, i+4]], axis = 1, ignore_index=True)\n",
    "\n",
    "original_err = original_errors.rename(columns={0: 'totale_ospedalizzati_' + reg, \n",
    "                                               1: 'nuovi_positivi_' + reg,\n",
    "                                               2: 'dimessi_guariti_' + reg,\n",
    "                                               3: 'deceduti_' + reg} )\n",
    "\n",
    "original_error = (original_err * std) + mean\n",
    "\n",
    "original_error_perc = (original_error / true_test) * 100"
   ]
  },
  {
   "cell_type": "code",
   "execution_count": 44,
   "id": "769defd8-b9fc-49c7-b394-011634a0cb39",
   "metadata": {},
   "outputs": [
    {
     "data": {
      "text/html": [
       "<div>\n",
       "<style scoped>\n",
       "    .dataframe tbody tr th:only-of-type {\n",
       "        vertical-align: middle;\n",
       "    }\n",
       "\n",
       "    .dataframe tbody tr th {\n",
       "        vertical-align: top;\n",
       "    }\n",
       "\n",
       "    .dataframe thead th {\n",
       "        text-align: right;\n",
       "    }\n",
       "</style>\n",
       "<table border=\"1\" class=\"dataframe\">\n",
       "  <thead>\n",
       "    <tr style=\"text-align: right;\">\n",
       "      <th></th>\n",
       "      <th>totale_ospedalizzati_Sicilia</th>\n",
       "      <th>nuovi_positivi_Sicilia</th>\n",
       "      <th>dimessi_guariti_Sicilia</th>\n",
       "      <th>deceduti_Sicilia</th>\n",
       "    </tr>\n",
       "  </thead>\n",
       "  <tbody>\n",
       "    <tr>\n",
       "      <th>414</th>\n",
       "      <td>3.537252</td>\n",
       "      <td>-58.525208</td>\n",
       "      <td>-1.270359</td>\n",
       "      <td>-0.090218</td>\n",
       "    </tr>\n",
       "    <tr>\n",
       "      <th>415</th>\n",
       "      <td>2.099590</td>\n",
       "      <td>-26.940089</td>\n",
       "      <td>-1.799129</td>\n",
       "      <td>-0.225725</td>\n",
       "    </tr>\n",
       "    <tr>\n",
       "      <th>416</th>\n",
       "      <td>4.449428</td>\n",
       "      <td>-30.873904</td>\n",
       "      <td>-2.405811</td>\n",
       "      <td>-0.360789</td>\n",
       "    </tr>\n",
       "    <tr>\n",
       "      <th>417</th>\n",
       "      <td>5.284288</td>\n",
       "      <td>-52.172806</td>\n",
       "      <td>-3.145416</td>\n",
       "      <td>-0.379495</td>\n",
       "    </tr>\n",
       "    <tr>\n",
       "      <th>418</th>\n",
       "      <td>8.379514</td>\n",
       "      <td>-61.580337</td>\n",
       "      <td>-3.363788</td>\n",
       "      <td>-0.418015</td>\n",
       "    </tr>\n",
       "    <tr>\n",
       "      <th>419</th>\n",
       "      <td>12.033437</td>\n",
       "      <td>-20.025818</td>\n",
       "      <td>-3.666774</td>\n",
       "      <td>-0.373641</td>\n",
       "    </tr>\n",
       "    <tr>\n",
       "      <th>420</th>\n",
       "      <td>10.150526</td>\n",
       "      <td>9.544193</td>\n",
       "      <td>-3.892106</td>\n",
       "      <td>-0.200133</td>\n",
       "    </tr>\n",
       "  </tbody>\n",
       "</table>\n",
       "</div>"
      ],
      "text/plain": [
       "     totale_ospedalizzati_Sicilia  nuovi_positivi_Sicilia  \\\n",
       "414                      3.537252              -58.525208   \n",
       "415                      2.099590              -26.940089   \n",
       "416                      4.449428              -30.873904   \n",
       "417                      5.284288              -52.172806   \n",
       "418                      8.379514              -61.580337   \n",
       "419                     12.033437              -20.025818   \n",
       "420                     10.150526                9.544193   \n",
       "\n",
       "     dimessi_guariti_Sicilia  deceduti_Sicilia  \n",
       "414                -1.270359         -0.090218  \n",
       "415                -1.799129         -0.225725  \n",
       "416                -2.405811         -0.360789  \n",
       "417                -3.145416         -0.379495  \n",
       "418                -3.363788         -0.418015  \n",
       "419                -3.666774         -0.373641  \n",
       "420                -3.892106         -0.200133  "
      ]
     },
     "execution_count": 44,
     "metadata": {},
     "output_type": "execute_result"
    }
   ],
   "source": [
    "original_error_perc"
   ]
  },
  {
   "cell_type": "markdown",
   "id": "8QWjVAgYZJhb",
   "metadata": {
    "id": "8QWjVAgYZJhb"
   },
   "source": [
    "# Risultati Lazio"
   ]
  },
  {
   "cell_type": "code",
   "execution_count": 31,
   "id": "OoqZs1MQY_BX",
   "metadata": {
    "colab": {
     "base_uri": "https://localhost:8080/",
     "height": 269
    },
    "executionInfo": {
     "elapsed": 227,
     "status": "ok",
     "timestamp": 1650968493621,
     "user": {
      "displayName": "Daniela Zanotti",
      "userId": "08454037263366696573"
     },
     "user_tz": -120
    },
    "id": "OoqZs1MQY_BX",
    "outputId": "52732846-429f-42e8-a5a9-2fe12650e3f9"
   },
   "outputs": [
    {
     "data": {
      "text/html": [
       "<div>\n",
       "<style scoped>\n",
       "    .dataframe tbody tr th:only-of-type {\n",
       "        vertical-align: middle;\n",
       "    }\n",
       "\n",
       "    .dataframe tbody tr th {\n",
       "        vertical-align: top;\n",
       "    }\n",
       "\n",
       "    .dataframe thead th {\n",
       "        text-align: right;\n",
       "    }\n",
       "</style>\n",
       "<table border=\"1\" class=\"dataframe\">\n",
       "  <thead>\n",
       "    <tr style=\"text-align: right;\">\n",
       "      <th></th>\n",
       "      <th>totale_ospedalizzati_Sicilia</th>\n",
       "      <th>nuovi_positivi_Sicilia</th>\n",
       "      <th>dimessi_guariti_Sicilia</th>\n",
       "      <th>deceduti_Sicilia</th>\n",
       "    </tr>\n",
       "  </thead>\n",
       "  <tbody>\n",
       "    <tr>\n",
       "      <th>414</th>\n",
       "      <td>30.581802</td>\n",
       "      <td>-4164.191937</td>\n",
       "      <td>-11321.138203</td>\n",
       "      <td>-17.359503</td>\n",
       "    </tr>\n",
       "    <tr>\n",
       "      <th>415</th>\n",
       "      <td>13.815445</td>\n",
       "      <td>-1472.023224</td>\n",
       "      <td>-17647.905208</td>\n",
       "      <td>-47.554669</td>\n",
       "    </tr>\n",
       "    <tr>\n",
       "      <th>416</th>\n",
       "      <td>34.795728</td>\n",
       "      <td>-1927.425180</td>\n",
       "      <td>-25516.787743</td>\n",
       "      <td>-68.397947</td>\n",
       "    </tr>\n",
       "    <tr>\n",
       "      <th>417</th>\n",
       "      <td>43.718991</td>\n",
       "      <td>-3032.895978</td>\n",
       "      <td>-34210.141893</td>\n",
       "      <td>-76.074225</td>\n",
       "    </tr>\n",
       "    <tr>\n",
       "      <th>418</th>\n",
       "      <td>74.504593</td>\n",
       "      <td>-2805.712626</td>\n",
       "      <td>-37934.656752</td>\n",
       "      <td>-80.399755</td>\n",
       "    </tr>\n",
       "    <tr>\n",
       "      <th>419</th>\n",
       "      <td>110.674122</td>\n",
       "      <td>-600.840609</td>\n",
       "      <td>-43508.743223</td>\n",
       "      <td>-85.122374</td>\n",
       "    </tr>\n",
       "    <tr>\n",
       "      <th>420</th>\n",
       "      <td>92.006666</td>\n",
       "      <td>-42.608991</td>\n",
       "      <td>-46240.159442</td>\n",
       "      <td>-60.922549</td>\n",
       "    </tr>\n",
       "  </tbody>\n",
       "</table>\n",
       "</div>"
      ],
      "text/plain": [
       "     totale_ospedalizzati_Sicilia  nuovi_positivi_Sicilia  \\\n",
       "414                     30.581802            -4164.191937   \n",
       "415                     13.815445            -1472.023224   \n",
       "416                     34.795728            -1927.425180   \n",
       "417                     43.718991            -3032.895978   \n",
       "418                     74.504593            -2805.712626   \n",
       "419                    110.674122             -600.840609   \n",
       "420                     92.006666              -42.608991   \n",
       "\n",
       "     dimessi_guariti_Sicilia  deceduti_Sicilia  \n",
       "414            -11321.138203        -17.359503  \n",
       "415            -17647.905208        -47.554669  \n",
       "416            -25516.787743        -68.397947  \n",
       "417            -34210.141893        -76.074225  \n",
       "418            -37934.656752        -80.399755  \n",
       "419            -43508.743223        -85.122374  \n",
       "420            -46240.159442        -60.922549  "
      ]
     },
     "execution_count": 31,
     "metadata": {},
     "output_type": "execute_result"
    }
   ],
   "source": [
    "original_error   # 16 e 64"
   ]
  },
  {
   "cell_type": "code",
   "execution_count": null,
   "id": "5HT3wGG_W1sW",
   "metadata": {
    "colab": {
     "base_uri": "https://localhost:8080/",
     "height": 269
    },
    "executionInfo": {
     "elapsed": 214,
     "status": "ok",
     "timestamp": 1650967933580,
     "user": {
      "displayName": "Daniela Zanotti",
      "userId": "08454037263366696573"
     },
     "user_tz": -120
    },
    "id": "5HT3wGG_W1sW",
    "outputId": "4a217b91-38c6-4656-ae04-6c7d1a008908"
   },
   "outputs": [
    {
     "data": {
      "text/html": [
       "\n",
       "  <div id=\"df-fe208761-6ea4-4d55-a100-aa9c648f3db5\">\n",
       "    <div class=\"colab-df-container\">\n",
       "      <div>\n",
       "<style scoped>\n",
       "    .dataframe tbody tr th:only-of-type {\n",
       "        vertical-align: middle;\n",
       "    }\n",
       "\n",
       "    .dataframe tbody tr th {\n",
       "        vertical-align: top;\n",
       "    }\n",
       "\n",
       "    .dataframe thead th {\n",
       "        text-align: right;\n",
       "    }\n",
       "</style>\n",
       "<table border=\"1\" class=\"dataframe\">\n",
       "  <thead>\n",
       "    <tr style=\"text-align: right;\">\n",
       "      <th></th>\n",
       "      <th>totale_ospedalizzati_Lazio</th>\n",
       "      <th>nuovi_positivi_Lazio</th>\n",
       "      <th>dimessi_guariti_Lazio</th>\n",
       "      <th>deceduti_Lazio</th>\n",
       "    </tr>\n",
       "  </thead>\n",
       "  <tbody>\n",
       "    <tr>\n",
       "      <th>716</th>\n",
       "      <td>-30.404362</td>\n",
       "      <td>-27.093348</td>\n",
       "      <td>2958.620186</td>\n",
       "      <td>1.539964</td>\n",
       "    </tr>\n",
       "    <tr>\n",
       "      <th>717</th>\n",
       "      <td>-46.151626</td>\n",
       "      <td>-7181.499268</td>\n",
       "      <td>982.368246</td>\n",
       "      <td>-2.641093</td>\n",
       "    </tr>\n",
       "    <tr>\n",
       "      <th>718</th>\n",
       "      <td>-98.252415</td>\n",
       "      <td>-4591.335127</td>\n",
       "      <td>2246.543187</td>\n",
       "      <td>-14.710104</td>\n",
       "    </tr>\n",
       "    <tr>\n",
       "      <th>719</th>\n",
       "      <td>-70.017489</td>\n",
       "      <td>-4523.468706</td>\n",
       "      <td>-507.510385</td>\n",
       "      <td>-32.391325</td>\n",
       "    </tr>\n",
       "    <tr>\n",
       "      <th>720</th>\n",
       "      <td>-39.095424</td>\n",
       "      <td>-5061.088285</td>\n",
       "      <td>-1955.427349</td>\n",
       "      <td>-44.805480</td>\n",
       "    </tr>\n",
       "    <tr>\n",
       "      <th>721</th>\n",
       "      <td>11.822905</td>\n",
       "      <td>-4214.350085</td>\n",
       "      <td>-1547.808958</td>\n",
       "      <td>-48.039095</td>\n",
       "    </tr>\n",
       "    <tr>\n",
       "      <th>722</th>\n",
       "      <td>12.761395</td>\n",
       "      <td>-766.174111</td>\n",
       "      <td>211.426410</td>\n",
       "      <td>-47.569099</td>\n",
       "    </tr>\n",
       "  </tbody>\n",
       "</table>\n",
       "</div>\n",
       "      <button class=\"colab-df-convert\" onclick=\"convertToInteractive('df-fe208761-6ea4-4d55-a100-aa9c648f3db5')\"\n",
       "              title=\"Convert this dataframe to an interactive table.\"\n",
       "              style=\"display:none;\">\n",
       "        \n",
       "  <svg xmlns=\"http://www.w3.org/2000/svg\" height=\"24px\"viewBox=\"0 0 24 24\"\n",
       "       width=\"24px\">\n",
       "    <path d=\"M0 0h24v24H0V0z\" fill=\"none\"/>\n",
       "    <path d=\"M18.56 5.44l.94 2.06.94-2.06 2.06-.94-2.06-.94-.94-2.06-.94 2.06-2.06.94zm-11 1L8.5 8.5l.94-2.06 2.06-.94-2.06-.94L8.5 2.5l-.94 2.06-2.06.94zm10 10l.94 2.06.94-2.06 2.06-.94-2.06-.94-.94-2.06-.94 2.06-2.06.94z\"/><path d=\"M17.41 7.96l-1.37-1.37c-.4-.4-.92-.59-1.43-.59-.52 0-1.04.2-1.43.59L10.3 9.45l-7.72 7.72c-.78.78-.78 2.05 0 2.83L4 21.41c.39.39.9.59 1.41.59.51 0 1.02-.2 1.41-.59l7.78-7.78 2.81-2.81c.8-.78.8-2.07 0-2.86zM5.41 20L4 18.59l7.72-7.72 1.47 1.35L5.41 20z\"/>\n",
       "  </svg>\n",
       "      </button>\n",
       "      \n",
       "  <style>\n",
       "    .colab-df-container {\n",
       "      display:flex;\n",
       "      flex-wrap:wrap;\n",
       "      gap: 12px;\n",
       "    }\n",
       "\n",
       "    .colab-df-convert {\n",
       "      background-color: #E8F0FE;\n",
       "      border: none;\n",
       "      border-radius: 50%;\n",
       "      cursor: pointer;\n",
       "      display: none;\n",
       "      fill: #1967D2;\n",
       "      height: 32px;\n",
       "      padding: 0 0 0 0;\n",
       "      width: 32px;\n",
       "    }\n",
       "\n",
       "    .colab-df-convert:hover {\n",
       "      background-color: #E2EBFA;\n",
       "      box-shadow: 0px 1px 2px rgba(60, 64, 67, 0.3), 0px 1px 3px 1px rgba(60, 64, 67, 0.15);\n",
       "      fill: #174EA6;\n",
       "    }\n",
       "\n",
       "    [theme=dark] .colab-df-convert {\n",
       "      background-color: #3B4455;\n",
       "      fill: #D2E3FC;\n",
       "    }\n",
       "\n",
       "    [theme=dark] .colab-df-convert:hover {\n",
       "      background-color: #434B5C;\n",
       "      box-shadow: 0px 1px 3px 1px rgba(0, 0, 0, 0.15);\n",
       "      filter: drop-shadow(0px 1px 2px rgba(0, 0, 0, 0.3));\n",
       "      fill: #FFFFFF;\n",
       "    }\n",
       "  </style>\n",
       "\n",
       "      <script>\n",
       "        const buttonEl =\n",
       "          document.querySelector('#df-fe208761-6ea4-4d55-a100-aa9c648f3db5 button.colab-df-convert');\n",
       "        buttonEl.style.display =\n",
       "          google.colab.kernel.accessAllowed ? 'block' : 'none';\n",
       "\n",
       "        async function convertToInteractive(key) {\n",
       "          const element = document.querySelector('#df-fe208761-6ea4-4d55-a100-aa9c648f3db5');\n",
       "          const dataTable =\n",
       "            await google.colab.kernel.invokeFunction('convertToInteractive',\n",
       "                                                     [key], {});\n",
       "          if (!dataTable) return;\n",
       "\n",
       "          const docLinkHtml = 'Like what you see? Visit the ' +\n",
       "            '<a target=\"_blank\" href=https://colab.research.google.com/notebooks/data_table.ipynb>data table notebook</a>'\n",
       "            + ' to learn more about interactive tables.';\n",
       "          element.innerHTML = '';\n",
       "          dataTable['output_type'] = 'display_data';\n",
       "          await google.colab.output.renderOutput(dataTable, element);\n",
       "          const docLink = document.createElement('div');\n",
       "          docLink.innerHTML = docLinkHtml;\n",
       "          element.appendChild(docLink);\n",
       "        }\n",
       "      </script>\n",
       "    </div>\n",
       "  </div>\n",
       "  "
      ],
      "text/plain": [
       "     totale_ospedalizzati_Lazio  nuovi_positivi_Lazio  dimessi_guariti_Lazio  \\\n",
       "716                  -30.404362            -27.093348            2958.620186   \n",
       "717                  -46.151626          -7181.499268             982.368246   \n",
       "718                  -98.252415          -4591.335127            2246.543187   \n",
       "719                  -70.017489          -4523.468706            -507.510385   \n",
       "720                  -39.095424          -5061.088285           -1955.427349   \n",
       "721                   11.822905          -4214.350085           -1547.808958   \n",
       "722                   12.761395           -766.174111             211.426410   \n",
       "\n",
       "     deceduti_Lazio  \n",
       "716        1.539964  \n",
       "717       -2.641093  \n",
       "718      -14.710104  \n",
       "719      -32.391325  \n",
       "720      -44.805480  \n",
       "721      -48.039095  \n",
       "722      -47.569099  "
      ]
     },
     "execution_count": 215,
     "metadata": {},
     "output_type": "execute_result"
    }
   ],
   "source": [
    "original_error  # 8 e 64"
   ]
  },
  {
   "cell_type": "code",
   "execution_count": null,
   "id": "93oH-sH8YcBf",
   "metadata": {
    "colab": {
     "base_uri": "https://localhost:8080/",
     "height": 269
    },
    "executionInfo": {
     "elapsed": 226,
     "status": "ok",
     "timestamp": 1650968350193,
     "user": {
      "displayName": "Daniela Zanotti",
      "userId": "08454037263366696573"
     },
     "user_tz": -120
    },
    "id": "93oH-sH8YcBf",
    "outputId": "683acb97-e3ba-457e-da91-6e59132f315d"
   },
   "outputs": [
    {
     "data": {
      "text/html": [
       "\n",
       "  <div id=\"df-f48b5dc4-2f74-4752-aa19-a6e9d54115df\">\n",
       "    <div class=\"colab-df-container\">\n",
       "      <div>\n",
       "<style scoped>\n",
       "    .dataframe tbody tr th:only-of-type {\n",
       "        vertical-align: middle;\n",
       "    }\n",
       "\n",
       "    .dataframe tbody tr th {\n",
       "        vertical-align: top;\n",
       "    }\n",
       "\n",
       "    .dataframe thead th {\n",
       "        text-align: right;\n",
       "    }\n",
       "</style>\n",
       "<table border=\"1\" class=\"dataframe\">\n",
       "  <thead>\n",
       "    <tr style=\"text-align: right;\">\n",
       "      <th></th>\n",
       "      <th>totale_ospedalizzati_Lazio</th>\n",
       "      <th>nuovi_positivi_Lazio</th>\n",
       "      <th>dimessi_guariti_Lazio</th>\n",
       "      <th>deceduti_Lazio</th>\n",
       "    </tr>\n",
       "  </thead>\n",
       "  <tbody>\n",
       "    <tr>\n",
       "      <th>716</th>\n",
       "      <td>-37.278747</td>\n",
       "      <td>85.707206</td>\n",
       "      <td>3190.846387</td>\n",
       "      <td>7.000439</td>\n",
       "    </tr>\n",
       "    <tr>\n",
       "      <th>717</th>\n",
       "      <td>-59.049331</td>\n",
       "      <td>-6991.376515</td>\n",
       "      <td>1239.949909</td>\n",
       "      <td>8.645018</td>\n",
       "    </tr>\n",
       "    <tr>\n",
       "      <th>718</th>\n",
       "      <td>-112.866244</td>\n",
       "      <td>-4499.184114</td>\n",
       "      <td>2427.760164</td>\n",
       "      <td>1.199218</td>\n",
       "    </tr>\n",
       "    <tr>\n",
       "      <th>719</th>\n",
       "      <td>-83.698646</td>\n",
       "      <td>-4616.879700</td>\n",
       "      <td>-981.806671</td>\n",
       "      <td>-14.053678</td>\n",
       "    </tr>\n",
       "    <tr>\n",
       "      <th>720</th>\n",
       "      <td>-49.780854</td>\n",
       "      <td>-5225.898713</td>\n",
       "      <td>-3023.936341</td>\n",
       "      <td>-22.731443</td>\n",
       "    </tr>\n",
       "    <tr>\n",
       "      <th>721</th>\n",
       "      <td>2.727748</td>\n",
       "      <td>-4359.260402</td>\n",
       "      <td>-2974.426561</td>\n",
       "      <td>-21.332719</td>\n",
       "    </tr>\n",
       "    <tr>\n",
       "      <th>722</th>\n",
       "      <td>1.208490</td>\n",
       "      <td>-880.553075</td>\n",
       "      <td>-1404.163958</td>\n",
       "      <td>-16.128660</td>\n",
       "    </tr>\n",
       "  </tbody>\n",
       "</table>\n",
       "</div>\n",
       "      <button class=\"colab-df-convert\" onclick=\"convertToInteractive('df-f48b5dc4-2f74-4752-aa19-a6e9d54115df')\"\n",
       "              title=\"Convert this dataframe to an interactive table.\"\n",
       "              style=\"display:none;\">\n",
       "        \n",
       "  <svg xmlns=\"http://www.w3.org/2000/svg\" height=\"24px\"viewBox=\"0 0 24 24\"\n",
       "       width=\"24px\">\n",
       "    <path d=\"M0 0h24v24H0V0z\" fill=\"none\"/>\n",
       "    <path d=\"M18.56 5.44l.94 2.06.94-2.06 2.06-.94-2.06-.94-.94-2.06-.94 2.06-2.06.94zm-11 1L8.5 8.5l.94-2.06 2.06-.94-2.06-.94L8.5 2.5l-.94 2.06-2.06.94zm10 10l.94 2.06.94-2.06 2.06-.94-2.06-.94-.94-2.06-.94 2.06-2.06.94z\"/><path d=\"M17.41 7.96l-1.37-1.37c-.4-.4-.92-.59-1.43-.59-.52 0-1.04.2-1.43.59L10.3 9.45l-7.72 7.72c-.78.78-.78 2.05 0 2.83L4 21.41c.39.39.9.59 1.41.59.51 0 1.02-.2 1.41-.59l7.78-7.78 2.81-2.81c.8-.78.8-2.07 0-2.86zM5.41 20L4 18.59l7.72-7.72 1.47 1.35L5.41 20z\"/>\n",
       "  </svg>\n",
       "      </button>\n",
       "      \n",
       "  <style>\n",
       "    .colab-df-container {\n",
       "      display:flex;\n",
       "      flex-wrap:wrap;\n",
       "      gap: 12px;\n",
       "    }\n",
       "\n",
       "    .colab-df-convert {\n",
       "      background-color: #E8F0FE;\n",
       "      border: none;\n",
       "      border-radius: 50%;\n",
       "      cursor: pointer;\n",
       "      display: none;\n",
       "      fill: #1967D2;\n",
       "      height: 32px;\n",
       "      padding: 0 0 0 0;\n",
       "      width: 32px;\n",
       "    }\n",
       "\n",
       "    .colab-df-convert:hover {\n",
       "      background-color: #E2EBFA;\n",
       "      box-shadow: 0px 1px 2px rgba(60, 64, 67, 0.3), 0px 1px 3px 1px rgba(60, 64, 67, 0.15);\n",
       "      fill: #174EA6;\n",
       "    }\n",
       "\n",
       "    [theme=dark] .colab-df-convert {\n",
       "      background-color: #3B4455;\n",
       "      fill: #D2E3FC;\n",
       "    }\n",
       "\n",
       "    [theme=dark] .colab-df-convert:hover {\n",
       "      background-color: #434B5C;\n",
       "      box-shadow: 0px 1px 3px 1px rgba(0, 0, 0, 0.15);\n",
       "      filter: drop-shadow(0px 1px 2px rgba(0, 0, 0, 0.3));\n",
       "      fill: #FFFFFF;\n",
       "    }\n",
       "  </style>\n",
       "\n",
       "      <script>\n",
       "        const buttonEl =\n",
       "          document.querySelector('#df-f48b5dc4-2f74-4752-aa19-a6e9d54115df button.colab-df-convert');\n",
       "        buttonEl.style.display =\n",
       "          google.colab.kernel.accessAllowed ? 'block' : 'none';\n",
       "\n",
       "        async function convertToInteractive(key) {\n",
       "          const element = document.querySelector('#df-f48b5dc4-2f74-4752-aa19-a6e9d54115df');\n",
       "          const dataTable =\n",
       "            await google.colab.kernel.invokeFunction('convertToInteractive',\n",
       "                                                     [key], {});\n",
       "          if (!dataTable) return;\n",
       "\n",
       "          const docLinkHtml = 'Like what you see? Visit the ' +\n",
       "            '<a target=\"_blank\" href=https://colab.research.google.com/notebooks/data_table.ipynb>data table notebook</a>'\n",
       "            + ' to learn more about interactive tables.';\n",
       "          element.innerHTML = '';\n",
       "          dataTable['output_type'] = 'display_data';\n",
       "          await google.colab.output.renderOutput(dataTable, element);\n",
       "          const docLink = document.createElement('div');\n",
       "          docLink.innerHTML = docLinkHtml;\n",
       "          element.appendChild(docLink);\n",
       "        }\n",
       "      </script>\n",
       "    </div>\n",
       "  </div>\n",
       "  "
      ],
      "text/plain": [
       "     totale_ospedalizzati_Lazio  nuovi_positivi_Lazio  dimessi_guariti_Lazio  \\\n",
       "716                  -37.278747             85.707206            3190.846387   \n",
       "717                  -59.049331          -6991.376515            1239.949909   \n",
       "718                 -112.866244          -4499.184114            2427.760164   \n",
       "719                  -83.698646          -4616.879700            -981.806671   \n",
       "720                  -49.780854          -5225.898713           -3023.936341   \n",
       "721                    2.727748          -4359.260402           -2974.426561   \n",
       "722                    1.208490           -880.553075           -1404.163958   \n",
       "\n",
       "     deceduti_Lazio  \n",
       "716        7.000439  \n",
       "717        8.645018  \n",
       "718        1.199218  \n",
       "719      -14.053678  \n",
       "720      -22.731443  \n",
       "721      -21.332719  \n",
       "722      -16.128660  "
      ]
     },
     "execution_count": 233,
     "metadata": {},
     "output_type": "execute_result"
    }
   ],
   "source": [
    "original_error   # 8 e 128"
   ]
  },
  {
   "cell_type": "code",
   "execution_count": null,
   "id": "DsdpEwc1X8k6",
   "metadata": {
    "colab": {
     "base_uri": "https://localhost:8080/",
     "height": 269
    },
    "executionInfo": {
     "elapsed": 255,
     "status": "ok",
     "timestamp": 1650968221482,
     "user": {
      "displayName": "Daniela Zanotti",
      "userId": "08454037263366696573"
     },
     "user_tz": -120
    },
    "id": "DsdpEwc1X8k6",
    "outputId": "bde7c09e-f000-4f43-90ad-a96a3ad0e547"
   },
   "outputs": [
    {
     "data": {
      "text/html": [
       "\n",
       "  <div id=\"df-fa9a3f20-7731-4e0c-9062-c6b9e876f9c4\">\n",
       "    <div class=\"colab-df-container\">\n",
       "      <div>\n",
       "<style scoped>\n",
       "    .dataframe tbody tr th:only-of-type {\n",
       "        vertical-align: middle;\n",
       "    }\n",
       "\n",
       "    .dataframe tbody tr th {\n",
       "        vertical-align: top;\n",
       "    }\n",
       "\n",
       "    .dataframe thead th {\n",
       "        text-align: right;\n",
       "    }\n",
       "</style>\n",
       "<table border=\"1\" class=\"dataframe\">\n",
       "  <thead>\n",
       "    <tr style=\"text-align: right;\">\n",
       "      <th></th>\n",
       "      <th>totale_ospedalizzati_Lazio</th>\n",
       "      <th>nuovi_positivi_Lazio</th>\n",
       "      <th>dimessi_guariti_Lazio</th>\n",
       "      <th>deceduti_Lazio</th>\n",
       "    </tr>\n",
       "  </thead>\n",
       "  <tbody>\n",
       "    <tr>\n",
       "      <th>716</th>\n",
       "      <td>-25.825321</td>\n",
       "      <td>-98.588427</td>\n",
       "      <td>1645.953012</td>\n",
       "      <td>2.472431</td>\n",
       "    </tr>\n",
       "    <tr>\n",
       "      <th>717</th>\n",
       "      <td>-38.084078</td>\n",
       "      <td>-7291.386854</td>\n",
       "      <td>-1519.320938</td>\n",
       "      <td>1.709550</td>\n",
       "    </tr>\n",
       "    <tr>\n",
       "      <th>718</th>\n",
       "      <td>-90.494439</td>\n",
       "      <td>-4598.209390</td>\n",
       "      <td>-875.758213</td>\n",
       "      <td>-5.978822</td>\n",
       "    </tr>\n",
       "    <tr>\n",
       "      <th>719</th>\n",
       "      <td>-66.550006</td>\n",
       "      <td>-4381.486390</td>\n",
       "      <td>-4323.954840</td>\n",
       "      <td>-19.741074</td>\n",
       "    </tr>\n",
       "    <tr>\n",
       "      <th>720</th>\n",
       "      <td>-40.902823</td>\n",
       "      <td>-4893.287473</td>\n",
       "      <td>-6531.789911</td>\n",
       "      <td>-28.915720</td>\n",
       "    </tr>\n",
       "    <tr>\n",
       "      <th>721</th>\n",
       "      <td>6.028285</td>\n",
       "      <td>-4096.398569</td>\n",
       "      <td>-7178.511283</td>\n",
       "      <td>-28.909829</td>\n",
       "    </tr>\n",
       "    <tr>\n",
       "      <th>722</th>\n",
       "      <td>7.836522</td>\n",
       "      <td>-701.624319</td>\n",
       "      <td>-6879.153917</td>\n",
       "      <td>-25.941082</td>\n",
       "    </tr>\n",
       "  </tbody>\n",
       "</table>\n",
       "</div>\n",
       "      <button class=\"colab-df-convert\" onclick=\"convertToInteractive('df-fa9a3f20-7731-4e0c-9062-c6b9e876f9c4')\"\n",
       "              title=\"Convert this dataframe to an interactive table.\"\n",
       "              style=\"display:none;\">\n",
       "        \n",
       "  <svg xmlns=\"http://www.w3.org/2000/svg\" height=\"24px\"viewBox=\"0 0 24 24\"\n",
       "       width=\"24px\">\n",
       "    <path d=\"M0 0h24v24H0V0z\" fill=\"none\"/>\n",
       "    <path d=\"M18.56 5.44l.94 2.06.94-2.06 2.06-.94-2.06-.94-.94-2.06-.94 2.06-2.06.94zm-11 1L8.5 8.5l.94-2.06 2.06-.94-2.06-.94L8.5 2.5l-.94 2.06-2.06.94zm10 10l.94 2.06.94-2.06 2.06-.94-2.06-.94-.94-2.06-.94 2.06-2.06.94z\"/><path d=\"M17.41 7.96l-1.37-1.37c-.4-.4-.92-.59-1.43-.59-.52 0-1.04.2-1.43.59L10.3 9.45l-7.72 7.72c-.78.78-.78 2.05 0 2.83L4 21.41c.39.39.9.59 1.41.59.51 0 1.02-.2 1.41-.59l7.78-7.78 2.81-2.81c.8-.78.8-2.07 0-2.86zM5.41 20L4 18.59l7.72-7.72 1.47 1.35L5.41 20z\"/>\n",
       "  </svg>\n",
       "      </button>\n",
       "      \n",
       "  <style>\n",
       "    .colab-df-container {\n",
       "      display:flex;\n",
       "      flex-wrap:wrap;\n",
       "      gap: 12px;\n",
       "    }\n",
       "\n",
       "    .colab-df-convert {\n",
       "      background-color: #E8F0FE;\n",
       "      border: none;\n",
       "      border-radius: 50%;\n",
       "      cursor: pointer;\n",
       "      display: none;\n",
       "      fill: #1967D2;\n",
       "      height: 32px;\n",
       "      padding: 0 0 0 0;\n",
       "      width: 32px;\n",
       "    }\n",
       "\n",
       "    .colab-df-convert:hover {\n",
       "      background-color: #E2EBFA;\n",
       "      box-shadow: 0px 1px 2px rgba(60, 64, 67, 0.3), 0px 1px 3px 1px rgba(60, 64, 67, 0.15);\n",
       "      fill: #174EA6;\n",
       "    }\n",
       "\n",
       "    [theme=dark] .colab-df-convert {\n",
       "      background-color: #3B4455;\n",
       "      fill: #D2E3FC;\n",
       "    }\n",
       "\n",
       "    [theme=dark] .colab-df-convert:hover {\n",
       "      background-color: #434B5C;\n",
       "      box-shadow: 0px 1px 3px 1px rgba(0, 0, 0, 0.15);\n",
       "      filter: drop-shadow(0px 1px 2px rgba(0, 0, 0, 0.3));\n",
       "      fill: #FFFFFF;\n",
       "    }\n",
       "  </style>\n",
       "\n",
       "      <script>\n",
       "        const buttonEl =\n",
       "          document.querySelector('#df-fa9a3f20-7731-4e0c-9062-c6b9e876f9c4 button.colab-df-convert');\n",
       "        buttonEl.style.display =\n",
       "          google.colab.kernel.accessAllowed ? 'block' : 'none';\n",
       "\n",
       "        async function convertToInteractive(key) {\n",
       "          const element = document.querySelector('#df-fa9a3f20-7731-4e0c-9062-c6b9e876f9c4');\n",
       "          const dataTable =\n",
       "            await google.colab.kernel.invokeFunction('convertToInteractive',\n",
       "                                                     [key], {});\n",
       "          if (!dataTable) return;\n",
       "\n",
       "          const docLinkHtml = 'Like what you see? Visit the ' +\n",
       "            '<a target=\"_blank\" href=https://colab.research.google.com/notebooks/data_table.ipynb>data table notebook</a>'\n",
       "            + ' to learn more about interactive tables.';\n",
       "          element.innerHTML = '';\n",
       "          dataTable['output_type'] = 'display_data';\n",
       "          await google.colab.output.renderOutput(dataTable, element);\n",
       "          const docLink = document.createElement('div');\n",
       "          docLink.innerHTML = docLinkHtml;\n",
       "          element.appendChild(docLink);\n",
       "        }\n",
       "      </script>\n",
       "    </div>\n",
       "  </div>\n",
       "  "
      ],
      "text/plain": [
       "     totale_ospedalizzati_Lazio  nuovi_positivi_Lazio  dimessi_guariti_Lazio  \\\n",
       "716                  -25.825321            -98.588427            1645.953012   \n",
       "717                  -38.084078          -7291.386854           -1519.320938   \n",
       "718                  -90.494439          -4598.209390            -875.758213   \n",
       "719                  -66.550006          -4381.486390           -4323.954840   \n",
       "720                  -40.902823          -4893.287473           -6531.789911   \n",
       "721                    6.028285          -4096.398569           -7178.511283   \n",
       "722                    7.836522           -701.624319           -6879.153917   \n",
       "\n",
       "     deceduti_Lazio  \n",
       "716        2.472431  \n",
       "717        1.709550  \n",
       "718       -5.978822  \n",
       "719      -19.741074  \n",
       "720      -28.915720  \n",
       "721      -28.909829  \n",
       "722      -25.941082  "
      ]
     },
     "execution_count": 225,
     "metadata": {},
     "output_type": "execute_result"
    }
   ],
   "source": [
    "original_error  # 8 e 32"
   ]
  },
  {
   "cell_type": "markdown",
   "id": "-o27gxdnWc9L",
   "metadata": {
    "id": "-o27gxdnWc9L"
   },
   "source": [
    "# Risultati Lombardia "
   ]
  },
  {
   "cell_type": "code",
   "execution_count": 65,
   "id": "7NRirHDVa3Tp",
   "metadata": {
    "colab": {
     "base_uri": "https://localhost:8080/",
     "height": 269
    },
    "executionInfo": {
     "elapsed": 243,
     "status": "ok",
     "timestamp": 1651052872314,
     "user": {
      "displayName": "Daniela Zanotti",
      "userId": "08454037263366696573"
     },
     "user_tz": -120
    },
    "id": "7NRirHDVa3Tp",
    "outputId": "c2a9f2e4-ae9e-452e-e4f7-b762b853aa9e"
   },
   "outputs": [
    {
     "data": {
      "text/html": [
       "\n",
       "  <div id=\"df-8a31f90b-df8d-401f-9bbe-35d9caa0ab79\">\n",
       "    <div class=\"colab-df-container\">\n",
       "      <div>\n",
       "<style scoped>\n",
       "    .dataframe tbody tr th:only-of-type {\n",
       "        vertical-align: middle;\n",
       "    }\n",
       "\n",
       "    .dataframe tbody tr th {\n",
       "        vertical-align: top;\n",
       "    }\n",
       "\n",
       "    .dataframe thead th {\n",
       "        text-align: right;\n",
       "    }\n",
       "</style>\n",
       "<table border=\"1\" class=\"dataframe\">\n",
       "  <thead>\n",
       "    <tr style=\"text-align: right;\">\n",
       "      <th></th>\n",
       "      <th>totale_ospedalizzati_Lombardia</th>\n",
       "      <th>nuovi_positivi_Lombardia</th>\n",
       "      <th>dimessi_guariti_Lombardia</th>\n",
       "      <th>deceduti_Lombardia</th>\n",
       "    </tr>\n",
       "  </thead>\n",
       "  <tbody>\n",
       "    <tr>\n",
       "      <th>413</th>\n",
       "      <td>12.147812</td>\n",
       "      <td>3317.507601</td>\n",
       "      <td>22720.132021</td>\n",
       "      <td>75.292798</td>\n",
       "    </tr>\n",
       "    <tr>\n",
       "      <th>414</th>\n",
       "      <td>-8.813202</td>\n",
       "      <td>-7299.808643</td>\n",
       "      <td>28452.817622</td>\n",
       "      <td>130.264151</td>\n",
       "    </tr>\n",
       "    <tr>\n",
       "      <th>415</th>\n",
       "      <td>-38.842377</td>\n",
       "      <td>-3047.853787</td>\n",
       "      <td>43350.814716</td>\n",
       "      <td>212.575917</td>\n",
       "    </tr>\n",
       "    <tr>\n",
       "      <th>416</th>\n",
       "      <td>-46.465500</td>\n",
       "      <td>-2588.549469</td>\n",
       "      <td>53261.144868</td>\n",
       "      <td>295.519841</td>\n",
       "    </tr>\n",
       "    <tr>\n",
       "      <th>417</th>\n",
       "      <td>-26.408386</td>\n",
       "      <td>-1163.444500</td>\n",
       "      <td>71413.172792</td>\n",
       "      <td>339.754209</td>\n",
       "    </tr>\n",
       "    <tr>\n",
       "      <th>418</th>\n",
       "      <td>-7.026031</td>\n",
       "      <td>-904.105633</td>\n",
       "      <td>83069.836688</td>\n",
       "      <td>397.720409</td>\n",
       "    </tr>\n",
       "    <tr>\n",
       "      <th>419</th>\n",
       "      <td>-2.555344</td>\n",
       "      <td>44.105870</td>\n",
       "      <td>98584.186150</td>\n",
       "      <td>475.260335</td>\n",
       "    </tr>\n",
       "  </tbody>\n",
       "</table>\n",
       "</div>\n",
       "      <button class=\"colab-df-convert\" onclick=\"convertToInteractive('df-8a31f90b-df8d-401f-9bbe-35d9caa0ab79')\"\n",
       "              title=\"Convert this dataframe to an interactive table.\"\n",
       "              style=\"display:none;\">\n",
       "        \n",
       "  <svg xmlns=\"http://www.w3.org/2000/svg\" height=\"24px\"viewBox=\"0 0 24 24\"\n",
       "       width=\"24px\">\n",
       "    <path d=\"M0 0h24v24H0V0z\" fill=\"none\"/>\n",
       "    <path d=\"M18.56 5.44l.94 2.06.94-2.06 2.06-.94-2.06-.94-.94-2.06-.94 2.06-2.06.94zm-11 1L8.5 8.5l.94-2.06 2.06-.94-2.06-.94L8.5 2.5l-.94 2.06-2.06.94zm10 10l.94 2.06.94-2.06 2.06-.94-2.06-.94-.94-2.06-.94 2.06-2.06.94z\"/><path d=\"M17.41 7.96l-1.37-1.37c-.4-.4-.92-.59-1.43-.59-.52 0-1.04.2-1.43.59L10.3 9.45l-7.72 7.72c-.78.78-.78 2.05 0 2.83L4 21.41c.39.39.9.59 1.41.59.51 0 1.02-.2 1.41-.59l7.78-7.78 2.81-2.81c.8-.78.8-2.07 0-2.86zM5.41 20L4 18.59l7.72-7.72 1.47 1.35L5.41 20z\"/>\n",
       "  </svg>\n",
       "      </button>\n",
       "      \n",
       "  <style>\n",
       "    .colab-df-container {\n",
       "      display:flex;\n",
       "      flex-wrap:wrap;\n",
       "      gap: 12px;\n",
       "    }\n",
       "\n",
       "    .colab-df-convert {\n",
       "      background-color: #E8F0FE;\n",
       "      border: none;\n",
       "      border-radius: 50%;\n",
       "      cursor: pointer;\n",
       "      display: none;\n",
       "      fill: #1967D2;\n",
       "      height: 32px;\n",
       "      padding: 0 0 0 0;\n",
       "      width: 32px;\n",
       "    }\n",
       "\n",
       "    .colab-df-convert:hover {\n",
       "      background-color: #E2EBFA;\n",
       "      box-shadow: 0px 1px 2px rgba(60, 64, 67, 0.3), 0px 1px 3px 1px rgba(60, 64, 67, 0.15);\n",
       "      fill: #174EA6;\n",
       "    }\n",
       "\n",
       "    [theme=dark] .colab-df-convert {\n",
       "      background-color: #3B4455;\n",
       "      fill: #D2E3FC;\n",
       "    }\n",
       "\n",
       "    [theme=dark] .colab-df-convert:hover {\n",
       "      background-color: #434B5C;\n",
       "      box-shadow: 0px 1px 3px 1px rgba(0, 0, 0, 0.15);\n",
       "      filter: drop-shadow(0px 1px 2px rgba(0, 0, 0, 0.3));\n",
       "      fill: #FFFFFF;\n",
       "    }\n",
       "  </style>\n",
       "\n",
       "      <script>\n",
       "        const buttonEl =\n",
       "          document.querySelector('#df-8a31f90b-df8d-401f-9bbe-35d9caa0ab79 button.colab-df-convert');\n",
       "        buttonEl.style.display =\n",
       "          google.colab.kernel.accessAllowed ? 'block' : 'none';\n",
       "\n",
       "        async function convertToInteractive(key) {\n",
       "          const element = document.querySelector('#df-8a31f90b-df8d-401f-9bbe-35d9caa0ab79');\n",
       "          const dataTable =\n",
       "            await google.colab.kernel.invokeFunction('convertToInteractive',\n",
       "                                                     [key], {});\n",
       "          if (!dataTable) return;\n",
       "\n",
       "          const docLinkHtml = 'Like what you see? Visit the ' +\n",
       "            '<a target=\"_blank\" href=https://colab.research.google.com/notebooks/data_table.ipynb>data table notebook</a>'\n",
       "            + ' to learn more about interactive tables.';\n",
       "          element.innerHTML = '';\n",
       "          dataTable['output_type'] = 'display_data';\n",
       "          await google.colab.output.renderOutput(dataTable, element);\n",
       "          const docLink = document.createElement('div');\n",
       "          docLink.innerHTML = docLinkHtml;\n",
       "          element.appendChild(docLink);\n",
       "        }\n",
       "      </script>\n",
       "    </div>\n",
       "  </div>\n",
       "  "
      ],
      "text/plain": [
       "     totale_ospedalizzati_Lombardia  nuovi_positivi_Lombardia  \\\n",
       "413                       12.147812               3317.507601   \n",
       "414                       -8.813202              -7299.808643   \n",
       "415                      -38.842377              -3047.853787   \n",
       "416                      -46.465500              -2588.549469   \n",
       "417                      -26.408386              -1163.444500   \n",
       "418                       -7.026031               -904.105633   \n",
       "419                       -2.555344                 44.105870   \n",
       "\n",
       "     dimessi_guariti_Lombardia  deceduti_Lombardia  \n",
       "413               22720.132021           75.292798  \n",
       "414               28452.817622          130.264151  \n",
       "415               43350.814716          212.575917  \n",
       "416               53261.144868          295.519841  \n",
       "417               71413.172792          339.754209  \n",
       "418               83069.836688          397.720409  \n",
       "419               98584.186150          475.260335  "
      ]
     },
     "execution_count": 65,
     "metadata": {},
     "output_type": "execute_result"
    }
   ],
   "source": [
    "original_error"
   ]
  },
  {
   "cell_type": "code",
   "execution_count": null,
   "id": "TqC_1VnOUxJe",
   "metadata": {
    "colab": {
     "base_uri": "https://localhost:8080/",
     "height": 269
    },
    "executionInfo": {
     "elapsed": 247,
     "status": "ok",
     "timestamp": 1650967388029,
     "user": {
      "displayName": "Daniela Zanotti",
      "userId": "08454037263366696573"
     },
     "user_tz": -120
    },
    "id": "TqC_1VnOUxJe",
    "outputId": "40363801-9f9d-49df-9626-9a9605efd037"
   },
   "outputs": [
    {
     "data": {
      "text/html": [
       "\n",
       "  <div id=\"df-4b5a6ce2-4796-478a-9e08-c557f0fe4718\">\n",
       "    <div class=\"colab-df-container\">\n",
       "      <div>\n",
       "<style scoped>\n",
       "    .dataframe tbody tr th:only-of-type {\n",
       "        vertical-align: middle;\n",
       "    }\n",
       "\n",
       "    .dataframe tbody tr th {\n",
       "        vertical-align: top;\n",
       "    }\n",
       "\n",
       "    .dataframe thead th {\n",
       "        text-align: right;\n",
       "    }\n",
       "</style>\n",
       "<table border=\"1\" class=\"dataframe\">\n",
       "  <thead>\n",
       "    <tr style=\"text-align: right;\">\n",
       "      <th></th>\n",
       "      <th>totale_ospedalizzati_Lombardia</th>\n",
       "      <th>nuovi_positivi_Lombardia</th>\n",
       "      <th>dimessi_guariti_Lombardia</th>\n",
       "      <th>deceduti_Lombardia</th>\n",
       "    </tr>\n",
       "  </thead>\n",
       "  <tbody>\n",
       "    <tr>\n",
       "      <th>716</th>\n",
       "      <td>4.104034</td>\n",
       "      <td>3385.962177</td>\n",
       "      <td>27562.905050</td>\n",
       "      <td>79.083952</td>\n",
       "    </tr>\n",
       "    <tr>\n",
       "      <th>717</th>\n",
       "      <td>-16.242432</td>\n",
       "      <td>-6866.511453</td>\n",
       "      <td>36428.733245</td>\n",
       "      <td>138.167904</td>\n",
       "    </tr>\n",
       "    <tr>\n",
       "      <th>718</th>\n",
       "      <td>-53.227875</td>\n",
       "      <td>-2439.845487</td>\n",
       "      <td>54957.777725</td>\n",
       "      <td>216.872874</td>\n",
       "    </tr>\n",
       "    <tr>\n",
       "      <th>719</th>\n",
       "      <td>-69.201431</td>\n",
       "      <td>-2020.879008</td>\n",
       "      <td>64819.438274</td>\n",
       "      <td>288.500060</td>\n",
       "    </tr>\n",
       "    <tr>\n",
       "      <th>720</th>\n",
       "      <td>-53.605591</td>\n",
       "      <td>-630.346692</td>\n",
       "      <td>83869.346640</td>\n",
       "      <td>301.842665</td>\n",
       "    </tr>\n",
       "    <tr>\n",
       "      <th>721</th>\n",
       "      <td>-36.558105</td>\n",
       "      <td>-155.292773</td>\n",
       "      <td>97531.493165</td>\n",
       "      <td>357.530391</td>\n",
       "    </tr>\n",
       "    <tr>\n",
       "      <th>722</th>\n",
       "      <td>-40.043304</td>\n",
       "      <td>281.333013</td>\n",
       "      <td>109677.316133</td>\n",
       "      <td>431.633697</td>\n",
       "    </tr>\n",
       "  </tbody>\n",
       "</table>\n",
       "</div>\n",
       "      <button class=\"colab-df-convert\" onclick=\"convertToInteractive('df-4b5a6ce2-4796-478a-9e08-c557f0fe4718')\"\n",
       "              title=\"Convert this dataframe to an interactive table.\"\n",
       "              style=\"display:none;\">\n",
       "        \n",
       "  <svg xmlns=\"http://www.w3.org/2000/svg\" height=\"24px\"viewBox=\"0 0 24 24\"\n",
       "       width=\"24px\">\n",
       "    <path d=\"M0 0h24v24H0V0z\" fill=\"none\"/>\n",
       "    <path d=\"M18.56 5.44l.94 2.06.94-2.06 2.06-.94-2.06-.94-.94-2.06-.94 2.06-2.06.94zm-11 1L8.5 8.5l.94-2.06 2.06-.94-2.06-.94L8.5 2.5l-.94 2.06-2.06.94zm10 10l.94 2.06.94-2.06 2.06-.94-2.06-.94-.94-2.06-.94 2.06-2.06.94z\"/><path d=\"M17.41 7.96l-1.37-1.37c-.4-.4-.92-.59-1.43-.59-.52 0-1.04.2-1.43.59L10.3 9.45l-7.72 7.72c-.78.78-.78 2.05 0 2.83L4 21.41c.39.39.9.59 1.41.59.51 0 1.02-.2 1.41-.59l7.78-7.78 2.81-2.81c.8-.78.8-2.07 0-2.86zM5.41 20L4 18.59l7.72-7.72 1.47 1.35L5.41 20z\"/>\n",
       "  </svg>\n",
       "      </button>\n",
       "      \n",
       "  <style>\n",
       "    .colab-df-container {\n",
       "      display:flex;\n",
       "      flex-wrap:wrap;\n",
       "      gap: 12px;\n",
       "    }\n",
       "\n",
       "    .colab-df-convert {\n",
       "      background-color: #E8F0FE;\n",
       "      border: none;\n",
       "      border-radius: 50%;\n",
       "      cursor: pointer;\n",
       "      display: none;\n",
       "      fill: #1967D2;\n",
       "      height: 32px;\n",
       "      padding: 0 0 0 0;\n",
       "      width: 32px;\n",
       "    }\n",
       "\n",
       "    .colab-df-convert:hover {\n",
       "      background-color: #E2EBFA;\n",
       "      box-shadow: 0px 1px 2px rgba(60, 64, 67, 0.3), 0px 1px 3px 1px rgba(60, 64, 67, 0.15);\n",
       "      fill: #174EA6;\n",
       "    }\n",
       "\n",
       "    [theme=dark] .colab-df-convert {\n",
       "      background-color: #3B4455;\n",
       "      fill: #D2E3FC;\n",
       "    }\n",
       "\n",
       "    [theme=dark] .colab-df-convert:hover {\n",
       "      background-color: #434B5C;\n",
       "      box-shadow: 0px 1px 3px 1px rgba(0, 0, 0, 0.15);\n",
       "      filter: drop-shadow(0px 1px 2px rgba(0, 0, 0, 0.3));\n",
       "      fill: #FFFFFF;\n",
       "    }\n",
       "  </style>\n",
       "\n",
       "      <script>\n",
       "        const buttonEl =\n",
       "          document.querySelector('#df-4b5a6ce2-4796-478a-9e08-c557f0fe4718 button.colab-df-convert');\n",
       "        buttonEl.style.display =\n",
       "          google.colab.kernel.accessAllowed ? 'block' : 'none';\n",
       "\n",
       "        async function convertToInteractive(key) {\n",
       "          const element = document.querySelector('#df-4b5a6ce2-4796-478a-9e08-c557f0fe4718');\n",
       "          const dataTable =\n",
       "            await google.colab.kernel.invokeFunction('convertToInteractive',\n",
       "                                                     [key], {});\n",
       "          if (!dataTable) return;\n",
       "\n",
       "          const docLinkHtml = 'Like what you see? Visit the ' +\n",
       "            '<a target=\"_blank\" href=https://colab.research.google.com/notebooks/data_table.ipynb>data table notebook</a>'\n",
       "            + ' to learn more about interactive tables.';\n",
       "          element.innerHTML = '';\n",
       "          dataTable['output_type'] = 'display_data';\n",
       "          await google.colab.output.renderOutput(dataTable, element);\n",
       "          const docLink = document.createElement('div');\n",
       "          docLink.innerHTML = docLinkHtml;\n",
       "          element.appendChild(docLink);\n",
       "        }\n",
       "      </script>\n",
       "    </div>\n",
       "  </div>\n",
       "  "
      ],
      "text/plain": [
       "     totale_ospedalizzati_Lombardia  nuovi_positivi_Lombardia  \\\n",
       "716                        4.104034               3385.962177   \n",
       "717                      -16.242432              -6866.511453   \n",
       "718                      -53.227875              -2439.845487   \n",
       "719                      -69.201431              -2020.879008   \n",
       "720                      -53.605591               -630.346692   \n",
       "721                      -36.558105               -155.292773   \n",
       "722                      -40.043304                281.333013   \n",
       "\n",
       "     dimessi_guariti_Lombardia  deceduti_Lombardia  \n",
       "716               27562.905050           79.083952  \n",
       "717               36428.733245          138.167904  \n",
       "718               54957.777725          216.872874  \n",
       "719               64819.438274          288.500060  \n",
       "720               83869.346640          301.842665  \n",
       "721               97531.493165          357.530391  \n",
       "722              109677.316133          431.633697  "
      ]
     },
     "execution_count": 199,
     "metadata": {},
     "output_type": "execute_result"
    }
   ],
   "source": [
    "original_error   #8 e 64"
   ]
  },
  {
   "cell_type": "code",
   "execution_count": null,
   "id": "mcVC5VoozYNM",
   "metadata": {
    "colab": {
     "base_uri": "https://localhost:8080/",
     "height": 269
    },
    "executionInfo": {
     "elapsed": 6,
     "status": "ok",
     "timestamp": 1650958636030,
     "user": {
      "displayName": "Daniela Zanotti",
      "userId": "08454037263366696573"
     },
     "user_tz": -120
    },
    "id": "mcVC5VoozYNM",
    "outputId": "5672f5b5-c3cb-4350-f3d6-576f01cbadf3"
   },
   "outputs": [
    {
     "data": {
      "text/html": [
       "\n",
       "  <div id=\"df-95881d3c-616b-4765-88d9-26084b9750da\">\n",
       "    <div class=\"colab-df-container\">\n",
       "      <div>\n",
       "<style scoped>\n",
       "    .dataframe tbody tr th:only-of-type {\n",
       "        vertical-align: middle;\n",
       "    }\n",
       "\n",
       "    .dataframe tbody tr th {\n",
       "        vertical-align: top;\n",
       "    }\n",
       "\n",
       "    .dataframe thead th {\n",
       "        text-align: right;\n",
       "    }\n",
       "</style>\n",
       "<table border=\"1\" class=\"dataframe\">\n",
       "  <thead>\n",
       "    <tr style=\"text-align: right;\">\n",
       "      <th></th>\n",
       "      <th>totale_ospedalizzati_Lombardia</th>\n",
       "      <th>nuovi_positivi_Lombardia</th>\n",
       "      <th>dimessi_guariti_Lombardia</th>\n",
       "      <th>deceduti_Lombardia</th>\n",
       "    </tr>\n",
       "  </thead>\n",
       "  <tbody>\n",
       "    <tr>\n",
       "      <th>715</th>\n",
       "      <td>17.932618</td>\n",
       "      <td>1303.975482</td>\n",
       "      <td>4682.601431</td>\n",
       "      <td>-23.781658</td>\n",
       "    </tr>\n",
       "    <tr>\n",
       "      <th>716</th>\n",
       "      <td>27.564532</td>\n",
       "      <td>8780.922451</td>\n",
       "      <td>54964.576907</td>\n",
       "      <td>17.727309</td>\n",
       "    </tr>\n",
       "    <tr>\n",
       "      <th>717</th>\n",
       "      <td>15.801377</td>\n",
       "      <td>-236.885656</td>\n",
       "      <td>59258.456980</td>\n",
       "      <td>67.404220</td>\n",
       "    </tr>\n",
       "    <tr>\n",
       "      <th>718</th>\n",
       "      <td>-11.561924</td>\n",
       "      <td>4417.833517</td>\n",
       "      <td>78223.006554</td>\n",
       "      <td>98.903207</td>\n",
       "    </tr>\n",
       "    <tr>\n",
       "      <th>719</th>\n",
       "      <td>-19.270583</td>\n",
       "      <td>3203.017177</td>\n",
       "      <td>99110.329302</td>\n",
       "      <td>140.737050</td>\n",
       "    </tr>\n",
       "    <tr>\n",
       "      <th>720</th>\n",
       "      <td>-5.911258</td>\n",
       "      <td>5887.690741</td>\n",
       "      <td>120923.232310</td>\n",
       "      <td>185.297172</td>\n",
       "    </tr>\n",
       "    <tr>\n",
       "      <th>721</th>\n",
       "      <td>17.725592</td>\n",
       "      <td>5799.617368</td>\n",
       "      <td>139055.803732</td>\n",
       "      <td>280.240693</td>\n",
       "    </tr>\n",
       "  </tbody>\n",
       "</table>\n",
       "</div>\n",
       "      <button class=\"colab-df-convert\" onclick=\"convertToInteractive('df-95881d3c-616b-4765-88d9-26084b9750da')\"\n",
       "              title=\"Convert this dataframe to an interactive table.\"\n",
       "              style=\"display:none;\">\n",
       "        \n",
       "  <svg xmlns=\"http://www.w3.org/2000/svg\" height=\"24px\"viewBox=\"0 0 24 24\"\n",
       "       width=\"24px\">\n",
       "    <path d=\"M0 0h24v24H0V0z\" fill=\"none\"/>\n",
       "    <path d=\"M18.56 5.44l.94 2.06.94-2.06 2.06-.94-2.06-.94-.94-2.06-.94 2.06-2.06.94zm-11 1L8.5 8.5l.94-2.06 2.06-.94-2.06-.94L8.5 2.5l-.94 2.06-2.06.94zm10 10l.94 2.06.94-2.06 2.06-.94-2.06-.94-.94-2.06-.94 2.06-2.06.94z\"/><path d=\"M17.41 7.96l-1.37-1.37c-.4-.4-.92-.59-1.43-.59-.52 0-1.04.2-1.43.59L10.3 9.45l-7.72 7.72c-.78.78-.78 2.05 0 2.83L4 21.41c.39.39.9.59 1.41.59.51 0 1.02-.2 1.41-.59l7.78-7.78 2.81-2.81c.8-.78.8-2.07 0-2.86zM5.41 20L4 18.59l7.72-7.72 1.47 1.35L5.41 20z\"/>\n",
       "  </svg>\n",
       "      </button>\n",
       "      \n",
       "  <style>\n",
       "    .colab-df-container {\n",
       "      display:flex;\n",
       "      flex-wrap:wrap;\n",
       "      gap: 12px;\n",
       "    }\n",
       "\n",
       "    .colab-df-convert {\n",
       "      background-color: #E8F0FE;\n",
       "      border: none;\n",
       "      border-radius: 50%;\n",
       "      cursor: pointer;\n",
       "      display: none;\n",
       "      fill: #1967D2;\n",
       "      height: 32px;\n",
       "      padding: 0 0 0 0;\n",
       "      width: 32px;\n",
       "    }\n",
       "\n",
       "    .colab-df-convert:hover {\n",
       "      background-color: #E2EBFA;\n",
       "      box-shadow: 0px 1px 2px rgba(60, 64, 67, 0.3), 0px 1px 3px 1px rgba(60, 64, 67, 0.15);\n",
       "      fill: #174EA6;\n",
       "    }\n",
       "\n",
       "    [theme=dark] .colab-df-convert {\n",
       "      background-color: #3B4455;\n",
       "      fill: #D2E3FC;\n",
       "    }\n",
       "\n",
       "    [theme=dark] .colab-df-convert:hover {\n",
       "      background-color: #434B5C;\n",
       "      box-shadow: 0px 1px 3px 1px rgba(0, 0, 0, 0.15);\n",
       "      filter: drop-shadow(0px 1px 2px rgba(0, 0, 0, 0.3));\n",
       "      fill: #FFFFFF;\n",
       "    }\n",
       "  </style>\n",
       "\n",
       "      <script>\n",
       "        const buttonEl =\n",
       "          document.querySelector('#df-95881d3c-616b-4765-88d9-26084b9750da button.colab-df-convert');\n",
       "        buttonEl.style.display =\n",
       "          google.colab.kernel.accessAllowed ? 'block' : 'none';\n",
       "\n",
       "        async function convertToInteractive(key) {\n",
       "          const element = document.querySelector('#df-95881d3c-616b-4765-88d9-26084b9750da');\n",
       "          const dataTable =\n",
       "            await google.colab.kernel.invokeFunction('convertToInteractive',\n",
       "                                                     [key], {});\n",
       "          if (!dataTable) return;\n",
       "\n",
       "          const docLinkHtml = 'Like what you see? Visit the ' +\n",
       "            '<a target=\"_blank\" href=https://colab.research.google.com/notebooks/data_table.ipynb>data table notebook</a>'\n",
       "            + ' to learn more about interactive tables.';\n",
       "          element.innerHTML = '';\n",
       "          dataTable['output_type'] = 'display_data';\n",
       "          await google.colab.output.renderOutput(dataTable, element);\n",
       "          const docLink = document.createElement('div');\n",
       "          docLink.innerHTML = docLinkHtml;\n",
       "          element.appendChild(docLink);\n",
       "        }\n",
       "      </script>\n",
       "    </div>\n",
       "  </div>\n",
       "  "
      ],
      "text/plain": [
       "     totale_ospedalizzati_Lombardia  nuovi_positivi_Lombardia  \\\n",
       "715                       17.932618               1303.975482   \n",
       "716                       27.564532               8780.922451   \n",
       "717                       15.801377               -236.885656   \n",
       "718                      -11.561924               4417.833517   \n",
       "719                      -19.270583               3203.017177   \n",
       "720                       -5.911258               5887.690741   \n",
       "721                       17.725592               5799.617368   \n",
       "\n",
       "     dimessi_guariti_Lombardia  deceduti_Lombardia  \n",
       "715                4682.601431          -23.781658  \n",
       "716               54964.576907           17.727309  \n",
       "717               59258.456980           67.404220  \n",
       "718               78223.006554           98.903207  \n",
       "719               99110.329302          140.737050  \n",
       "720              120923.232310          185.297172  \n",
       "721              139055.803732          280.240693  "
      ]
     },
     "execution_count": 47,
     "metadata": {},
     "output_type": "execute_result"
    }
   ],
   "source": [
    "original_error   #16 e  64"
   ]
  },
  {
   "cell_type": "code",
   "execution_count": null,
   "id": "8Tt82ulGP4xg",
   "metadata": {
    "colab": {
     "base_uri": "https://localhost:8080/",
     "height": 269
    },
    "executionInfo": {
     "elapsed": 294,
     "status": "ok",
     "timestamp": 1650966501464,
     "user": {
      "displayName": "Daniela Zanotti",
      "userId": "08454037263366696573"
     },
     "user_tz": -120
    },
    "id": "8Tt82ulGP4xg",
    "outputId": "b4d7dae5-1c61-42b5-f829-20247be8aa7d"
   },
   "outputs": [
    {
     "data": {
      "text/html": [
       "\n",
       "  <div id=\"df-74e2258d-d97b-46bc-9ed0-7d8ab7bf1967\">\n",
       "    <div class=\"colab-df-container\">\n",
       "      <div>\n",
       "<style scoped>\n",
       "    .dataframe tbody tr th:only-of-type {\n",
       "        vertical-align: middle;\n",
       "    }\n",
       "\n",
       "    .dataframe tbody tr th {\n",
       "        vertical-align: top;\n",
       "    }\n",
       "\n",
       "    .dataframe thead th {\n",
       "        text-align: right;\n",
       "    }\n",
       "</style>\n",
       "<table border=\"1\" class=\"dataframe\">\n",
       "  <thead>\n",
       "    <tr style=\"text-align: right;\">\n",
       "      <th></th>\n",
       "      <th>totale_ospedalizzati_Lombardia</th>\n",
       "      <th>nuovi_positivi_Lombardia</th>\n",
       "      <th>dimessi_guariti_Lombardia</th>\n",
       "      <th>deceduti_Lombardia</th>\n",
       "    </tr>\n",
       "  </thead>\n",
       "  <tbody>\n",
       "    <tr>\n",
       "      <th>716</th>\n",
       "      <td>-4.956940</td>\n",
       "      <td>3571.927370</td>\n",
       "      <td>26146.177138</td>\n",
       "      <td>43.223980</td>\n",
       "    </tr>\n",
       "    <tr>\n",
       "      <th>717</th>\n",
       "      <td>-36.303467</td>\n",
       "      <td>-6550.933060</td>\n",
       "      <td>31643.478838</td>\n",
       "      <td>57.882410</td>\n",
       "    </tr>\n",
       "    <tr>\n",
       "      <th>718</th>\n",
       "      <td>-82.583344</td>\n",
       "      <td>-2479.841618</td>\n",
       "      <td>46635.275532</td>\n",
       "      <td>105.350537</td>\n",
       "    </tr>\n",
       "    <tr>\n",
       "      <th>719</th>\n",
       "      <td>-112.381615</td>\n",
       "      <td>-2639.690397</td>\n",
       "      <td>54942.163475</td>\n",
       "      <td>141.037390</td>\n",
       "    </tr>\n",
       "    <tr>\n",
       "      <th>720</th>\n",
       "      <td>-113.951431</td>\n",
       "      <td>-1162.852666</td>\n",
       "      <td>71045.938511</td>\n",
       "      <td>151.713897</td>\n",
       "    </tr>\n",
       "    <tr>\n",
       "      <th>721</th>\n",
       "      <td>-111.726974</td>\n",
       "      <td>762.796945</td>\n",
       "      <td>76848.681496</td>\n",
       "      <td>167.296692</td>\n",
       "    </tr>\n",
       "    <tr>\n",
       "      <th>722</th>\n",
       "      <td>-128.192108</td>\n",
       "      <td>-666.277603</td>\n",
       "      <td>84780.011770</td>\n",
       "      <td>204.953864</td>\n",
       "    </tr>\n",
       "  </tbody>\n",
       "</table>\n",
       "</div>\n",
       "      <button class=\"colab-df-convert\" onclick=\"convertToInteractive('df-74e2258d-d97b-46bc-9ed0-7d8ab7bf1967')\"\n",
       "              title=\"Convert this dataframe to an interactive table.\"\n",
       "              style=\"display:none;\">\n",
       "        \n",
       "  <svg xmlns=\"http://www.w3.org/2000/svg\" height=\"24px\"viewBox=\"0 0 24 24\"\n",
       "       width=\"24px\">\n",
       "    <path d=\"M0 0h24v24H0V0z\" fill=\"none\"/>\n",
       "    <path d=\"M18.56 5.44l.94 2.06.94-2.06 2.06-.94-2.06-.94-.94-2.06-.94 2.06-2.06.94zm-11 1L8.5 8.5l.94-2.06 2.06-.94-2.06-.94L8.5 2.5l-.94 2.06-2.06.94zm10 10l.94 2.06.94-2.06 2.06-.94-2.06-.94-.94-2.06-.94 2.06-2.06.94z\"/><path d=\"M17.41 7.96l-1.37-1.37c-.4-.4-.92-.59-1.43-.59-.52 0-1.04.2-1.43.59L10.3 9.45l-7.72 7.72c-.78.78-.78 2.05 0 2.83L4 21.41c.39.39.9.59 1.41.59.51 0 1.02-.2 1.41-.59l7.78-7.78 2.81-2.81c.8-.78.8-2.07 0-2.86zM5.41 20L4 18.59l7.72-7.72 1.47 1.35L5.41 20z\"/>\n",
       "  </svg>\n",
       "      </button>\n",
       "      \n",
       "  <style>\n",
       "    .colab-df-container {\n",
       "      display:flex;\n",
       "      flex-wrap:wrap;\n",
       "      gap: 12px;\n",
       "    }\n",
       "\n",
       "    .colab-df-convert {\n",
       "      background-color: #E8F0FE;\n",
       "      border: none;\n",
       "      border-radius: 50%;\n",
       "      cursor: pointer;\n",
       "      display: none;\n",
       "      fill: #1967D2;\n",
       "      height: 32px;\n",
       "      padding: 0 0 0 0;\n",
       "      width: 32px;\n",
       "    }\n",
       "\n",
       "    .colab-df-convert:hover {\n",
       "      background-color: #E2EBFA;\n",
       "      box-shadow: 0px 1px 2px rgba(60, 64, 67, 0.3), 0px 1px 3px 1px rgba(60, 64, 67, 0.15);\n",
       "      fill: #174EA6;\n",
       "    }\n",
       "\n",
       "    [theme=dark] .colab-df-convert {\n",
       "      background-color: #3B4455;\n",
       "      fill: #D2E3FC;\n",
       "    }\n",
       "\n",
       "    [theme=dark] .colab-df-convert:hover {\n",
       "      background-color: #434B5C;\n",
       "      box-shadow: 0px 1px 3px 1px rgba(0, 0, 0, 0.15);\n",
       "      filter: drop-shadow(0px 1px 2px rgba(0, 0, 0, 0.3));\n",
       "      fill: #FFFFFF;\n",
       "    }\n",
       "  </style>\n",
       "\n",
       "      <script>\n",
       "        const buttonEl =\n",
       "          document.querySelector('#df-74e2258d-d97b-46bc-9ed0-7d8ab7bf1967 button.colab-df-convert');\n",
       "        buttonEl.style.display =\n",
       "          google.colab.kernel.accessAllowed ? 'block' : 'none';\n",
       "\n",
       "        async function convertToInteractive(key) {\n",
       "          const element = document.querySelector('#df-74e2258d-d97b-46bc-9ed0-7d8ab7bf1967');\n",
       "          const dataTable =\n",
       "            await google.colab.kernel.invokeFunction('convertToInteractive',\n",
       "                                                     [key], {});\n",
       "          if (!dataTable) return;\n",
       "\n",
       "          const docLinkHtml = 'Like what you see? Visit the ' +\n",
       "            '<a target=\"_blank\" href=https://colab.research.google.com/notebooks/data_table.ipynb>data table notebook</a>'\n",
       "            + ' to learn more about interactive tables.';\n",
       "          element.innerHTML = '';\n",
       "          dataTable['output_type'] = 'display_data';\n",
       "          await google.colab.output.renderOutput(dataTable, element);\n",
       "          const docLink = document.createElement('div');\n",
       "          docLink.innerHTML = docLinkHtml;\n",
       "          element.appendChild(docLink);\n",
       "        }\n",
       "      </script>\n",
       "    </div>\n",
       "  </div>\n",
       "  "
      ],
      "text/plain": [
       "     totale_ospedalizzati_Lombardia  nuovi_positivi_Lombardia  \\\n",
       "716                       -4.956940               3571.927370   \n",
       "717                      -36.303467              -6550.933060   \n",
       "718                      -82.583344              -2479.841618   \n",
       "719                     -112.381615              -2639.690397   \n",
       "720                     -113.951431              -1162.852666   \n",
       "721                     -111.726974                762.796945   \n",
       "722                     -128.192108               -666.277603   \n",
       "\n",
       "     dimessi_guariti_Lombardia  deceduti_Lombardia  \n",
       "716               26146.177138           43.223980  \n",
       "717               31643.478838           57.882410  \n",
       "718               46635.275532          105.350537  \n",
       "719               54942.163475          141.037390  \n",
       "720               71045.938511          151.713897  \n",
       "721               76848.681496          167.296692  \n",
       "722               84780.011770          204.953864  "
      ]
     },
     "execution_count": 189,
     "metadata": {},
     "output_type": "execute_result"
    }
   ],
   "source": [
    "original_error  #8 e 128"
   ]
  },
  {
   "cell_type": "code",
   "execution_count": null,
   "id": "nXzOa3wSEkD7",
   "metadata": {
    "colab": {
     "base_uri": "https://localhost:8080/",
     "height": 269
    },
    "executionInfo": {
     "elapsed": 7,
     "status": "ok",
     "timestamp": 1650965794897,
     "user": {
      "displayName": "Daniela Zanotti",
      "userId": "08454037263366696573"
     },
     "user_tz": -120
    },
    "id": "nXzOa3wSEkD7",
    "outputId": "e0bd4857-2881-4966-de49-9eddb6e43f6e"
   },
   "outputs": [
    {
     "data": {
      "text/html": [
       "\n",
       "  <div id=\"df-a727bb52-dfe6-40fb-8368-d49f69f7b9fe\">\n",
       "    <div class=\"colab-df-container\">\n",
       "      <div>\n",
       "<style scoped>\n",
       "    .dataframe tbody tr th:only-of-type {\n",
       "        vertical-align: middle;\n",
       "    }\n",
       "\n",
       "    .dataframe tbody tr th {\n",
       "        vertical-align: top;\n",
       "    }\n",
       "\n",
       "    .dataframe thead th {\n",
       "        text-align: right;\n",
       "    }\n",
       "</style>\n",
       "<table border=\"1\" class=\"dataframe\">\n",
       "  <thead>\n",
       "    <tr style=\"text-align: right;\">\n",
       "      <th></th>\n",
       "      <th>totale_ospedalizzati_Lombardia</th>\n",
       "      <th>nuovi_positivi_Lombardia</th>\n",
       "      <th>dimessi_guariti_Lombardia</th>\n",
       "      <th>deceduti_Lombardia</th>\n",
       "    </tr>\n",
       "  </thead>\n",
       "  <tbody>\n",
       "    <tr>\n",
       "      <th>716</th>\n",
       "      <td>18.089767</td>\n",
       "      <td>3478.176313</td>\n",
       "      <td>27136.087376</td>\n",
       "      <td>59.754737</td>\n",
       "    </tr>\n",
       "    <tr>\n",
       "      <th>717</th>\n",
       "      <td>10.094955</td>\n",
       "      <td>-6579.107902</td>\n",
       "      <td>36762.931189</td>\n",
       "      <td>91.289004</td>\n",
       "    </tr>\n",
       "    <tr>\n",
       "      <th>718</th>\n",
       "      <td>-12.845566</td>\n",
       "      <td>-1616.436522</td>\n",
       "      <td>57421.049595</td>\n",
       "      <td>148.759728</td>\n",
       "    </tr>\n",
       "    <tr>\n",
       "      <th>719</th>\n",
       "      <td>-9.032059</td>\n",
       "      <td>-1061.931576</td>\n",
       "      <td>65901.673274</td>\n",
       "      <td>199.459930</td>\n",
       "    </tr>\n",
       "    <tr>\n",
       "      <th>720</th>\n",
       "      <td>11.431137</td>\n",
       "      <td>879.040287</td>\n",
       "      <td>84669.297940</td>\n",
       "      <td>221.405903</td>\n",
       "    </tr>\n",
       "    <tr>\n",
       "      <th>721</th>\n",
       "      <td>30.965103</td>\n",
       "      <td>969.877299</td>\n",
       "      <td>99312.505685</td>\n",
       "      <td>253.680178</td>\n",
       "    </tr>\n",
       "    <tr>\n",
       "      <th>722</th>\n",
       "      <td>41.504776</td>\n",
       "      <td>684.078021</td>\n",
       "      <td>112221.704009</td>\n",
       "      <td>308.307729</td>\n",
       "    </tr>\n",
       "  </tbody>\n",
       "</table>\n",
       "</div>\n",
       "      <button class=\"colab-df-convert\" onclick=\"convertToInteractive('df-a727bb52-dfe6-40fb-8368-d49f69f7b9fe')\"\n",
       "              title=\"Convert this dataframe to an interactive table.\"\n",
       "              style=\"display:none;\">\n",
       "        \n",
       "  <svg xmlns=\"http://www.w3.org/2000/svg\" height=\"24px\"viewBox=\"0 0 24 24\"\n",
       "       width=\"24px\">\n",
       "    <path d=\"M0 0h24v24H0V0z\" fill=\"none\"/>\n",
       "    <path d=\"M18.56 5.44l.94 2.06.94-2.06 2.06-.94-2.06-.94-.94-2.06-.94 2.06-2.06.94zm-11 1L8.5 8.5l.94-2.06 2.06-.94-2.06-.94L8.5 2.5l-.94 2.06-2.06.94zm10 10l.94 2.06.94-2.06 2.06-.94-2.06-.94-.94-2.06-.94 2.06-2.06.94z\"/><path d=\"M17.41 7.96l-1.37-1.37c-.4-.4-.92-.59-1.43-.59-.52 0-1.04.2-1.43.59L10.3 9.45l-7.72 7.72c-.78.78-.78 2.05 0 2.83L4 21.41c.39.39.9.59 1.41.59.51 0 1.02-.2 1.41-.59l7.78-7.78 2.81-2.81c.8-.78.8-2.07 0-2.86zM5.41 20L4 18.59l7.72-7.72 1.47 1.35L5.41 20z\"/>\n",
       "  </svg>\n",
       "      </button>\n",
       "      \n",
       "  <style>\n",
       "    .colab-df-container {\n",
       "      display:flex;\n",
       "      flex-wrap:wrap;\n",
       "      gap: 12px;\n",
       "    }\n",
       "\n",
       "    .colab-df-convert {\n",
       "      background-color: #E8F0FE;\n",
       "      border: none;\n",
       "      border-radius: 50%;\n",
       "      cursor: pointer;\n",
       "      display: none;\n",
       "      fill: #1967D2;\n",
       "      height: 32px;\n",
       "      padding: 0 0 0 0;\n",
       "      width: 32px;\n",
       "    }\n",
       "\n",
       "    .colab-df-convert:hover {\n",
       "      background-color: #E2EBFA;\n",
       "      box-shadow: 0px 1px 2px rgba(60, 64, 67, 0.3), 0px 1px 3px 1px rgba(60, 64, 67, 0.15);\n",
       "      fill: #174EA6;\n",
       "    }\n",
       "\n",
       "    [theme=dark] .colab-df-convert {\n",
       "      background-color: #3B4455;\n",
       "      fill: #D2E3FC;\n",
       "    }\n",
       "\n",
       "    [theme=dark] .colab-df-convert:hover {\n",
       "      background-color: #434B5C;\n",
       "      box-shadow: 0px 1px 3px 1px rgba(0, 0, 0, 0.15);\n",
       "      filter: drop-shadow(0px 1px 2px rgba(0, 0, 0, 0.3));\n",
       "      fill: #FFFFFF;\n",
       "    }\n",
       "  </style>\n",
       "\n",
       "      <script>\n",
       "        const buttonEl =\n",
       "          document.querySelector('#df-a727bb52-dfe6-40fb-8368-d49f69f7b9fe button.colab-df-convert');\n",
       "        buttonEl.style.display =\n",
       "          google.colab.kernel.accessAllowed ? 'block' : 'none';\n",
       "\n",
       "        async function convertToInteractive(key) {\n",
       "          const element = document.querySelector('#df-a727bb52-dfe6-40fb-8368-d49f69f7b9fe');\n",
       "          const dataTable =\n",
       "            await google.colab.kernel.invokeFunction('convertToInteractive',\n",
       "                                                     [key], {});\n",
       "          if (!dataTable) return;\n",
       "\n",
       "          const docLinkHtml = 'Like what you see? Visit the ' +\n",
       "            '<a target=\"_blank\" href=https://colab.research.google.com/notebooks/data_table.ipynb>data table notebook</a>'\n",
       "            + ' to learn more about interactive tables.';\n",
       "          element.innerHTML = '';\n",
       "          dataTable['output_type'] = 'display_data';\n",
       "          await google.colab.output.renderOutput(dataTable, element);\n",
       "          const docLink = document.createElement('div');\n",
       "          docLink.innerHTML = docLinkHtml;\n",
       "          element.appendChild(docLink);\n",
       "        }\n",
       "      </script>\n",
       "    </div>\n",
       "  </div>\n",
       "  "
      ],
      "text/plain": [
       "     totale_ospedalizzati_Lombardia  nuovi_positivi_Lombardia  \\\n",
       "716                       18.089767               3478.176313   \n",
       "717                       10.094955              -6579.107902   \n",
       "718                      -12.845566              -1616.436522   \n",
       "719                       -9.032059              -1061.931576   \n",
       "720                       11.431137                879.040287   \n",
       "721                       30.965103                969.877299   \n",
       "722                       41.504776                684.078021   \n",
       "\n",
       "     dimessi_guariti_Lombardia  deceduti_Lombardia  \n",
       "716               27136.087376           59.754737  \n",
       "717               36762.931189           91.289004  \n",
       "718               57421.049595          148.759728  \n",
       "719               65901.673274          199.459930  \n",
       "720               84669.297940          221.405903  \n",
       "721               99312.505685          253.680178  \n",
       "722              112221.704009          308.307729  "
      ]
     },
     "execution_count": 179,
     "metadata": {},
     "output_type": "execute_result"
    }
   ],
   "source": [
    "original_error   # 8 e 32"
   ]
  },
  {
   "cell_type": "code",
   "execution_count": null,
   "id": "9oqgPd21I50w",
   "metadata": {
    "colab": {
     "base_uri": "https://localhost:8080/",
     "height": 269
    },
    "executionInfo": {
     "elapsed": 282,
     "status": "ok",
     "timestamp": 1650880393014,
     "user": {
      "displayName": "Daniela Zanotti",
      "userId": "08454037263366696573"
     },
     "user_tz": -120
    },
    "id": "9oqgPd21I50w",
    "outputId": "da7f347a-e9cf-4a6b-a2e9-566f8577b2e7"
   },
   "outputs": [
    {
     "data": {
      "text/html": [
       "\n",
       "  <div id=\"df-1c460602-be29-473b-8945-1d8753da3ec4\">\n",
       "    <div class=\"colab-df-container\">\n",
       "      <div>\n",
       "<style scoped>\n",
       "    .dataframe tbody tr th:only-of-type {\n",
       "        vertical-align: middle;\n",
       "    }\n",
       "\n",
       "    .dataframe tbody tr th {\n",
       "        vertical-align: top;\n",
       "    }\n",
       "\n",
       "    .dataframe thead th {\n",
       "        text-align: right;\n",
       "    }\n",
       "</style>\n",
       "<table border=\"1\" class=\"dataframe\">\n",
       "  <thead>\n",
       "    <tr style=\"text-align: right;\">\n",
       "      <th></th>\n",
       "      <th>0</th>\n",
       "      <th>1</th>\n",
       "      <th>2</th>\n",
       "      <th>3</th>\n",
       "    </tr>\n",
       "  </thead>\n",
       "  <tbody>\n",
       "    <tr>\n",
       "      <th>400</th>\n",
       "      <td>21.308988</td>\n",
       "      <td>1474.808722</td>\n",
       "      <td>-3133.496353</td>\n",
       "      <td>-3.889790</td>\n",
       "    </tr>\n",
       "    <tr>\n",
       "      <th>401</th>\n",
       "      <td>33.990829</td>\n",
       "      <td>9333.998699</td>\n",
       "      <td>6566.770519</td>\n",
       "      <td>15.407929</td>\n",
       "    </tr>\n",
       "    <tr>\n",
       "      <th>402</th>\n",
       "      <td>18.805602</td>\n",
       "      <td>-1757.128960</td>\n",
       "      <td>-2761.985098</td>\n",
       "      <td>10.680982</td>\n",
       "    </tr>\n",
       "    <tr>\n",
       "      <th>403</th>\n",
       "      <td>-6.910659</td>\n",
       "      <td>2933.741488</td>\n",
       "      <td>3258.401334</td>\n",
       "      <td>12.897211</td>\n",
       "    </tr>\n",
       "    <tr>\n",
       "      <th>404</th>\n",
       "      <td>-3.873232</td>\n",
       "      <td>3015.850333</td>\n",
       "      <td>-5564.850322</td>\n",
       "      <td>4.743937</td>\n",
       "    </tr>\n",
       "    <tr>\n",
       "      <th>405</th>\n",
       "      <td>26.095907</td>\n",
       "      <td>4745.671369</td>\n",
       "      <td>-6541.455282</td>\n",
       "      <td>-14.400937</td>\n",
       "    </tr>\n",
       "    <tr>\n",
       "      <th>406</th>\n",
       "      <td>49.616053</td>\n",
       "      <td>4724.876419</td>\n",
       "      <td>-7899.469653</td>\n",
       "      <td>-13.989847</td>\n",
       "    </tr>\n",
       "  </tbody>\n",
       "</table>\n",
       "</div>\n",
       "      <button class=\"colab-df-convert\" onclick=\"convertToInteractive('df-1c460602-be29-473b-8945-1d8753da3ec4')\"\n",
       "              title=\"Convert this dataframe to an interactive table.\"\n",
       "              style=\"display:none;\">\n",
       "        \n",
       "  <svg xmlns=\"http://www.w3.org/2000/svg\" height=\"24px\"viewBox=\"0 0 24 24\"\n",
       "       width=\"24px\">\n",
       "    <path d=\"M0 0h24v24H0V0z\" fill=\"none\"/>\n",
       "    <path d=\"M18.56 5.44l.94 2.06.94-2.06 2.06-.94-2.06-.94-.94-2.06-.94 2.06-2.06.94zm-11 1L8.5 8.5l.94-2.06 2.06-.94-2.06-.94L8.5 2.5l-.94 2.06-2.06.94zm10 10l.94 2.06.94-2.06 2.06-.94-2.06-.94-.94-2.06-.94 2.06-2.06.94z\"/><path d=\"M17.41 7.96l-1.37-1.37c-.4-.4-.92-.59-1.43-.59-.52 0-1.04.2-1.43.59L10.3 9.45l-7.72 7.72c-.78.78-.78 2.05 0 2.83L4 21.41c.39.39.9.59 1.41.59.51 0 1.02-.2 1.41-.59l7.78-7.78 2.81-2.81c.8-.78.8-2.07 0-2.86zM5.41 20L4 18.59l7.72-7.72 1.47 1.35L5.41 20z\"/>\n",
       "  </svg>\n",
       "      </button>\n",
       "      \n",
       "  <style>\n",
       "    .colab-df-container {\n",
       "      display:flex;\n",
       "      flex-wrap:wrap;\n",
       "      gap: 12px;\n",
       "    }\n",
       "\n",
       "    .colab-df-convert {\n",
       "      background-color: #E8F0FE;\n",
       "      border: none;\n",
       "      border-radius: 50%;\n",
       "      cursor: pointer;\n",
       "      display: none;\n",
       "      fill: #1967D2;\n",
       "      height: 32px;\n",
       "      padding: 0 0 0 0;\n",
       "      width: 32px;\n",
       "    }\n",
       "\n",
       "    .colab-df-convert:hover {\n",
       "      background-color: #E2EBFA;\n",
       "      box-shadow: 0px 1px 2px rgba(60, 64, 67, 0.3), 0px 1px 3px 1px rgba(60, 64, 67, 0.15);\n",
       "      fill: #174EA6;\n",
       "    }\n",
       "\n",
       "    [theme=dark] .colab-df-convert {\n",
       "      background-color: #3B4455;\n",
       "      fill: #D2E3FC;\n",
       "    }\n",
       "\n",
       "    [theme=dark] .colab-df-convert:hover {\n",
       "      background-color: #434B5C;\n",
       "      box-shadow: 0px 1px 3px 1px rgba(0, 0, 0, 0.15);\n",
       "      filter: drop-shadow(0px 1px 2px rgba(0, 0, 0, 0.3));\n",
       "      fill: #FFFFFF;\n",
       "    }\n",
       "  </style>\n",
       "\n",
       "      <script>\n",
       "        const buttonEl =\n",
       "          document.querySelector('#df-1c460602-be29-473b-8945-1d8753da3ec4 button.colab-df-convert');\n",
       "        buttonEl.style.display =\n",
       "          google.colab.kernel.accessAllowed ? 'block' : 'none';\n",
       "\n",
       "        async function convertToInteractive(key) {\n",
       "          const element = document.querySelector('#df-1c460602-be29-473b-8945-1d8753da3ec4');\n",
       "          const dataTable =\n",
       "            await google.colab.kernel.invokeFunction('convertToInteractive',\n",
       "                                                     [key], {});\n",
       "          if (!dataTable) return;\n",
       "\n",
       "          const docLinkHtml = 'Like what you see? Visit the ' +\n",
       "            '<a target=\"_blank\" href=https://colab.research.google.com/notebooks/data_table.ipynb>data table notebook</a>'\n",
       "            + ' to learn more about interactive tables.';\n",
       "          element.innerHTML = '';\n",
       "          dataTable['output_type'] = 'display_data';\n",
       "          await google.colab.output.renderOutput(dataTable, element);\n",
       "          const docLink = document.createElement('div');\n",
       "          docLink.innerHTML = docLinkHtml;\n",
       "          element.appendChild(docLink);\n",
       "        }\n",
       "      </script>\n",
       "    </div>\n",
       "  </div>\n",
       "  "
      ],
      "text/plain": [
       "             0            1            2          3\n",
       "400  21.308988  1474.808722 -3133.496353  -3.889790\n",
       "401  33.990829  9333.998699  6566.770519  15.407929\n",
       "402  18.805602 -1757.128960 -2761.985098  10.680982\n",
       "403  -6.910659  2933.741488  3258.401334  12.897211\n",
       "404  -3.873232  3015.850333 -5564.850322   4.743937\n",
       "405  26.095907  4745.671369 -6541.455282 -14.400937\n",
       "406  49.616053  4724.876419 -7899.469653 -13.989847"
      ]
     },
     "execution_count": 22,
     "metadata": {},
     "output_type": "execute_result"
    }
   ],
   "source": [
    "original_errors      # con lstm(32) e dropout = 0.1 + giorni 2021"
   ]
  },
  {
   "cell_type": "code",
   "execution_count": null,
   "id": "YUeihmU3QmgY",
   "metadata": {
    "colab": {
     "base_uri": "https://localhost:8080/",
     "height": 269
    },
    "executionInfo": {
     "elapsed": 12,
     "status": "ok",
     "timestamp": 1650817161135,
     "user": {
      "displayName": "Daniela Zanotti",
      "userId": "08454037263366696573"
     },
     "user_tz": -120
    },
    "id": "YUeihmU3QmgY",
    "outputId": "8b0840c3-ddc9-4830-d39f-00b30de9b80f"
   },
   "outputs": [
    {
     "data": {
      "text/html": [
       "\n",
       "  <div id=\"df-5ab1ff21-c59c-4217-adb7-350871dad72b\">\n",
       "    <div class=\"colab-df-container\">\n",
       "      <div>\n",
       "<style scoped>\n",
       "    .dataframe tbody tr th:only-of-type {\n",
       "        vertical-align: middle;\n",
       "    }\n",
       "\n",
       "    .dataframe tbody tr th {\n",
       "        vertical-align: top;\n",
       "    }\n",
       "\n",
       "    .dataframe thead th {\n",
       "        text-align: right;\n",
       "    }\n",
       "</style>\n",
       "<table border=\"1\" class=\"dataframe\">\n",
       "  <thead>\n",
       "    <tr style=\"text-align: right;\">\n",
       "      <th></th>\n",
       "      <th>0</th>\n",
       "      <th>1</th>\n",
       "      <th>2</th>\n",
       "      <th>3</th>\n",
       "    </tr>\n",
       "  </thead>\n",
       "  <tbody>\n",
       "    <tr>\n",
       "      <th>2022-04-16</th>\n",
       "      <td>-31.257116</td>\n",
       "      <td>126.904654</td>\n",
       "      <td>3843.435223</td>\n",
       "      <td>-14.903794</td>\n",
       "    </tr>\n",
       "    <tr>\n",
       "      <th>2022-04-17</th>\n",
       "      <td>-31.745796</td>\n",
       "      <td>1047.799425</td>\n",
       "      <td>-1721.510338</td>\n",
       "      <td>124.028686</td>\n",
       "    </tr>\n",
       "    <tr>\n",
       "      <th>2022-04-18</th>\n",
       "      <td>-25.830087</td>\n",
       "      <td>1809.212747</td>\n",
       "      <td>-16284.710360</td>\n",
       "      <td>189.014805</td>\n",
       "    </tr>\n",
       "    <tr>\n",
       "      <th>2022-04-19</th>\n",
       "      <td>-48.496823</td>\n",
       "      <td>10416.792498</td>\n",
       "      <td>-11280.871407</td>\n",
       "      <td>190.160264</td>\n",
       "    </tr>\n",
       "    <tr>\n",
       "      <th>2022-04-20</th>\n",
       "      <td>-93.589378</td>\n",
       "      <td>-5331.095324</td>\n",
       "      <td>-24258.273788</td>\n",
       "      <td>177.196352</td>\n",
       "    </tr>\n",
       "    <tr>\n",
       "      <th>2022-04-21</th>\n",
       "      <td>-144.012695</td>\n",
       "      <td>-8.361437</td>\n",
       "      <td>-583.756746</td>\n",
       "      <td>305.809468</td>\n",
       "    </tr>\n",
       "    <tr>\n",
       "      <th>2022-04-22</th>\n",
       "      <td>-153.774934</td>\n",
       "      <td>653.030712</td>\n",
       "      <td>-12807.739721</td>\n",
       "      <td>291.117608</td>\n",
       "    </tr>\n",
       "  </tbody>\n",
       "</table>\n",
       "</div>\n",
       "      <button class=\"colab-df-convert\" onclick=\"convertToInteractive('df-5ab1ff21-c59c-4217-adb7-350871dad72b')\"\n",
       "              title=\"Convert this dataframe to an interactive table.\"\n",
       "              style=\"display:none;\">\n",
       "        \n",
       "  <svg xmlns=\"http://www.w3.org/2000/svg\" height=\"24px\"viewBox=\"0 0 24 24\"\n",
       "       width=\"24px\">\n",
       "    <path d=\"M0 0h24v24H0V0z\" fill=\"none\"/>\n",
       "    <path d=\"M18.56 5.44l.94 2.06.94-2.06 2.06-.94-2.06-.94-.94-2.06-.94 2.06-2.06.94zm-11 1L8.5 8.5l.94-2.06 2.06-.94-2.06-.94L8.5 2.5l-.94 2.06-2.06.94zm10 10l.94 2.06.94-2.06 2.06-.94-2.06-.94-.94-2.06-.94 2.06-2.06.94z\"/><path d=\"M17.41 7.96l-1.37-1.37c-.4-.4-.92-.59-1.43-.59-.52 0-1.04.2-1.43.59L10.3 9.45l-7.72 7.72c-.78.78-.78 2.05 0 2.83L4 21.41c.39.39.9.59 1.41.59.51 0 1.02-.2 1.41-.59l7.78-7.78 2.81-2.81c.8-.78.8-2.07 0-2.86zM5.41 20L4 18.59l7.72-7.72 1.47 1.35L5.41 20z\"/>\n",
       "  </svg>\n",
       "      </button>\n",
       "      \n",
       "  <style>\n",
       "    .colab-df-container {\n",
       "      display:flex;\n",
       "      flex-wrap:wrap;\n",
       "      gap: 12px;\n",
       "    }\n",
       "\n",
       "    .colab-df-convert {\n",
       "      background-color: #E8F0FE;\n",
       "      border: none;\n",
       "      border-radius: 50%;\n",
       "      cursor: pointer;\n",
       "      display: none;\n",
       "      fill: #1967D2;\n",
       "      height: 32px;\n",
       "      padding: 0 0 0 0;\n",
       "      width: 32px;\n",
       "    }\n",
       "\n",
       "    .colab-df-convert:hover {\n",
       "      background-color: #E2EBFA;\n",
       "      box-shadow: 0px 1px 2px rgba(60, 64, 67, 0.3), 0px 1px 3px 1px rgba(60, 64, 67, 0.15);\n",
       "      fill: #174EA6;\n",
       "    }\n",
       "\n",
       "    [theme=dark] .colab-df-convert {\n",
       "      background-color: #3B4455;\n",
       "      fill: #D2E3FC;\n",
       "    }\n",
       "\n",
       "    [theme=dark] .colab-df-convert:hover {\n",
       "      background-color: #434B5C;\n",
       "      box-shadow: 0px 1px 3px 1px rgba(0, 0, 0, 0.15);\n",
       "      filter: drop-shadow(0px 1px 2px rgba(0, 0, 0, 0.3));\n",
       "      fill: #FFFFFF;\n",
       "    }\n",
       "  </style>\n",
       "\n",
       "      <script>\n",
       "        const buttonEl =\n",
       "          document.querySelector('#df-5ab1ff21-c59c-4217-adb7-350871dad72b button.colab-df-convert');\n",
       "        buttonEl.style.display =\n",
       "          google.colab.kernel.accessAllowed ? 'block' : 'none';\n",
       "\n",
       "        async function convertToInteractive(key) {\n",
       "          const element = document.querySelector('#df-5ab1ff21-c59c-4217-adb7-350871dad72b');\n",
       "          const dataTable =\n",
       "            await google.colab.kernel.invokeFunction('convertToInteractive',\n",
       "                                                     [key], {});\n",
       "          if (!dataTable) return;\n",
       "\n",
       "          const docLinkHtml = 'Like what you see? Visit the ' +\n",
       "            '<a target=\"_blank\" href=https://colab.research.google.com/notebooks/data_table.ipynb>data table notebook</a>'\n",
       "            + ' to learn more about interactive tables.';\n",
       "          element.innerHTML = '';\n",
       "          dataTable['output_type'] = 'display_data';\n",
       "          await google.colab.output.renderOutput(dataTable, element);\n",
       "          const docLink = document.createElement('div');\n",
       "          docLink.innerHTML = docLinkHtml;\n",
       "          element.appendChild(docLink);\n",
       "        }\n",
       "      </script>\n",
       "    </div>\n",
       "  </div>\n",
       "  "
      ],
      "text/plain": [
       "                     0             1             2           3\n",
       "2022-04-16  -31.257116    126.904654   3843.435223  -14.903794\n",
       "2022-04-17  -31.745796   1047.799425  -1721.510338  124.028686\n",
       "2022-04-18  -25.830087   1809.212747 -16284.710360  189.014805\n",
       "2022-04-19  -48.496823  10416.792498 -11280.871407  190.160264\n",
       "2022-04-20  -93.589378  -5331.095324 -24258.273788  177.196352\n",
       "2022-04-21 -144.012695     -8.361437   -583.756746  305.809468\n",
       "2022-04-22 -153.774934    653.030712 -12807.739721  291.117608"
      ]
     },
     "execution_count": 94,
     "metadata": {},
     "output_type": "execute_result"
    }
   ],
   "source": [
    "original_errors    # con lstm(16) e dropout = 0.1 e activation function selu"
   ]
  },
  {
   "cell_type": "code",
   "execution_count": null,
   "id": "4QI1SDeiHvfp",
   "metadata": {
    "colab": {
     "base_uri": "https://localhost:8080/",
     "height": 269
    },
    "executionInfo": {
     "elapsed": 325,
     "status": "ok",
     "timestamp": 1650796202202,
     "user": {
      "displayName": "Daniela Zanotti",
      "userId": "08454037263366696573"
     },
     "user_tz": -120
    },
    "id": "4QI1SDeiHvfp",
    "outputId": "bfc92078-3bd2-4ad3-8a37-95259b4e00cc"
   },
   "outputs": [
    {
     "data": {
      "text/html": [
       "\n",
       "  <div id=\"df-d17e47b2-3466-430b-904f-2e8e8a6e7926\">\n",
       "    <div class=\"colab-df-container\">\n",
       "      <div>\n",
       "<style scoped>\n",
       "    .dataframe tbody tr th:only-of-type {\n",
       "        vertical-align: middle;\n",
       "    }\n",
       "\n",
       "    .dataframe tbody tr th {\n",
       "        vertical-align: top;\n",
       "    }\n",
       "\n",
       "    .dataframe thead th {\n",
       "        text-align: right;\n",
       "    }\n",
       "</style>\n",
       "<table border=\"1\" class=\"dataframe\">\n",
       "  <thead>\n",
       "    <tr style=\"text-align: right;\">\n",
       "      <th></th>\n",
       "      <th>0</th>\n",
       "      <th>1</th>\n",
       "      <th>2</th>\n",
       "      <th>3</th>\n",
       "    </tr>\n",
       "  </thead>\n",
       "  <tbody>\n",
       "    <tr>\n",
       "      <th>2022-04-16</th>\n",
       "      <td>-33.493562</td>\n",
       "      <td>-239.996584</td>\n",
       "      <td>5867.021811</td>\n",
       "      <td>-10.946837</td>\n",
       "    </tr>\n",
       "    <tr>\n",
       "      <th>2022-04-17</th>\n",
       "      <td>-34.266978</td>\n",
       "      <td>62.126664</td>\n",
       "      <td>7448.607555</td>\n",
       "      <td>-13.625295</td>\n",
       "    </tr>\n",
       "    <tr>\n",
       "      <th>2022-04-18</th>\n",
       "      <td>-30.440596</td>\n",
       "      <td>1586.455935</td>\n",
       "      <td>3151.793432</td>\n",
       "      <td>-17.223277</td>\n",
       "    </tr>\n",
       "    <tr>\n",
       "      <th>2022-04-19</th>\n",
       "      <td>-50.399171</td>\n",
       "      <td>10322.829491</td>\n",
       "      <td>13039.061283</td>\n",
       "      <td>1.131877</td>\n",
       "    </tr>\n",
       "    <tr>\n",
       "      <th>2022-04-20</th>\n",
       "      <td>-88.849650</td>\n",
       "      <td>-3232.305324</td>\n",
       "      <td>3714.421553</td>\n",
       "      <td>-6.049879</td>\n",
       "    </tr>\n",
       "    <tr>\n",
       "      <th>2022-04-21</th>\n",
       "      <td>-133.219914</td>\n",
       "      <td>1706.571797</td>\n",
       "      <td>9699.904743</td>\n",
       "      <td>-3.229307</td>\n",
       "    </tr>\n",
       "    <tr>\n",
       "      <th>2022-04-22</th>\n",
       "      <td>-145.705184</td>\n",
       "      <td>2211.435199</td>\n",
       "      <td>1493.814281</td>\n",
       "      <td>-4.409033</td>\n",
       "    </tr>\n",
       "  </tbody>\n",
       "</table>\n",
       "</div>\n",
       "      <button class=\"colab-df-convert\" onclick=\"convertToInteractive('df-d17e47b2-3466-430b-904f-2e8e8a6e7926')\"\n",
       "              title=\"Convert this dataframe to an interactive table.\"\n",
       "              style=\"display:none;\">\n",
       "        \n",
       "  <svg xmlns=\"http://www.w3.org/2000/svg\" height=\"24px\"viewBox=\"0 0 24 24\"\n",
       "       width=\"24px\">\n",
       "    <path d=\"M0 0h24v24H0V0z\" fill=\"none\"/>\n",
       "    <path d=\"M18.56 5.44l.94 2.06.94-2.06 2.06-.94-2.06-.94-.94-2.06-.94 2.06-2.06.94zm-11 1L8.5 8.5l.94-2.06 2.06-.94-2.06-.94L8.5 2.5l-.94 2.06-2.06.94zm10 10l.94 2.06.94-2.06 2.06-.94-2.06-.94-.94-2.06-.94 2.06-2.06.94z\"/><path d=\"M17.41 7.96l-1.37-1.37c-.4-.4-.92-.59-1.43-.59-.52 0-1.04.2-1.43.59L10.3 9.45l-7.72 7.72c-.78.78-.78 2.05 0 2.83L4 21.41c.39.39.9.59 1.41.59.51 0 1.02-.2 1.41-.59l7.78-7.78 2.81-2.81c.8-.78.8-2.07 0-2.86zM5.41 20L4 18.59l7.72-7.72 1.47 1.35L5.41 20z\"/>\n",
       "  </svg>\n",
       "      </button>\n",
       "      \n",
       "  <style>\n",
       "    .colab-df-container {\n",
       "      display:flex;\n",
       "      flex-wrap:wrap;\n",
       "      gap: 12px;\n",
       "    }\n",
       "\n",
       "    .colab-df-convert {\n",
       "      background-color: #E8F0FE;\n",
       "      border: none;\n",
       "      border-radius: 50%;\n",
       "      cursor: pointer;\n",
       "      display: none;\n",
       "      fill: #1967D2;\n",
       "      height: 32px;\n",
       "      padding: 0 0 0 0;\n",
       "      width: 32px;\n",
       "    }\n",
       "\n",
       "    .colab-df-convert:hover {\n",
       "      background-color: #E2EBFA;\n",
       "      box-shadow: 0px 1px 2px rgba(60, 64, 67, 0.3), 0px 1px 3px 1px rgba(60, 64, 67, 0.15);\n",
       "      fill: #174EA6;\n",
       "    }\n",
       "\n",
       "    [theme=dark] .colab-df-convert {\n",
       "      background-color: #3B4455;\n",
       "      fill: #D2E3FC;\n",
       "    }\n",
       "\n",
       "    [theme=dark] .colab-df-convert:hover {\n",
       "      background-color: #434B5C;\n",
       "      box-shadow: 0px 1px 3px 1px rgba(0, 0, 0, 0.15);\n",
       "      filter: drop-shadow(0px 1px 2px rgba(0, 0, 0, 0.3));\n",
       "      fill: #FFFFFF;\n",
       "    }\n",
       "  </style>\n",
       "\n",
       "      <script>\n",
       "        const buttonEl =\n",
       "          document.querySelector('#df-d17e47b2-3466-430b-904f-2e8e8a6e7926 button.colab-df-convert');\n",
       "        buttonEl.style.display =\n",
       "          google.colab.kernel.accessAllowed ? 'block' : 'none';\n",
       "\n",
       "        async function convertToInteractive(key) {\n",
       "          const element = document.querySelector('#df-d17e47b2-3466-430b-904f-2e8e8a6e7926');\n",
       "          const dataTable =\n",
       "            await google.colab.kernel.invokeFunction('convertToInteractive',\n",
       "                                                     [key], {});\n",
       "          if (!dataTable) return;\n",
       "\n",
       "          const docLinkHtml = 'Like what you see? Visit the ' +\n",
       "            '<a target=\"_blank\" href=https://colab.research.google.com/notebooks/data_table.ipynb>data table notebook</a>'\n",
       "            + ' to learn more about interactive tables.';\n",
       "          element.innerHTML = '';\n",
       "          dataTable['output_type'] = 'display_data';\n",
       "          await google.colab.output.renderOutput(dataTable, element);\n",
       "          const docLink = document.createElement('div');\n",
       "          docLink.innerHTML = docLinkHtml;\n",
       "          element.appendChild(docLink);\n",
       "        }\n",
       "      </script>\n",
       "    </div>\n",
       "  </div>\n",
       "  "
      ],
      "text/plain": [
       "                     0             1             2          3\n",
       "2022-04-16  -33.493562   -239.996584   5867.021811 -10.946837\n",
       "2022-04-17  -34.266978     62.126664   7448.607555 -13.625295\n",
       "2022-04-18  -30.440596   1586.455935   3151.793432 -17.223277\n",
       "2022-04-19  -50.399171  10322.829491  13039.061283   1.131877\n",
       "2022-04-20  -88.849650  -3232.305324   3714.421553  -6.049879\n",
       "2022-04-21 -133.219914   1706.571797   9699.904743  -3.229307\n",
       "2022-04-22 -145.705184   2211.435199   1493.814281  -4.409033"
      ]
     },
     "execution_count": 20,
     "metadata": {},
     "output_type": "execute_result"
    }
   ],
   "source": [
    "original_errors  # con lstm(16) e dropout = 0.1"
   ]
  },
  {
   "cell_type": "markdown",
   "id": "jugtNQ_IWgqe",
   "metadata": {
    "id": "jugtNQ_IWgqe"
   },
   "source": [
    "#Plot finali"
   ]
  },
  {
   "cell_type": "code",
   "execution_count": null,
   "id": "1upjc7zI6w99",
   "metadata": {
    "colab": {
     "base_uri": "https://localhost:8080/",
     "height": 391
    },
    "executionInfo": {
     "elapsed": 701,
     "status": "ok",
     "timestamp": 1650880424125,
     "user": {
      "displayName": "Daniela Zanotti",
      "userId": "08454037263366696573"
     },
     "user_tz": -120
    },
    "id": "1upjc7zI6w99",
    "outputId": "6d82000a-8da2-436f-963d-dcf5ac47efa4"
   },
   "outputs": [
    {
     "data": {
      "text/plain": [
       "<matplotlib.legend.Legend at 0x7f07d74dea90>"
      ]
     },
     "execution_count": 23,
     "metadata": {},
     "output_type": "execute_result"
    },
    {
     "data": {
      "image/png": "[encoded data removed]",
      "text/plain": [
       "<Figure size 576x432 with 1 Axes>"
      ]
     },
     "metadata": {
      "needs_background": "light"
     },
     "output_type": "display_data"
    }
   ],
   "source": [
    "# nuovi_positivi    totale_ospedalizzati   dimessi_guariti    deceduti\n",
    "\n",
    "plt.scatter(pred_original_scale.index, pred_original_scale['pred_nuovi_positivi_Lombardia'], label = 'Predictions')\n",
    "plt.scatter(pred_original_scale.index, df_by_region[reg].iloc[-time_steps_for_test:,:]['nuovi_positivi_Lombardia'], label = 'Data')\n",
    "plt.legend()"
   ]
  },
  {
   "cell_type": "markdown",
   "id": "134c593c-3c2c-443d-b131-f7764c09139c",
   "metadata": {
    "id": "134c593c-3c2c-443d-b131-f7764c09139c"
   },
   "source": [
    "# Comments"
   ]
  },
  {
   "cell_type": "markdown",
   "id": "06396a02-e3f9-4056-987f-34e90d75e21e",
   "metadata": {
    "id": "06396a02-e3f9-4056-987f-34e90d75e21e"
   },
   "source": [
    "The model is doing way better than yesterday (the key thing was to put shuffle=False in the creation of the training dataset). Two problems:\n",
    "- The network has issues to learn the behaviour of \"nuovi_positivi\" beacuse the trend is very oscillating. Applying the Savitzky-Golay filter the network performs quite well but has it still struggles.\n",
    "- IMPORTANT: Since the trend of \"deceduti\" and \"dimessi_guariti\" is increasing, we must use pct_change or diff in the model. Otherwise the model will learn to predict in [a,b] with a,b in R, but the next seven days will be surely greater than b!"
   ]
  }
 ],
 "metadata": {
  "colab": {
   "collapsed_sections": [],
   "name": "RNN.ipynb",
   "provenance": []
  },
  "kernelspec": {
   "display_name": "Python 3 (ipykernel)",
   "language": "python",
   "name": "python3"
  },
  "language_info": {
   "codemirror_mode": {
    "name": "ipython",
    "version": 3
   },
   "file_extension": ".py",
   "mimetype": "text/x-python",
   "name": "python",
   "nbconvert_exporter": "python",
   "pygments_lexer": "ipython3",
   "version": "3.8.12"
  }
 },
 "nbformat": 4,
 "nbformat_minor": 5
}
