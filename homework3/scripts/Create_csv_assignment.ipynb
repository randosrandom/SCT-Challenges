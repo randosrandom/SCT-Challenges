{
 "cells": [
  {
   "cell_type": "code",
   "execution_count": 1,
   "id": "vezgDnBpcaPW",
   "metadata": {
    "colab": {
     "base_uri": "https://localhost:8080/"
    },
    "executionInfo": {
     "elapsed": 19749,
     "status": "ok",
     "timestamp": 1651759306211,
     "user": {
      "displayName": "Daniela Zanotti",
      "userId": "08454037263366696573"
     },
     "user_tz": -120
    },
    "id": "vezgDnBpcaPW",
    "outputId": "b057f1b8-d24c-494f-bad4-4e19cd54428f"
   },
   "outputs": [
    {
     "name": "stdout",
     "output_type": "stream",
     "text": [
      "Mounted at /content/drive/\n"
     ]
    }
   ],
   "source": [
    "# from google.colab import drive\n",
    "# drive.mount('/content/drive/')"
   ]
  },
  {
   "cell_type": "code",
   "execution_count": 2,
   "id": "WF5CukY7cGWS",
   "metadata": {
    "executionInfo": {
     "elapsed": 1557,
     "status": "ok",
     "timestamp": 1651759311829,
     "user": {
      "displayName": "Daniela Zanotti",
      "userId": "08454037263366696573"
     },
     "user_tz": -120
    },
    "id": "WF5CukY7cGWS"
   },
   "outputs": [],
   "source": [
    "# import pandas as pd\n",
    "\n",
    "# df_Lazio = pd.read_csv(\"/content/drive/Othercomputers/Laptop/homework3/scripts/webeepUpload_Lazio.csv\")\n",
    "# df_Lombardia = pd.read_csv(\"/content/drive/Othercomputers/Laptop/homework3/scripts/webeepUpload_Lombardia.csv\")\n",
    "# df_Sicilia = pd.read_csv(\"/content/drive/Othercomputers/Laptop/homework3/scripts/webeepUpload_Sicilia.csv\")\n",
    "\n",
    "# df_final = pd.concat([df_Lazio, df_Lombardia, df_Sicilia], axis = 0)"
   ]
  },
  {
   "cell_type": "code",
   "execution_count": 1,
   "id": "91e0ef50-ba36-47b7-9dc0-a6d8dda24338",
   "metadata": {
    "id": "91e0ef50-ba36-47b7-9dc0-a6d8dda24338"
   },
   "outputs": [],
   "source": [
    "import pandas as pd\n",
    "\n",
    "df_Lazio = pd.read_csv(\"webeepUpload_Lazio.csv\")\n",
    "df_Lombardia = pd.read_csv(\"webeepUpload_Lombardia.csv\")\n",
    "df_Sicilia = pd.read_csv(\"webeepUpload_Sicilia.csv\")\n",
    "\n",
    "df_final = pd.concat([df_Lazio, df_Lombardia, df_Sicilia], axis = 0)"
   ]
  },
  {
   "cell_type": "code",
   "execution_count": 2,
   "id": "f9a116c3-5afc-4090-a3eb-43c0a54577f5",
   "metadata": {
    "executionInfo": {
     "elapsed": 6,
     "status": "ok",
     "timestamp": 1651759314243,
     "user": {
      "displayName": "Daniela Zanotti",
      "userId": "08454037263366696573"
     },
     "user_tz": -120
    },
    "id": "f9a116c3-5afc-4090-a3eb-43c0a54577f5"
   },
   "outputs": [],
   "source": [
    "df_final.reset_index(drop=True, inplace=True)\n",
    "df_final.set_index(df_final.columns[0], inplace=True)\n",
    "df_final.index.rename(\"Region\", inplace=True)"
   ]
  },
  {
   "cell_type": "code",
   "execution_count": 3,
   "id": "abd06a28-bf19-4452-8864-39743c67e9e0",
   "metadata": {
    "executionInfo": {
     "elapsed": 531,
     "status": "ok",
     "timestamp": 1651759318010,
     "user": {
      "displayName": "Daniela Zanotti",
      "userId": "08454037263366696573"
     },
     "user_tz": -120
    },
    "id": "abd06a28-bf19-4452-8864-39743c67e9e0"
   },
   "outputs": [],
   "source": [
    "#df_final.to_csv(\"/content/drive/Othercomputers/Laptop/homework3/scripts/Assignment.csv\")\n",
    "df_final.to_csv(\"Assignment.csv\")"
   ]
  },
  {
   "cell_type": "code",
   "execution_count": null,
   "id": "2497f945-2e90-41e6-8d24-eeb12efc7491",
   "metadata": {},
   "outputs": [],
   "source": []
  }
 ],
 "metadata": {
  "colab": {
   "collapsed_sections": [],
   "name": "Create_csv_assignment.ipynb",
   "provenance": []
  },
  "kernelspec": {
   "display_name": "Python 3 (ipykernel)",
   "language": "python",
   "name": "python3"
  },
  "language_info": {
   "codemirror_mode": {
    "name": "ipython",
    "version": 3
   },
   "file_extension": ".py",
   "mimetype": "text/x-python",
   "name": "python",
   "nbconvert_exporter": "python",
   "pygments_lexer": "ipython3",
   "version": "3.8.12"
  }
 },
 "nbformat": 4,
 "nbformat_minor": 5
}
