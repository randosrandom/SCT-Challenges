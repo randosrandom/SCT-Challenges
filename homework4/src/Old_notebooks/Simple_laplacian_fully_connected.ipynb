{
 "cells": [
  {
   "cell_type": "code",
   "execution_count": 1,
   "id": "33fcac96-b4e6-45cb-97b2-2e0fa12665c1",
   "metadata": {},
   "outputs": [
    {
     "name": "stderr",
     "output_type": "stream",
     "text": [
      "c:\\ProgramData\\Anaconda3\\envs\\my-env\\lib\\site-packages\\tqdm\\auto.py:22: TqdmWarning: IProgress not found. Please update jupyter and ipywidgets. See https://ipywidgets.readthedocs.io/en/stable/user_install.html\n",
      "  from .autonotebook import tqdm as notebook_tqdm\n"
     ]
    }
   ],
   "source": [
    "import graph as gr\n",
    "import numpy as np\n",
    "import networkx as nx\n",
    "\n",
    "import torch\n",
    "torch.manual_seed(12121998)\n",
    "import torch.nn.functional as F\n",
    "\n",
    "from torch.nn import Linear, ReLU\n",
    "from torch_geometric.data import Data\n",
    "from torch_geometric.loader import DataLoader\n",
    "from torch_geometric.nn import GCNConv\n",
    "from torch_geometric.nn import GATConv\n",
    "from torch_geometric.nn.models import basic_gnn as torch_models\n",
    "\n",
    "import matplotlib.pyplot as plt\n",
    "import matplotlib.tri as tri"
   ]
  },
  {
   "cell_type": "markdown",
   "id": "2b34fe3c-4e5a-46b2-9dc5-f00e232b8138",
   "metadata": {},
   "source": [
    "# Creating Dataset"
   ]
  },
  {
   "cell_type": "code",
   "execution_count": 2,
   "id": "062abdd8-315d-43de-ac60-8c756a5f9105",
   "metadata": {},
   "outputs": [],
   "source": [
    "# Macros\n",
    "\n",
    "NORMALIZE_TARGET_FLAG = True # normalize output!\n",
    "if NORMALIZE_TARGET_FLAG:\n",
    "    norm_inter = [0, 1] # Interval where to normalize data\n",
    "\n",
    "COORDINATES_FEATURE_FLAG = True # If true also position is used as feature!"
   ]
  },
  {
   "cell_type": "code",
   "execution_count": 3,
   "id": "874a8f99-5725-483f-a27b-186fad82d7ab",
   "metadata": {},
   "outputs": [],
   "source": [
    "# FILENAMES AND FILEPATH\n",
    "\n",
    "# mesh name\n",
    "mesh_filename = \"simple_laplacian_mesh\"\n",
    "\n",
    "## target filepaths\n",
    "target_filepaths = [\"../mesh/simple_laplacian_u.txt\"] # you can add other targets\n",
    "\n",
    "## feature filepaths \n",
    "feature_filepaths = [\"../mesh/simple_laplacian_f.txt\"]"
   ]
  },
  {
   "cell_type": "code",
   "execution_count": 4,
   "id": "ab1d6ff9-1e09-4c84-bf97-59e7f881fbaa",
   "metadata": {},
   "outputs": [],
   "source": [
    "folder = gr.import_mesh(mesh_filename)\n",
    "\n",
    "loaded_graph = gr.build_graph(folder)\n",
    "\n",
    "loaded_adj = gr.build_adjacency(loaded_graph, folder)\n",
    "\n",
    "loaded_targets = [torch.tensor(0)] * len(target_filepaths)\n",
    "for i, data in enumerate(target_filepaths):\n",
    "    loaded_targets[i] = torch.tensor(gr.import_features(data)).double()\n",
    "\n",
    "loaded_features = [torch.tensor(0)] * len(feature_filepaths)\n",
    "for i, data in enumerate(feature_filepaths):\n",
    "    loaded_features[i] = torch.tensor(gr.import_features(data)).double()\n",
    "\n",
    "\n",
    "if NORMALIZE_TARGET_FLAG:\n",
    "    u_max = [None] * len(loaded_targets)\n",
    "    u_min = [None] * len(loaded_targets)\n",
    "    for i, data in enumerate(loaded_targets):\n",
    "        u_max[i] = data.max()\n",
    "        u_min[i] = data.min()\n",
    "        loaded_targets[i] = (norm_inter[1] - norm_inter[0]) * (data - u_min[i]) / (u_max[i] - u_min[i]) + norm_inter[0]  \n",
    "\n",
    "\n",
    "TOT_SAMPLES = loaded_targets[0].shape[1]"
   ]
  },
  {
   "cell_type": "code",
   "execution_count": 5,
   "id": "1ccb9c11-6c61-471c-8091-abeb5542a4bd",
   "metadata": {},
   "outputs": [],
   "source": [
    "## Creating torch DATASET (see torch_geometric.data)\n",
    "\n",
    "# will be used to create the complete dataset\n",
    "data_list = [torch.tensor(0)] * TOT_SAMPLES\n",
    "\n",
    "# INITIALIZING COMMON PROPERTIES TO ALL GRAPHS\n",
    "\n",
    "# Graph connectivity (# use t().contiguous() ...)\n",
    "edge_index = torch.tensor([ [i,j] for i in range(loaded_adj.shape[0]) for j in range(loaded_adj.shape[1]) if loaded_adj[i,j]>0 ])\n",
    "\n",
    "# Node position matrix ( ACTUALLY, IT SHOULD NOT BE NEEDED SINCE IT'S CONSTANT ... )\n",
    "# check whether pos is used in the training or not. In the second case it's useless for dynamic meshes\n",
    "pos = torch.hstack( (\n",
    "                        torch.unsqueeze(torch.tensor(list(nx.get_node_attributes(loaded_graph, 'x').values())), 1 ),\n",
    "                        torch.unsqueeze(torch.tensor(list(nx.get_node_attributes(loaded_graph, 'y').values())), 1 ) \n",
    "                    )\n",
    "                  ).double()\n",
    "\n",
    "# INITIALIZING THE DIFFERENT GRAPHS\n",
    "\n",
    "for t in range(TOT_SAMPLES):\n",
    "    \n",
    "    ## Node feature matrix\n",
    "    \n",
    "    # REMOVED TYPE OF NODE FEATURE!\n",
    "    # first feature (type of node)\n",
    "    #x = torch.unsqueeze(torch.tensor(list(nx.get_node_attributes(loaded_graph, 'n').values())), 1).double()\n",
    "    \n",
    "    x = loaded_features[0][:, t][:, None]\n",
    "\n",
    "    # other features (forcing f values)\n",
    "    [x := torch.hstack((x, loaded_features[j][:, t][:, None])) for j in range(1,len(loaded_features))]\n",
    "    \n",
    "    if COORDINATES_FEATURE_FLAG:\n",
    "        [x := torch.hstack((x, pos))]\n",
    "    \n",
    "    \n",
    "    ## Node-level ground-truth labels (heat)\n",
    "    \n",
    "    # first feature (pression or velocity or ...)\n",
    "    y = loaded_targets[0][:, t][:, None]\n",
    "    \n",
    "    # other features (pression, velocities, ...)\n",
    "    [y := torch.hstack((y, loaded_targets[j][:, t][:, None])) for j in range(1,len(loaded_targets))]\n",
    "\n",
    "    data_list[t] = Data(x=x, edge_index=edge_index.t().contiguous(), y=y, pos=pos)"
   ]
  },
  {
   "cell_type": "code",
   "execution_count": 6,
   "id": "fd308b30-4e61-4316-8ad8-5f9a99e79d43",
   "metadata": {},
   "outputs": [],
   "source": [
    "dataloader = DataLoader(data_list, batch_size = 1, shuffle = True)"
   ]
  },
  {
   "cell_type": "code",
   "execution_count": 7,
   "id": "65e06683-d6ef-4b8b-a5ae-9ebc492b6a05",
   "metadata": {},
   "outputs": [
    {
     "data": {
      "text/plain": [
       "1000"
      ]
     },
     "execution_count": 7,
     "metadata": {},
     "output_type": "execute_result"
    }
   ],
   "source": [
    "len(dataloader)"
   ]
  },
  {
   "cell_type": "markdown",
   "id": "ea050888-c50f-4b94-b956-0f90f1efaae6",
   "metadata": {},
   "source": [
    "# Model"
   ]
  },
  {
   "cell_type": "code",
   "execution_count": 8,
   "id": "46d59ad4-b8df-43c7-afda-9cd88084e4fb",
   "metadata": {},
   "outputs": [],
   "source": [
    "class GCN(torch.nn.Module):\n",
    "    \n",
    "    def __init__(self):\n",
    "        super().__init__()\n",
    "        self.conv1 = GCNConv(dataloader.dataset[0].num_node_features, 16)\n",
    "        self.conv2 = GCNConv(16, 16)\n",
    "        self.fc1 = Linear(16, dataloader.dataset[0].num_nodes)\n",
    "\n",
    "    def forward(self, x, edge_index):\n",
    "     \n",
    "        x = self.conv1(x, edge_index)\n",
    "        x = F.relu(x)\n",
    "        x = self.conv2(x, edge_index)\n",
    "        x = F.relu(x)\n",
    "        x = F.tanh(self.fc1(x))\n",
    "        \n",
    "        return x.T\n",
    "\n",
    "model = GCN().double()"
   ]
  },
  {
   "cell_type": "code",
   "execution_count": 21,
   "id": "49aad7de",
   "metadata": {},
   "outputs": [
    {
     "data": {
      "text/plain": [
       "torch.Size([1089, 1])"
      ]
     },
     "execution_count": 21,
     "metadata": {},
     "output_type": "execute_result"
    }
   ],
   "source": [
    "conv1 = GCNConv(dataloader.dataset[0].num_node_features, dataloader.dataset[0].num_node_features)\n",
    "#out = conv1(dataloader.dataset[0].x, edge_index)\n",
    "\n",
    "dataloader.dataset[0].x.size()"
   ]
  },
  {
   "cell_type": "code",
   "execution_count": 9,
   "id": "9f3b84dd-4753-4767-b9b5-ec4710fd07fb",
   "metadata": {},
   "outputs": [],
   "source": [
    "learning_rate = 1e-3\n",
    "\n",
    "loss_fn = torch.nn.MSELoss()\n",
    "\n",
    "optimizer = torch.optim.Adam(model.parameters(), lr=learning_rate, weight_decay=1e-5)"
   ]
  },
  {
   "cell_type": "code",
   "execution_count": 10,
   "id": "e773fda9-5c3a-41ca-ab19-48a46fd4394e",
   "metadata": {},
   "outputs": [],
   "source": [
    "def train_loop(dataloader, model, loss_fn, optimizer):\n",
    "    size = len(dataloader.dataset)\n",
    "    loss = 0\n",
    "    for batch, data in enumerate(dataloader):\n",
    "        # Compute prediction and loss\n",
    "        pred = model(data.x, data.edge_index)\n",
    "        loss = loss_fn(pred, data.y)\n",
    "\n",
    "        # Backpropagation\n",
    "        optimizer.zero_grad()\n",
    "        loss.backward()\n",
    "        optimizer.step()\n",
    "\n",
    "        loss += loss.item()\n",
    "    print(\"loss: {}\".format(loss))"
   ]
  },
  {
   "cell_type": "code",
   "execution_count": 11,
   "id": "dd6cfd69-651a-4baa-9610-efb2097946a6",
   "metadata": {},
   "outputs": [
    {
     "name": "stdout",
     "output_type": "stream",
     "text": [
      "Epoch 1\n",
      "-------------------------------\n"
     ]
    },
    {
     "name": "stderr",
     "output_type": "stream",
     "text": [
      "c:\\ProgramData\\Anaconda3\\envs\\my-env\\lib\\site-packages\\torch\\nn\\functional.py:1933: UserWarning: nn.functional.tanh is deprecated. Use torch.tanh instead.\n",
      "  warnings.warn(\"nn.functional.tanh is deprecated. Use torch.tanh instead.\")\n",
      "c:\\ProgramData\\Anaconda3\\envs\\my-env\\lib\\site-packages\\torch\\nn\\modules\\loss.py:529: UserWarning: Using a target size (torch.Size([1089, 1])) that is different to the input size (torch.Size([1089, 1089])). This will likely lead to incorrect results due to broadcasting. Please ensure they have the same size.\n",
      "  return F.mse_loss(input, target, reduction=self.reduction)\n"
     ]
    },
    {
     "ename": "KeyboardInterrupt",
     "evalue": "",
     "output_type": "error",
     "traceback": [
      "\u001b[1;31m---------------------------------------------------------------------------\u001b[0m",
      "\u001b[1;31mKeyboardInterrupt\u001b[0m                         Traceback (most recent call last)",
      "\u001b[1;32mc:\\Users\\andre\\Documents\\PyCharm\\AdvSciTools\\Homeworks\\Homework4\\src\\Simple_laplacian_fully_connected.ipynb Cell 13'\u001b[0m in \u001b[0;36m<cell line: 2>\u001b[1;34m()\u001b[0m\n\u001b[0;32m      <a href='vscode-notebook-cell:/c%3A/Users/andre/Documents/PyCharm/AdvSciTools/Homeworks/Homework4/src/Simple_laplacian_fully_connected.ipynb#ch0000012?line=1'>2</a>\u001b[0m \u001b[39mfor\u001b[39;00m t \u001b[39min\u001b[39;00m \u001b[39mrange\u001b[39m(epochs):\n\u001b[0;32m      <a href='vscode-notebook-cell:/c%3A/Users/andre/Documents/PyCharm/AdvSciTools/Homeworks/Homework4/src/Simple_laplacian_fully_connected.ipynb#ch0000012?line=2'>3</a>\u001b[0m     \u001b[39mprint\u001b[39m(\u001b[39mf\u001b[39m\u001b[39m\"\u001b[39m\u001b[39mEpoch \u001b[39m\u001b[39m{\u001b[39;00mt\u001b[39m+\u001b[39m\u001b[39m1\u001b[39m\u001b[39m}\u001b[39;00m\u001b[39m\\n\u001b[39;00m\u001b[39m-------------------------------\u001b[39m\u001b[39m\"\u001b[39m)\n\u001b[1;32m----> <a href='vscode-notebook-cell:/c%3A/Users/andre/Documents/PyCharm/AdvSciTools/Homeworks/Homework4/src/Simple_laplacian_fully_connected.ipynb#ch0000012?line=3'>4</a>\u001b[0m     train_loop(dataloader, model, loss_fn, optimizer)\n\u001b[0;32m      <a href='vscode-notebook-cell:/c%3A/Users/andre/Documents/PyCharm/AdvSciTools/Homeworks/Homework4/src/Simple_laplacian_fully_connected.ipynb#ch0000012?line=4'>5</a>\u001b[0m \u001b[39mprint\u001b[39m(\u001b[39m\"\u001b[39m\u001b[39mDone!\u001b[39m\u001b[39m\"\u001b[39m)\n",
      "\u001b[1;32mc:\\Users\\andre\\Documents\\PyCharm\\AdvSciTools\\Homeworks\\Homework4\\src\\Simple_laplacian_fully_connected.ipynb Cell 12'\u001b[0m in \u001b[0;36mtrain_loop\u001b[1;34m(dataloader, model, loss_fn, optimizer)\u001b[0m\n\u001b[0;32m      <a href='vscode-notebook-cell:/c%3A/Users/andre/Documents/PyCharm/AdvSciTools/Homeworks/Homework4/src/Simple_laplacian_fully_connected.ipynb#ch0000011?line=2'>3</a>\u001b[0m loss \u001b[39m=\u001b[39m \u001b[39m0\u001b[39m\n\u001b[0;32m      <a href='vscode-notebook-cell:/c%3A/Users/andre/Documents/PyCharm/AdvSciTools/Homeworks/Homework4/src/Simple_laplacian_fully_connected.ipynb#ch0000011?line=3'>4</a>\u001b[0m \u001b[39mfor\u001b[39;00m batch, data \u001b[39min\u001b[39;00m \u001b[39menumerate\u001b[39m(dataloader):\n\u001b[0;32m      <a href='vscode-notebook-cell:/c%3A/Users/andre/Documents/PyCharm/AdvSciTools/Homeworks/Homework4/src/Simple_laplacian_fully_connected.ipynb#ch0000011?line=4'>5</a>\u001b[0m     \u001b[39m# Compute prediction and loss\u001b[39;00m\n\u001b[1;32m----> <a href='vscode-notebook-cell:/c%3A/Users/andre/Documents/PyCharm/AdvSciTools/Homeworks/Homework4/src/Simple_laplacian_fully_connected.ipynb#ch0000011?line=5'>6</a>\u001b[0m     pred \u001b[39m=\u001b[39m model(data\u001b[39m.\u001b[39;49mx, data\u001b[39m.\u001b[39;49medge_index)\n\u001b[0;32m      <a href='vscode-notebook-cell:/c%3A/Users/andre/Documents/PyCharm/AdvSciTools/Homeworks/Homework4/src/Simple_laplacian_fully_connected.ipynb#ch0000011?line=6'>7</a>\u001b[0m     loss \u001b[39m=\u001b[39m loss_fn(pred, data\u001b[39m.\u001b[39my)\n\u001b[0;32m      <a href='vscode-notebook-cell:/c%3A/Users/andre/Documents/PyCharm/AdvSciTools/Homeworks/Homework4/src/Simple_laplacian_fully_connected.ipynb#ch0000011?line=8'>9</a>\u001b[0m     \u001b[39m# Backpropagation\u001b[39;00m\n",
      "File \u001b[1;32mc:\\ProgramData\\Anaconda3\\envs\\my-env\\lib\\site-packages\\torch\\nn\\modules\\module.py:1110\u001b[0m, in \u001b[0;36mModule._call_impl\u001b[1;34m(self, *input, **kwargs)\u001b[0m\n\u001b[0;32m   <a href='file:///c%3A/ProgramData/Anaconda3/envs/my-env/lib/site-packages/torch/nn/modules/module.py?line=1105'>1106</a>\u001b[0m \u001b[39m# If we don't have any hooks, we want to skip the rest of the logic in\u001b[39;00m\n\u001b[0;32m   <a href='file:///c%3A/ProgramData/Anaconda3/envs/my-env/lib/site-packages/torch/nn/modules/module.py?line=1106'>1107</a>\u001b[0m \u001b[39m# this function, and just call forward.\u001b[39;00m\n\u001b[0;32m   <a href='file:///c%3A/ProgramData/Anaconda3/envs/my-env/lib/site-packages/torch/nn/modules/module.py?line=1107'>1108</a>\u001b[0m \u001b[39mif\u001b[39;00m \u001b[39mnot\u001b[39;00m (\u001b[39mself\u001b[39m\u001b[39m.\u001b[39m_backward_hooks \u001b[39mor\u001b[39;00m \u001b[39mself\u001b[39m\u001b[39m.\u001b[39m_forward_hooks \u001b[39mor\u001b[39;00m \u001b[39mself\u001b[39m\u001b[39m.\u001b[39m_forward_pre_hooks \u001b[39mor\u001b[39;00m _global_backward_hooks\n\u001b[0;32m   <a href='file:///c%3A/ProgramData/Anaconda3/envs/my-env/lib/site-packages/torch/nn/modules/module.py?line=1108'>1109</a>\u001b[0m         \u001b[39mor\u001b[39;00m _global_forward_hooks \u001b[39mor\u001b[39;00m _global_forward_pre_hooks):\n\u001b[1;32m-> <a href='file:///c%3A/ProgramData/Anaconda3/envs/my-env/lib/site-packages/torch/nn/modules/module.py?line=1109'>1110</a>\u001b[0m     \u001b[39mreturn\u001b[39;00m forward_call(\u001b[39m*\u001b[39m\u001b[39minput\u001b[39m, \u001b[39m*\u001b[39m\u001b[39m*\u001b[39mkwargs)\n\u001b[0;32m   <a href='file:///c%3A/ProgramData/Anaconda3/envs/my-env/lib/site-packages/torch/nn/modules/module.py?line=1110'>1111</a>\u001b[0m \u001b[39m# Do not call functions when jit is used\u001b[39;00m\n\u001b[0;32m   <a href='file:///c%3A/ProgramData/Anaconda3/envs/my-env/lib/site-packages/torch/nn/modules/module.py?line=1111'>1112</a>\u001b[0m full_backward_hooks, non_full_backward_hooks \u001b[39m=\u001b[39m [], []\n",
      "\u001b[1;32mc:\\Users\\andre\\Documents\\PyCharm\\AdvSciTools\\Homeworks\\Homework4\\src\\Simple_laplacian_fully_connected.ipynb Cell 10'\u001b[0m in \u001b[0;36mGCN.forward\u001b[1;34m(self, x, edge_index)\u001b[0m\n\u001b[0;32m     <a href='vscode-notebook-cell:/c%3A/Users/andre/Documents/PyCharm/AdvSciTools/Homeworks/Homework4/src/Simple_laplacian_fully_connected.ipynb#ch0000009?line=10'>11</a>\u001b[0m x \u001b[39m=\u001b[39m \u001b[39mself\u001b[39m\u001b[39m.\u001b[39mconv1(x, edge_index)\n\u001b[0;32m     <a href='vscode-notebook-cell:/c%3A/Users/andre/Documents/PyCharm/AdvSciTools/Homeworks/Homework4/src/Simple_laplacian_fully_connected.ipynb#ch0000009?line=11'>12</a>\u001b[0m x \u001b[39m=\u001b[39m F\u001b[39m.\u001b[39mrelu(x)\n\u001b[1;32m---> <a href='vscode-notebook-cell:/c%3A/Users/andre/Documents/PyCharm/AdvSciTools/Homeworks/Homework4/src/Simple_laplacian_fully_connected.ipynb#ch0000009?line=12'>13</a>\u001b[0m x \u001b[39m=\u001b[39m \u001b[39mself\u001b[39;49m\u001b[39m.\u001b[39;49mconv2(x, edge_index)\n\u001b[0;32m     <a href='vscode-notebook-cell:/c%3A/Users/andre/Documents/PyCharm/AdvSciTools/Homeworks/Homework4/src/Simple_laplacian_fully_connected.ipynb#ch0000009?line=13'>14</a>\u001b[0m x \u001b[39m=\u001b[39m F\u001b[39m.\u001b[39mrelu(x)\n\u001b[0;32m     <a href='vscode-notebook-cell:/c%3A/Users/andre/Documents/PyCharm/AdvSciTools/Homeworks/Homework4/src/Simple_laplacian_fully_connected.ipynb#ch0000009?line=14'>15</a>\u001b[0m x \u001b[39m=\u001b[39m F\u001b[39m.\u001b[39mtanh(\u001b[39mself\u001b[39m\u001b[39m.\u001b[39mfc1(x))\n",
      "File \u001b[1;32mc:\\ProgramData\\Anaconda3\\envs\\my-env\\lib\\site-packages\\torch\\nn\\modules\\module.py:1110\u001b[0m, in \u001b[0;36mModule._call_impl\u001b[1;34m(self, *input, **kwargs)\u001b[0m\n\u001b[0;32m   <a href='file:///c%3A/ProgramData/Anaconda3/envs/my-env/lib/site-packages/torch/nn/modules/module.py?line=1105'>1106</a>\u001b[0m \u001b[39m# If we don't have any hooks, we want to skip the rest of the logic in\u001b[39;00m\n\u001b[0;32m   <a href='file:///c%3A/ProgramData/Anaconda3/envs/my-env/lib/site-packages/torch/nn/modules/module.py?line=1106'>1107</a>\u001b[0m \u001b[39m# this function, and just call forward.\u001b[39;00m\n\u001b[0;32m   <a href='file:///c%3A/ProgramData/Anaconda3/envs/my-env/lib/site-packages/torch/nn/modules/module.py?line=1107'>1108</a>\u001b[0m \u001b[39mif\u001b[39;00m \u001b[39mnot\u001b[39;00m (\u001b[39mself\u001b[39m\u001b[39m.\u001b[39m_backward_hooks \u001b[39mor\u001b[39;00m \u001b[39mself\u001b[39m\u001b[39m.\u001b[39m_forward_hooks \u001b[39mor\u001b[39;00m \u001b[39mself\u001b[39m\u001b[39m.\u001b[39m_forward_pre_hooks \u001b[39mor\u001b[39;00m _global_backward_hooks\n\u001b[0;32m   <a href='file:///c%3A/ProgramData/Anaconda3/envs/my-env/lib/site-packages/torch/nn/modules/module.py?line=1108'>1109</a>\u001b[0m         \u001b[39mor\u001b[39;00m _global_forward_hooks \u001b[39mor\u001b[39;00m _global_forward_pre_hooks):\n\u001b[1;32m-> <a href='file:///c%3A/ProgramData/Anaconda3/envs/my-env/lib/site-packages/torch/nn/modules/module.py?line=1109'>1110</a>\u001b[0m     \u001b[39mreturn\u001b[39;00m forward_call(\u001b[39m*\u001b[39m\u001b[39minput\u001b[39m, \u001b[39m*\u001b[39m\u001b[39m*\u001b[39mkwargs)\n\u001b[0;32m   <a href='file:///c%3A/ProgramData/Anaconda3/envs/my-env/lib/site-packages/torch/nn/modules/module.py?line=1110'>1111</a>\u001b[0m \u001b[39m# Do not call functions when jit is used\u001b[39;00m\n\u001b[0;32m   <a href='file:///c%3A/ProgramData/Anaconda3/envs/my-env/lib/site-packages/torch/nn/modules/module.py?line=1111'>1112</a>\u001b[0m full_backward_hooks, non_full_backward_hooks \u001b[39m=\u001b[39m [], []\n",
      "File \u001b[1;32mc:\\ProgramData\\Anaconda3\\envs\\my-env\\lib\\site-packages\\torch_geometric\\nn\\conv\\gcn_conv.py:172\u001b[0m, in \u001b[0;36mGCNConv.forward\u001b[1;34m(self, x, edge_index, edge_weight)\u001b[0m\n\u001b[0;32m    <a href='file:///c%3A/ProgramData/Anaconda3/envs/my-env/lib/site-packages/torch_geometric/nn/conv/gcn_conv.py?line=169'>170</a>\u001b[0m cache \u001b[39m=\u001b[39m \u001b[39mself\u001b[39m\u001b[39m.\u001b[39m_cached_edge_index\n\u001b[0;32m    <a href='file:///c%3A/ProgramData/Anaconda3/envs/my-env/lib/site-packages/torch_geometric/nn/conv/gcn_conv.py?line=170'>171</a>\u001b[0m \u001b[39mif\u001b[39;00m cache \u001b[39mis\u001b[39;00m \u001b[39mNone\u001b[39;00m:\n\u001b[1;32m--> <a href='file:///c%3A/ProgramData/Anaconda3/envs/my-env/lib/site-packages/torch_geometric/nn/conv/gcn_conv.py?line=171'>172</a>\u001b[0m     edge_index, edge_weight \u001b[39m=\u001b[39m gcn_norm(  \u001b[39m# yapf: disable\u001b[39;49;00m\n\u001b[0;32m    <a href='file:///c%3A/ProgramData/Anaconda3/envs/my-env/lib/site-packages/torch_geometric/nn/conv/gcn_conv.py?line=172'>173</a>\u001b[0m         edge_index, edge_weight, x\u001b[39m.\u001b[39;49msize(\u001b[39mself\u001b[39;49m\u001b[39m.\u001b[39;49mnode_dim),\n\u001b[0;32m    <a href='file:///c%3A/ProgramData/Anaconda3/envs/my-env/lib/site-packages/torch_geometric/nn/conv/gcn_conv.py?line=173'>174</a>\u001b[0m         \u001b[39mself\u001b[39;49m\u001b[39m.\u001b[39;49mimproved, \u001b[39mself\u001b[39;49m\u001b[39m.\u001b[39;49madd_self_loops)\n\u001b[0;32m    <a href='file:///c%3A/ProgramData/Anaconda3/envs/my-env/lib/site-packages/torch_geometric/nn/conv/gcn_conv.py?line=174'>175</a>\u001b[0m     \u001b[39mif\u001b[39;00m \u001b[39mself\u001b[39m\u001b[39m.\u001b[39mcached:\n\u001b[0;32m    <a href='file:///c%3A/ProgramData/Anaconda3/envs/my-env/lib/site-packages/torch_geometric/nn/conv/gcn_conv.py?line=175'>176</a>\u001b[0m         \u001b[39mself\u001b[39m\u001b[39m.\u001b[39m_cached_edge_index \u001b[39m=\u001b[39m (edge_index, edge_weight)\n",
      "File \u001b[1;32mc:\\ProgramData\\Anaconda3\\envs\\my-env\\lib\\site-packages\\torch_geometric\\nn\\conv\\gcn_conv.py:58\u001b[0m, in \u001b[0;36mgcn_norm\u001b[1;34m(edge_index, edge_weight, num_nodes, improved, add_self_loops, dtype)\u001b[0m\n\u001b[0;32m     <a href='file:///c%3A/ProgramData/Anaconda3/envs/my-env/lib/site-packages/torch_geometric/nn/conv/gcn_conv.py?line=53'>54</a>\u001b[0m     edge_weight \u001b[39m=\u001b[39m torch\u001b[39m.\u001b[39mones((edge_index\u001b[39m.\u001b[39msize(\u001b[39m1\u001b[39m), ), dtype\u001b[39m=\u001b[39mdtype,\n\u001b[0;32m     <a href='file:///c%3A/ProgramData/Anaconda3/envs/my-env/lib/site-packages/torch_geometric/nn/conv/gcn_conv.py?line=54'>55</a>\u001b[0m                              device\u001b[39m=\u001b[39medge_index\u001b[39m.\u001b[39mdevice)\n\u001b[0;32m     <a href='file:///c%3A/ProgramData/Anaconda3/envs/my-env/lib/site-packages/torch_geometric/nn/conv/gcn_conv.py?line=56'>57</a>\u001b[0m \u001b[39mif\u001b[39;00m add_self_loops:\n\u001b[1;32m---> <a href='file:///c%3A/ProgramData/Anaconda3/envs/my-env/lib/site-packages/torch_geometric/nn/conv/gcn_conv.py?line=57'>58</a>\u001b[0m     edge_index, tmp_edge_weight \u001b[39m=\u001b[39m add_remaining_self_loops(\n\u001b[0;32m     <a href='file:///c%3A/ProgramData/Anaconda3/envs/my-env/lib/site-packages/torch_geometric/nn/conv/gcn_conv.py?line=58'>59</a>\u001b[0m         edge_index, edge_weight, fill_value, num_nodes)\n\u001b[0;32m     <a href='file:///c%3A/ProgramData/Anaconda3/envs/my-env/lib/site-packages/torch_geometric/nn/conv/gcn_conv.py?line=59'>60</a>\u001b[0m     \u001b[39massert\u001b[39;00m tmp_edge_weight \u001b[39mis\u001b[39;00m \u001b[39mnot\u001b[39;00m \u001b[39mNone\u001b[39;00m\n\u001b[0;32m     <a href='file:///c%3A/ProgramData/Anaconda3/envs/my-env/lib/site-packages/torch_geometric/nn/conv/gcn_conv.py?line=60'>61</a>\u001b[0m     edge_weight \u001b[39m=\u001b[39m tmp_edge_weight\n",
      "File \u001b[1;32mc:\\ProgramData\\Anaconda3\\envs\\my-env\\lib\\site-packages\\torch_geometric\\utils\\loop.py:224\u001b[0m, in \u001b[0;36madd_remaining_self_loops\u001b[1;34m(edge_index, edge_attr, fill_value, num_nodes)\u001b[0m\n\u001b[0;32m    <a href='file:///c%3A/ProgramData/Anaconda3/envs/my-env/lib/site-packages/torch_geometric/utils/loop.py?line=220'>221</a>\u001b[0m         \u001b[39mraise\u001b[39;00m \u001b[39mAttributeError\u001b[39;00m(\u001b[39m\"\u001b[39m\u001b[39mNo valid \u001b[39m\u001b[39m'\u001b[39m\u001b[39mfill_value\u001b[39m\u001b[39m'\u001b[39m\u001b[39m provided\u001b[39m\u001b[39m\"\u001b[39m)\n\u001b[0;32m    <a href='file:///c%3A/ProgramData/Anaconda3/envs/my-env/lib/site-packages/torch_geometric/utils/loop.py?line=222'>223</a>\u001b[0m     inv_mask \u001b[39m=\u001b[39m \u001b[39m~\u001b[39mmask\n\u001b[1;32m--> <a href='file:///c%3A/ProgramData/Anaconda3/envs/my-env/lib/site-packages/torch_geometric/utils/loop.py?line=223'>224</a>\u001b[0m     loop_attr[edge_index[\u001b[39m0\u001b[39m][inv_mask]] \u001b[39m=\u001b[39m edge_attr[inv_mask]\n\u001b[0;32m    <a href='file:///c%3A/ProgramData/Anaconda3/envs/my-env/lib/site-packages/torch_geometric/utils/loop.py?line=225'>226</a>\u001b[0m     edge_attr \u001b[39m=\u001b[39m torch\u001b[39m.\u001b[39mcat([edge_attr[mask], loop_attr], dim\u001b[39m=\u001b[39m\u001b[39m0\u001b[39m)\n\u001b[0;32m    <a href='file:///c%3A/ProgramData/Anaconda3/envs/my-env/lib/site-packages/torch_geometric/utils/loop.py?line=227'>228</a>\u001b[0m edge_index \u001b[39m=\u001b[39m torch\u001b[39m.\u001b[39mcat([edge_index[:, mask], loop_index], dim\u001b[39m=\u001b[39m\u001b[39m1\u001b[39m)\n",
      "\u001b[1;31mKeyboardInterrupt\u001b[0m: "
     ]
    }
   ],
   "source": [
    "epochs = 10\n",
    "for t in range(epochs):\n",
    "    print(f\"Epoch {t+1}\\n-------------------------------\")\n",
    "    train_loop(dataloader, model, loss_fn, optimizer)\n",
    "print(\"Done!\")"
   ]
  },
  {
   "cell_type": "code",
   "execution_count": null,
   "id": "d9a6f9e8-75e9-443e-a16f-89322e61bbea",
   "metadata": {},
   "outputs": [],
   "source": [
    "pred = (model(dataloader.dataset[0]['x'], dataloader.dataset[0]['edge_index'])- norm_inter[0]) / (norm_inter[1] - norm_inter[0]) * (u_max[0] - u_min[0]) + u_min[0]\n",
    "pred = torch.tensor(pred[:, 0])\n",
    "torch.set_printoptions(profile = \"full\")\n",
    "pred"
   ]
  },
  {
   "cell_type": "code",
   "execution_count": null,
   "id": "5012a585",
   "metadata": {},
   "outputs": [],
   "source": [
    "true = ((data_list[0].y) - norm_inter[0]) / (norm_inter[1] - norm_inter[0]) * (u_max[0] - u_min[0]) + u_min[0]\n",
    "true= torch.tensor(true[:, 0])\n",
    "print(true)"
   ]
  },
  {
   "cell_type": "code",
   "execution_count": null,
   "id": "f5dd3f27",
   "metadata": {},
   "outputs": [],
   "source": [
    "error = abs(true - pred)\n",
    "error.mean()"
   ]
  },
  {
   "cell_type": "code",
   "execution_count": null,
   "id": "b9c2626b",
   "metadata": {},
   "outputs": [],
   "source": [
    "# plots a finite element mesh\n",
    "def plot_fem_mesh(nodes_x, nodes_y, elements):\n",
    "    for element in elements:\n",
    "        x = [nodes_x[element[i]] for i in range(len(element))]\n",
    "        y = [nodes_y[element[i]] for i in range(len(element))]\n",
    "        plt.fill(x, y, edgecolor='black', fill=False, linewidth='0.5')\n",
    "\n",
    "# FEM data\n",
    "nodes_x = dataloader.dataset[0]['pos'][:,0]\n",
    "nodes_y = dataloader.dataset[0]['pos'][:,1]\n",
    "nodal_values = pred # loaded_features[0][:, 0]\n",
    "elements = np.load(folder+\"/triangles.npy\")\n",
    "triangulation = tri.Triangulation(nodes_x, nodes_y, elements)\n",
    "print(nodes_x.size(), nodes_y.size(), nodal_values.size())\n",
    "\n",
    "# plot the contours\n",
    "plt.tricontourf(triangulation,  nodal_values)\n",
    "\n",
    "# plot the finite element mesh\n",
    "plot_fem_mesh(nodes_x, nodes_y, elements)\n",
    "\n",
    "# show\n",
    "plt.colorbar()\n",
    "plt.axis('equal')\n",
    "plt.show()"
   ]
  },
  {
   "cell_type": "code",
   "execution_count": null,
   "id": "c2364044-ccd4-47a8-b709-510d8eaefdd8",
   "metadata": {},
   "outputs": [],
   "source": [
    "# plots a finite element mesh\n",
    "def plot_fem_mesh(nodes_x, nodes_y, elements):\n",
    "    for element in elements:\n",
    "        x = [nodes_x[element[i]] for i in range(len(element))]\n",
    "        y = [nodes_y[element[i]] for i in range(len(element))]\n",
    "        plt.fill(x, y, edgecolor='black', fill=False, linewidth='0.5')\n",
    "\n",
    "# FEM data\n",
    "nodes_x = dataloader.dataset[0]['pos'][:,0]\n",
    "nodes_y = dataloader.dataset[0]['pos'][:,1]\n",
    "nodal_values = true # loaded_features[0][:, 0]\n",
    "elements = np.load(folder+\"/triangles.npy\")\n",
    "triangulation = tri.Triangulation(nodes_x, nodes_y, elements)\n",
    "print(nodes_x.size(), nodes_y.size(), nodal_values.size())\n",
    "\n",
    "# plot the contours\n",
    "plt.tricontourf(triangulation,  nodal_values)\n",
    "\n",
    "# plot the finite element mesh\n",
    "plot_fem_mesh(nodes_x, nodes_y, elements)\n",
    "\n",
    "# show\n",
    "plt.colorbar()\n",
    "plt.axis('equal')\n",
    "plt.show()"
   ]
  }
 ],
 "metadata": {
  "interpreter": {
   "hash": "bc314c7c43e8764a7958de0f3e33c01b860bffeaa46e5caa6fb3102d8099b44a"
  },
  "kernelspec": {
   "display_name": "Python 3 (ipykernel)",
   "language": "python",
   "name": "python3"
  },
  "language_info": {
   "codemirror_mode": {
    "name": "ipython",
    "version": 3
   },
   "file_extension": ".py",
   "mimetype": "text/x-python",
   "name": "python",
   "nbconvert_exporter": "python",
   "pygments_lexer": "ipython3",
   "version": "3.8.13"
  }
 },
 "nbformat": 4,
 "nbformat_minor": 5
}
