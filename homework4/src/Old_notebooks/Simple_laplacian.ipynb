{
 "cells": [
  {
   "cell_type": "code",
   "execution_count": 40,
   "id": "33fcac96-b4e6-45cb-97b2-2e0fa12665c1",
   "metadata": {},
   "outputs": [],
   "source": [
    "import graph as gr\n",
    "import numpy as np\n",
    "import networkx as nx\n",
    "\n",
    "import torch\n",
    "torch.manual_seed(12121998)\n",
    "import torch.nn.functional as F\n",
    "\n",
    "from torch_geometric.data import Data\n",
    "from torch_geometric.loader import DataLoader\n",
    "from torch_geometric.nn import GCNConv\n",
    "from torch_geometric.nn.models import basic_gnn as torch_models\n",
    "\n",
    "import matplotlib.pyplot as plt\n",
    "import matplotlib.tri as tri"
   ]
  },
  {
   "cell_type": "markdown",
   "id": "2b34fe3c-4e5a-46b2-9dc5-f00e232b8138",
   "metadata": {},
   "source": [
    "# Creating Dataset"
   ]
  },
  {
   "cell_type": "code",
   "execution_count": 2,
   "id": "062abdd8-315d-43de-ac60-8c756a5f9105",
   "metadata": {},
   "outputs": [],
   "source": [
    "# Macros\n",
    "\n",
    "NORMALIZE_TARGET_FLAG = True # normalize output between 0 and 1!\n",
    "\n",
    "COORDINATES_FEATURE_FLAG = True # If true also position is used as feature!"
   ]
  },
  {
   "cell_type": "code",
   "execution_count": 3,
   "id": "874a8f99-5725-483f-a27b-186fad82d7ab",
   "metadata": {},
   "outputs": [],
   "source": [
    "# FILENAMES AND FILEPATH\n",
    "\n",
    "# mesh name\n",
    "mesh_filename = \"simple_laplacian_mesh\"\n",
    "\n",
    "## target filepaths\n",
    "target_filepaths = [\"../mesh/simple_laplacian_u.txt\"] # you can add other targets\n",
    "\n",
    "## feature filepaths \n",
    "feature_filepaths = [\"../mesh/simple_laplacian_f.txt\"]"
   ]
  },
  {
   "cell_type": "code",
   "execution_count": 4,
   "id": "ab1d6ff9-1e09-4c84-bf97-59e7f881fbaa",
   "metadata": {},
   "outputs": [],
   "source": [
    "folder = gr.import_mesh(mesh_filename)\n",
    "\n",
    "loaded_graph = gr.build_graph(folder)\n",
    "\n",
    "loaded_adj = gr.build_adjacency(loaded_graph, folder)\n",
    "\n",
    "loaded_targets = [torch.tensor(0)] * len(target_filepaths)\n",
    "for i, data in enumerate(target_filepaths):\n",
    "    loaded_targets[i] = torch.tensor(gr.import_features(data)).double()\n",
    "\n",
    "loaded_features = [torch.tensor(0)] * len(feature_filepaths)\n",
    "for i, data in enumerate(feature_filepaths):\n",
    "    loaded_features[i] = torch.tensor(gr.import_features(data)).double()\n",
    "\n",
    "\n",
    "if NORMALIZE_TARGET_FLAG:\n",
    "    u_max = [-1] * len(loaded_targets)\n",
    "    u_min = [-1] * len(loaded_targets)\n",
    "    for i, data in enumerate(loaded_targets):\n",
    "        u_max[i] = data.max()\n",
    "        u_min[i] = data.min()\n",
    "        loaded_targets[i] = (data - u_min[i]) / (u_max[i] - u_min[i])  \n",
    "\n",
    "\n",
    "TOT_SAMPLES = loaded_targets[0].shape[1]\n",
    "\n",
    "## TEMPORARY: COMPUTE f = -6*(x+y)*t on Python. It should be done on that shit of FREEFEM++\n",
    "\n",
    "# loaded_features = []\n",
    "\n",
    "# # t samples (DOUBLE CHECK WHAT YOU HAVE FIXED ON FREEFEM!!)\n",
    "# t_min = 0.5\n",
    "# t_max = 1.5\n",
    "# n_steps = 1000\n",
    "\n",
    "# assert n_steps == loaded_targets[0].size()[1]\n",
    "\n",
    "# t_samples = torch.linspace(t_min, t_max, n_steps)\n",
    "\n",
    "# def fun(x,y,t):\n",
    "#     return -6*(x+y)*t\n",
    "\n",
    "# # coordinates\n",
    "# pos = torch.hstack( (\n",
    "#                         torch.unsqueeze(torch.tensor(list(nx.get_node_attributes(loaded_graph, 'x').values())), 1 ),\n",
    "#                         torch.unsqueeze(torch.tensor(list(nx.get_node_attributes(loaded_graph, 'y').values())), 1 ) \n",
    "#                     )\n",
    "#                   ).double()\n",
    "\n",
    "# num_nodes = loaded_targets[0].size()[0]\n",
    "\n",
    "# f_features = torch.zeros([num_nodes, n_steps])\n",
    "\n",
    "# for j in range(n_steps):\n",
    "#     for i, xy in enumerate(pos):\n",
    "#         f_features[i][j] = fun(xy[0], xy[1], t_samples[j])\n",
    "\n",
    "# loaded_features.append(f_features)"
   ]
  },
  {
   "cell_type": "code",
   "execution_count": 5,
   "id": "1ccb9c11-6c61-471c-8091-abeb5542a4bd",
   "metadata": {},
   "outputs": [],
   "source": [
    "## Creating torch DATASET (see torch_geometric.data)\n",
    "\n",
    "# will be used to create the complete dataset\n",
    "data_list = [torch.tensor(0)] * TOT_SAMPLES\n",
    "\n",
    "# INITIALIZING COMMON PROPERTIES TO ALL GRAPHS\n",
    "\n",
    "# Graph connectivity (# use t().contiguous() ...)\n",
    "edge_index = torch.tensor([ [i,j] for i in range(loaded_adj.shape[0]) for j in range(loaded_adj.shape[1]) if loaded_adj[i,j]>0 ])\n",
    "\n",
    "# Node position matrix ( ACTUALLY, IT SHOULD NOT BE NEEDED SINCE IT'S CONSTANT ... )\n",
    "# check whether pos is used in the training or not. In the second case it's useless for dynamic meshes\n",
    "pos = torch.hstack( (\n",
    "                        torch.unsqueeze(torch.tensor(list(nx.get_node_attributes(loaded_graph, 'x').values())), 1 ),\n",
    "                        torch.unsqueeze(torch.tensor(list(nx.get_node_attributes(loaded_graph, 'y').values())), 1 ) \n",
    "                    )\n",
    "                  ).double()\n",
    "\n",
    "# INITIALIZING THE DIFFERENT GRAPHS\n",
    "\n",
    "for t in range(TOT_SAMPLES):\n",
    "    \n",
    "    ## Node feature matrix\n",
    "    \n",
    "    # first feature (type of node)\n",
    "    x = torch.unsqueeze(torch.tensor(list(nx.get_node_attributes(loaded_graph, 'n').values())), 1).double()\n",
    "    \n",
    "    # other features (forcing f values)\n",
    "    [x := torch.hstack((x, loaded_features[j][:, t][:, None])) for j in range(len(loaded_features))]\n",
    "    \n",
    "    if COORDINATES_FEATURE_FLAG:\n",
    "        torch.hstack((x, pos))\n",
    "    \n",
    "    ## Node-level ground-truth labels (heat)\n",
    "    \n",
    "    \n",
    "    # first feature (pression or velocity or ...)\n",
    "    y = loaded_targets[0][:, t][:, None]\n",
    "    \n",
    "    # other features (pression, velocities, ...)\n",
    "    [y := torch.hstack((y, loaded_targets[j][:, t][:, None])) for j in range(1,len(loaded_targets))]\n",
    "\n",
    "    data_list[t] = Data(x=x, edge_index=edge_index.t().contiguous(), y=y, pos=pos)"
   ]
  },
  {
   "cell_type": "code",
   "execution_count": 6,
   "id": "fd308b30-4e61-4316-8ad8-5f9a99e79d43",
   "metadata": {},
   "outputs": [],
   "source": [
    "batch_size_data = 32\n",
    "dataloader = DataLoader(data_list, batch_size = batch_size_data, shuffle = True)"
   ]
  },
  {
   "cell_type": "code",
   "execution_count": null,
   "id": "96d2569d",
   "metadata": {},
   "outputs": [],
   "source": [
    "dataloader.dataset"
   ]
  },
  {
   "cell_type": "markdown",
   "id": "ea050888-c50f-4b94-b956-0f90f1efaae6",
   "metadata": {},
   "source": [
    "# Model"
   ]
  },
  {
   "cell_type": "code",
   "execution_count": 8,
   "id": "46d59ad4-b8df-43c7-afda-9cd88084e4fb",
   "metadata": {},
   "outputs": [],
   "source": [
    "# class GCN(torch.nn.Module):\n",
    "    \n",
    "#     def __init__(self):\n",
    "#         super().__init__()\n",
    "#         self.conv1 = GCNConv(dataloader.dataset[0].num_node_features, 2)\n",
    "#         self.conv2 = GCNConv(2, 1)\n",
    "\n",
    "\n",
    "#     def forward(self, x, edge_index):\n",
    "#      \n",
    "#         x = self.conv1(x, edge_index)\n",
    "#         x = F.relu(x)\n",
    "#         x = self.conv2(x, edge_index)\n",
    "#         x = F.tanh(x)\n",
    "\n",
    "#         return x\n",
    "\n",
    "# model = GCN().double()"
   ]
  },
  {
   "cell_type": "code",
   "execution_count": 24,
   "id": "29323cc1-c052-4219-ba7a-2f75a0f3f1f4",
   "metadata": {},
   "outputs": [],
   "source": [
    "model = torch_models.GCN(\n",
    "    in_channels = dataloader.dataset[0].num_node_features,\n",
    "    hidden_channels=4,\n",
    "    num_layers=5,\n",
    "    out_channels=1,\n",
    "    act = \"tanh\"\n",
    "    ).double()"
   ]
  },
  {
   "cell_type": "code",
   "execution_count": 25,
   "id": "9f3b84dd-4753-4767-b9b5-ec4710fd07fb",
   "metadata": {},
   "outputs": [],
   "source": [
    "learning_rate = 1e-3\n",
    "\n",
    "loss_fn = torch.nn.MSELoss()\n",
    "\n",
    "optimizer = torch.optim.Adam(model.parameters(), lr=learning_rate, weight_decay=1e-5)"
   ]
  },
  {
   "cell_type": "code",
   "execution_count": 27,
   "id": "e773fda9-5c3a-41ca-ab19-48a46fd4394e",
   "metadata": {},
   "outputs": [],
   "source": [
    "def train_loop(dataloader, model, loss_fn, optimizer):\n",
    "    size = len(dataloader.dataset)\n",
    "    loss = 0\n",
    "    for batch, data in enumerate(dataloader):\n",
    "        # Compute prediction and loss\n",
    "        pred = model(data.x, data.edge_index)\n",
    "        loss = loss_fn(pred, data.y)\n",
    "\n",
    "        # Backpropagation\n",
    "        optimizer.zero_grad()\n",
    "        loss.backward()\n",
    "        optimizer.step()\n",
    "\n",
    "        loss += loss.item()\n",
    "    print(f\"loss: {loss/len(dataloader):>7f}\")"
   ]
  },
  {
   "cell_type": "code",
   "execution_count": 28,
   "id": "dd6cfd69-651a-4baa-9610-efb2097946a6",
   "metadata": {},
   "outputs": [
    {
     "name": "stdout",
     "output_type": "stream",
     "text": [
      "Epoch 1\n",
      "-------------------------------\n",
      "loss: 0.000813\n",
      "Epoch 2\n",
      "-------------------------------\n",
      "loss: 0.000924\n",
      "Epoch 3\n",
      "-------------------------------\n",
      "loss: 0.000229\n",
      "Epoch 4\n",
      "-------------------------------\n",
      "loss: 0.000452\n",
      "Epoch 5\n",
      "-------------------------------\n",
      "loss: 0.000311\n",
      "Epoch 6\n",
      "-------------------------------\n",
      "loss: 0.000420\n",
      "Epoch 7\n",
      "-------------------------------\n",
      "loss: 0.000240\n",
      "Epoch 8\n",
      "-------------------------------\n",
      "loss: 0.000177\n",
      "Epoch 9\n",
      "-------------------------------\n",
      "loss: 0.000163\n",
      "Epoch 10\n",
      "-------------------------------\n",
      "loss: 0.000221\n",
      "Epoch 11\n",
      "-------------------------------\n",
      "loss: 0.000142\n",
      "Epoch 12\n",
      "-------------------------------\n",
      "loss: 0.000209\n",
      "Epoch 13\n",
      "-------------------------------\n",
      "loss: 0.000232\n",
      "Epoch 14\n",
      "-------------------------------\n",
      "loss: 0.000166\n",
      "Epoch 15\n",
      "-------------------------------\n",
      "loss: 0.000149\n",
      "Epoch 16\n",
      "-------------------------------\n",
      "loss: 0.000208\n",
      "Epoch 17\n",
      "-------------------------------\n",
      "loss: 0.000111\n",
      "Epoch 18\n",
      "-------------------------------\n",
      "loss: 0.000167\n",
      "Epoch 19\n",
      "-------------------------------\n",
      "loss: 0.000145\n",
      "Epoch 20\n",
      "-------------------------------\n",
      "loss: 0.000167\n",
      "Epoch 21\n",
      "-------------------------------\n",
      "loss: 0.000099\n",
      "Epoch 22\n",
      "-------------------------------\n",
      "loss: 0.000133\n",
      "Epoch 23\n",
      "-------------------------------\n",
      "loss: 0.000126\n",
      "Epoch 24\n",
      "-------------------------------\n",
      "loss: 0.000137\n",
      "Epoch 25\n",
      "-------------------------------\n",
      "loss: 0.000127\n",
      "Epoch 26\n",
      "-------------------------------\n",
      "loss: 0.000182\n",
      "Epoch 27\n",
      "-------------------------------\n",
      "loss: 0.000173\n",
      "Epoch 28\n",
      "-------------------------------\n",
      "loss: 0.000135\n",
      "Epoch 29\n",
      "-------------------------------\n",
      "loss: 0.000108\n",
      "Epoch 30\n",
      "-------------------------------\n",
      "loss: 0.000114\n",
      "Done!\n"
     ]
    }
   ],
   "source": [
    "epochs = 30\n",
    "for t in range(epochs):\n",
    "    print(f\"Epoch {t+1}\\n-------------------------------\")\n",
    "    train_loop(dataloader, model, loss_fn, optimizer)\n",
    "print(\"Done!\")"
   ]
  },
  {
   "cell_type": "code",
   "execution_count": 68,
   "id": "d9a6f9e8-75e9-443e-a16f-89322e61bbea",
   "metadata": {},
   "outputs": [
    {
     "name": "stdout",
     "output_type": "stream",
     "text": [
      "tensor(2.9075, dtype=torch.float64)\n"
     ]
    },
    {
     "name": "stderr",
     "output_type": "stream",
     "text": [
      "C:\\Users\\andre\\AppData\\Local\\Temp\\ipykernel_15644\\2088510003.py:2: UserWarning: To copy construct from a tensor, it is recommended to use sourceTensor.clone().detach() or sourceTensor.clone().detach().requires_grad_(True), rather than torch.tensor(sourceTensor).\n",
      "  pred = torch.tensor(pred[:, 0])\n"
     ]
    }
   ],
   "source": [
    "pred = (model(dataloader.dataset[0]['x'], dataloader.dataset[0]['edge_index']) ) * (u_max[0] - u_min[0]) + u_min[0]\n",
    "pred = torch.tensor(pred[:, 0])\n",
    "print(pred.max())"
   ]
  },
  {
   "cell_type": "code",
   "execution_count": 69,
   "id": "5012a585",
   "metadata": {},
   "outputs": [
    {
     "name": "stdout",
     "output_type": "stream",
     "text": [
      "tensor([1.0000, 1.0000, 1.0002,  ..., 2.8249, 2.9101, 3.0010],\n",
      "       dtype=torch.float64)\n"
     ]
    },
    {
     "name": "stderr",
     "output_type": "stream",
     "text": [
      "C:\\Users\\andre\\AppData\\Local\\Temp\\ipykernel_15644\\3297123562.py:2: UserWarning: To copy construct from a tensor, it is recommended to use sourceTensor.clone().detach() or sourceTensor.clone().detach().requires_grad_(True), rather than torch.tensor(sourceTensor).\n",
      "  true= torch.tensor(true[:, 0])\n"
     ]
    }
   ],
   "source": [
    "true = (data_list[0].y) * (u_max[0] - u_min[0]) + u_min[0]\n",
    "true= torch.tensor(true[:, 0])\n",
    "print(true)"
   ]
  },
  {
   "cell_type": "code",
   "execution_count": 71,
   "id": "f5dd3f27",
   "metadata": {},
   "outputs": [
    {
     "name": "stdout",
     "output_type": "stream",
     "text": [
      "tensor([0.0515, 0.0031, 0.0503,  ..., 0.1831, 0.1945, 0.4139],\n",
      "       dtype=torch.float64)\n",
      "tensor(0.0002, dtype=torch.float64) tensor(0.4422, dtype=torch.float64)\n"
     ]
    }
   ],
   "source": [
    "error = abs(true - pred)\n",
    "print(error)\n",
    "print(error.min(), error.max())\n",
    "\n"
   ]
  },
  {
   "cell_type": "code",
   "execution_count": 72,
   "id": "b9c2626b",
   "metadata": {},
   "outputs": [
    {
     "name": "stdout",
     "output_type": "stream",
     "text": [
      "torch.Size([1089]) torch.Size([1089]) torch.Size([1089])\n"
     ]
    },
    {
     "data": {
      "image/png": "[encoded data removed]",
      "text/plain": [
       "<Figure size 432x288 with 2 Axes>"
      ]
     },
     "metadata": {
      "needs_background": "light"
     },
     "output_type": "display_data"
    }
   ],
   "source": [
    "# plots a finite element mesh\n",
    "def plot_fem_mesh(nodes_x, nodes_y, elements):\n",
    "    for element in elements:\n",
    "        x = [nodes_x[element[i]] for i in range(len(element))]\n",
    "        y = [nodes_y[element[i]] for i in range(len(element))]\n",
    "        plt.fill(x, y, edgecolor='black', fill=False, linewidth='0.5')\n",
    "\n",
    "# FEM data\n",
    "nodes_x = dataloader.dataset[0]['pos'][:,0]\n",
    "nodes_y = dataloader.dataset[0]['pos'][:,1]\n",
    "nodal_values = pred # loaded_features[0][:, 0]\n",
    "elements = np.load(folder+\"/triangles.npy\")\n",
    "triangulation = tri.Triangulation(nodes_x, nodes_y, elements)\n",
    "print(nodes_x.size(), nodes_y.size(), nodal_values.size())\n",
    "\n",
    "# plot the contours\n",
    "plt.tricontourf(triangulation,  nodal_values)\n",
    "\n",
    "# plot the finite element mesh\n",
    "plot_fem_mesh(nodes_x, nodes_y, elements)\n",
    "\n",
    "# show\n",
    "plt.colorbar()\n",
    "plt.axis('equal')\n",
    "plt.show()"
   ]
  }
 ],
 "metadata": {
  "interpreter": {
   "hash": "bc314c7c43e8764a7958de0f3e33c01b860bffeaa46e5caa6fb3102d8099b44a"
  },
  "kernelspec": {
   "display_name": "Python 3 (ipykernel)",
   "language": "python",
   "name": "python3"
  },
  "language_info": {
   "codemirror_mode": {
    "name": "ipython",
    "version": 3
   },
   "file_extension": ".py",
   "mimetype": "text/x-python",
   "name": "python",
   "nbconvert_exporter": "python",
   "pygments_lexer": "ipython3",
   "version": "3.8.13"
  }
 },
 "nbformat": 4,
 "nbformat_minor": 5
}
